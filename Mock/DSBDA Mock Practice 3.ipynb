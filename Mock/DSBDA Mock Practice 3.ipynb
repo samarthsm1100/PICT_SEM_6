{
 "cells": [
  {
   "cell_type": "code",
   "execution_count": 1,
   "id": "f4a61dc7",
   "metadata": {},
   "outputs": [],
   "source": [
    "import pandas as pd\n",
    "import numpy as np\n",
    "import seaborn as sns\n",
    "import matplotlib.pyplot as plt"
   ]
  },
  {
   "cell_type": "code",
   "execution_count": 2,
   "id": "f8609873",
   "metadata": {},
   "outputs": [],
   "source": [
    "df = pd.read_csv('Iris.csv')"
   ]
  },
  {
   "cell_type": "code",
   "execution_count": 3,
   "id": "5ecb28f7",
   "metadata": {},
   "outputs": [
    {
     "data": {
      "text/html": [
       "<div>\n",
       "<style scoped>\n",
       "    .dataframe tbody tr th:only-of-type {\n",
       "        vertical-align: middle;\n",
       "    }\n",
       "\n",
       "    .dataframe tbody tr th {\n",
       "        vertical-align: top;\n",
       "    }\n",
       "\n",
       "    .dataframe thead th {\n",
       "        text-align: right;\n",
       "    }\n",
       "</style>\n",
       "<table border=\"1\" class=\"dataframe\">\n",
       "  <thead>\n",
       "    <tr style=\"text-align: right;\">\n",
       "      <th></th>\n",
       "      <th>Id</th>\n",
       "      <th>SepalLengthCm</th>\n",
       "      <th>SepalWidthCm</th>\n",
       "      <th>PetalLengthCm</th>\n",
       "      <th>PetalWidthCm</th>\n",
       "      <th>Species</th>\n",
       "    </tr>\n",
       "  </thead>\n",
       "  <tbody>\n",
       "    <tr>\n",
       "      <th>0</th>\n",
       "      <td>1</td>\n",
       "      <td>5.1</td>\n",
       "      <td>3.5</td>\n",
       "      <td>1.4</td>\n",
       "      <td>0.2</td>\n",
       "      <td>Iris-setosa</td>\n",
       "    </tr>\n",
       "    <tr>\n",
       "      <th>1</th>\n",
       "      <td>2</td>\n",
       "      <td>4.9</td>\n",
       "      <td>3.0</td>\n",
       "      <td>1.4</td>\n",
       "      <td>0.2</td>\n",
       "      <td>Iris-setosa</td>\n",
       "    </tr>\n",
       "    <tr>\n",
       "      <th>2</th>\n",
       "      <td>3</td>\n",
       "      <td>4.7</td>\n",
       "      <td>3.2</td>\n",
       "      <td>1.3</td>\n",
       "      <td>0.2</td>\n",
       "      <td>Iris-setosa</td>\n",
       "    </tr>\n",
       "    <tr>\n",
       "      <th>3</th>\n",
       "      <td>4</td>\n",
       "      <td>4.6</td>\n",
       "      <td>3.1</td>\n",
       "      <td>1.5</td>\n",
       "      <td>0.2</td>\n",
       "      <td>Iris-setosa</td>\n",
       "    </tr>\n",
       "    <tr>\n",
       "      <th>4</th>\n",
       "      <td>5</td>\n",
       "      <td>5.0</td>\n",
       "      <td>3.6</td>\n",
       "      <td>1.4</td>\n",
       "      <td>0.2</td>\n",
       "      <td>Iris-setosa</td>\n",
       "    </tr>\n",
       "  </tbody>\n",
       "</table>\n",
       "</div>"
      ],
      "text/plain": [
       "   Id  SepalLengthCm  SepalWidthCm  PetalLengthCm  PetalWidthCm      Species\n",
       "0   1            5.1           3.5            1.4           0.2  Iris-setosa\n",
       "1   2            4.9           3.0            1.4           0.2  Iris-setosa\n",
       "2   3            4.7           3.2            1.3           0.2  Iris-setosa\n",
       "3   4            4.6           3.1            1.5           0.2  Iris-setosa\n",
       "4   5            5.0           3.6            1.4           0.2  Iris-setosa"
      ]
     },
     "execution_count": 3,
     "metadata": {},
     "output_type": "execute_result"
    }
   ],
   "source": [
    "df.head()"
   ]
  },
  {
   "cell_type": "code",
   "execution_count": 4,
   "id": "eaacbae4",
   "metadata": {},
   "outputs": [
    {
     "name": "stdout",
     "output_type": "stream",
     "text": [
      "<class 'pandas.core.frame.DataFrame'>\n",
      "RangeIndex: 150 entries, 0 to 149\n",
      "Data columns (total 6 columns):\n",
      " #   Column         Non-Null Count  Dtype  \n",
      "---  ------         --------------  -----  \n",
      " 0   Id             150 non-null    int64  \n",
      " 1   SepalLengthCm  150 non-null    float64\n",
      " 2   SepalWidthCm   150 non-null    float64\n",
      " 3   PetalLengthCm  150 non-null    float64\n",
      " 4   PetalWidthCm   150 non-null    float64\n",
      " 5   Species        150 non-null    object \n",
      "dtypes: float64(4), int64(1), object(1)\n",
      "memory usage: 7.2+ KB\n"
     ]
    }
   ],
   "source": [
    "df.info()"
   ]
  },
  {
   "cell_type": "code",
   "execution_count": 7,
   "id": "eb14d8e2",
   "metadata": {},
   "outputs": [
    {
     "data": {
      "text/plain": [
       "Id               0\n",
       "SepalLengthCm    0\n",
       "SepalWidthCm     0\n",
       "PetalLengthCm    0\n",
       "PetalWidthCm     0\n",
       "Species          0\n",
       "dtype: int64"
      ]
     },
     "execution_count": 7,
     "metadata": {},
     "output_type": "execute_result"
    }
   ],
   "source": [
    "df.isnull().sum()"
   ]
  },
  {
   "cell_type": "code",
   "execution_count": 17,
   "id": "2b479c70",
   "metadata": {},
   "outputs": [
    {
     "data": {
      "text/plain": [
       "Iris-setosa        50\n",
       "Iris-versicolor    50\n",
       "Iris-virginica     50\n",
       "Name: Species, dtype: int64"
      ]
     },
     "execution_count": 17,
     "metadata": {},
     "output_type": "execute_result"
    }
   ],
   "source": [
    "df['Species'].value_counts()"
   ]
  },
  {
   "cell_type": "code",
   "execution_count": 27,
   "id": "1d8f4578",
   "metadata": {},
   "outputs": [],
   "source": [
    "species = df['Species'].unique()\n",
    "numeric = df.select_dtypes(include='float64')"
   ]
  },
  {
   "cell_type": "code",
   "execution_count": 20,
   "id": "7b54a8b8",
   "metadata": {},
   "outputs": [],
   "source": [
    "group = df.groupby('Species')"
   ]
  },
  {
   "cell_type": "code",
   "execution_count": 33,
   "id": "47490e3a",
   "metadata": {},
   "outputs": [
    {
     "name": "stdout",
     "output_type": "stream",
     "text": [
      "\n",
      "Species :  Iris-setosa \n",
      "\n",
      "             Id  SepalLengthCm  SepalWidthCm  PetalLengthCm  PetalWidthCm\n",
      "count  50.00000       50.00000     50.000000      50.000000      50.00000\n",
      "mean   25.50000        5.00600      3.418000       1.464000       0.24400\n",
      "std    14.57738        0.35249      0.381024       0.173511       0.10721\n",
      "min     1.00000        4.30000      2.300000       1.000000       0.10000\n",
      "25%    13.25000        4.80000      3.125000       1.400000       0.20000\n",
      "50%    25.50000        5.00000      3.400000       1.500000       0.20000\n",
      "75%    37.75000        5.20000      3.675000       1.575000       0.30000\n",
      "max    50.00000        5.80000      4.400000       1.900000       0.60000\n",
      "\n",
      "Species :  Iris-versicolor \n",
      "\n",
      "              Id  SepalLengthCm  SepalWidthCm  PetalLengthCm  PetalWidthCm\n",
      "count   50.00000      50.000000     50.000000      50.000000     50.000000\n",
      "mean    75.50000       5.936000      2.770000       4.260000      1.326000\n",
      "std     14.57738       0.516171      0.313798       0.469911      0.197753\n",
      "min     51.00000       4.900000      2.000000       3.000000      1.000000\n",
      "25%     63.25000       5.600000      2.525000       4.000000      1.200000\n",
      "50%     75.50000       5.900000      2.800000       4.350000      1.300000\n",
      "75%     87.75000       6.300000      3.000000       4.600000      1.500000\n",
      "max    100.00000       7.000000      3.400000       5.100000      1.800000\n",
      "\n",
      "Species :  Iris-virginica \n",
      "\n",
      "              Id  SepalLengthCm  SepalWidthCm  PetalLengthCm  PetalWidthCm\n",
      "count   50.00000       50.00000     50.000000      50.000000      50.00000\n",
      "mean   125.50000        6.58800      2.974000       5.552000       2.02600\n",
      "std     14.57738        0.63588      0.322497       0.551895       0.27465\n",
      "min    101.00000        4.90000      2.200000       4.500000       1.40000\n",
      "25%    113.25000        6.22500      2.800000       5.100000       1.80000\n",
      "50%    125.50000        6.50000      3.000000       5.550000       2.00000\n",
      "75%    137.75000        6.90000      3.175000       5.875000       2.30000\n",
      "max    150.00000        7.90000      3.800000       6.900000       2.50000\n"
     ]
    }
   ],
   "source": [
    "for s in species:\n",
    "    individual_species = group.get_group(s)\n",
    "    print('\\nSpecies : ', s, '\\n')\n",
    "    print(individual_species.describe())"
   ]
  },
  {
   "cell_type": "code",
   "execution_count": 36,
   "id": "53287c67",
   "metadata": {},
   "outputs": [],
   "source": [
    "def statistic(data):\n",
    "    mean = sum(data) / len(data)\n",
    "    variance = (sum((x-mean)**2 for x in data))/(len(data)-1)\n",
    "    std = variance ** 0.5\n",
    "    print('Mean : ', mean)\n",
    "    print('Variance : ', variance)\n",
    "    print('Standard Deviation : ', std)"
   ]
  },
  {
   "cell_type": "code",
   "execution_count": 39,
   "id": "4efa40e8",
   "metadata": {},
   "outputs": [
    {
     "name": "stdout",
     "output_type": "stream",
     "text": [
      "\n",
      " Iris-setosa  -  SepalLengthCm \n",
      "\n",
      "Mean :  5.005999999999999\n",
      "Variance :  0.12424897959183666\n",
      "Standard Deviation :  0.3524896872134512\n",
      "\n",
      " Iris-setosa  -  SepalWidthCm \n",
      "\n",
      "Mean :  3.4180000000000006\n",
      "Variance :  0.1451795918367347\n",
      "Standard Deviation :  0.38102439795469095\n",
      "\n",
      " Iris-setosa  -  PetalLengthCm \n",
      "\n",
      "Mean :  1.464\n",
      "Variance :  0.030106122448979603\n",
      "Standard Deviation :  0.1735111594364455\n",
      "\n",
      " Iris-setosa  -  PetalWidthCm \n",
      "\n",
      "Mean :  0.2439999999999999\n",
      "Variance :  0.011493877551020404\n",
      "Standard Deviation :  0.10720950308167837\n",
      "\n",
      " Iris-versicolor  -  SepalLengthCm \n",
      "\n",
      "Mean :  5.936\n",
      "Variance :  0.2664326530612246\n",
      "Standard Deviation :  0.5161711470638635\n",
      "\n",
      " Iris-versicolor  -  SepalWidthCm \n",
      "\n",
      "Mean :  2.7700000000000005\n",
      "Variance :  0.09846938775510206\n",
      "Standard Deviation :  0.3137983233784114\n",
      "\n",
      " Iris-versicolor  -  PetalLengthCm \n",
      "\n",
      "Mean :  4.26\n",
      "Variance :  0.22081632653061237\n",
      "Standard Deviation :  0.46991097723995806\n",
      "\n",
      " Iris-versicolor  -  PetalWidthCm \n",
      "\n",
      "Mean :  1.3259999999999998\n",
      "Variance :  0.039106122448979576\n",
      "Standard Deviation :  0.197752680004544\n",
      "\n",
      " Iris-virginica  -  SepalLengthCm \n",
      "\n",
      "Mean :  6.587999999999998\n",
      "Variance :  0.40434285714285706\n",
      "Standard Deviation :  0.635879593274432\n",
      "\n",
      " Iris-virginica  -  SepalWidthCm \n",
      "\n",
      "Mean :  2.9739999999999998\n",
      "Variance :  0.10400408163265312\n",
      "Standard Deviation :  0.3224966381726376\n",
      "\n",
      " Iris-virginica  -  PetalLengthCm \n",
      "\n",
      "Mean :  5.552\n",
      "Variance :  0.304587755102041\n",
      "Standard Deviation :  0.5518946956639835\n",
      "\n",
      " Iris-virginica  -  PetalWidthCm \n",
      "\n",
      "Mean :  2.026\n",
      "Variance :  0.07543265306122447\n",
      "Standard Deviation :  0.27465005563666733\n"
     ]
    }
   ],
   "source": [
    "for s in species:\n",
    "    new_data = group.get_group(s)\n",
    "    for i in numeric:\n",
    "        print(\"\\n\",s, \" - \", i, \"\\n\")\n",
    "        statistic(new_data[i])"
   ]
  },
  {
   "cell_type": "code",
   "execution_count": 59,
   "id": "9ee3728a",
   "metadata": {},
   "outputs": [
    {
     "data": {
      "image/png": "[encoded data removed]",
      "text/plain": [
       "<Figure size 720x576 with 1 Axes>"
      ]
     },
     "metadata": {
      "needs_background": "light"
     },
     "output_type": "display_data"
    },
    {
     "data": {
      "image/png": "[encoded data removed]",
      "text/plain": [
       "<Figure size 432x288 with 1 Axes>"
      ]
     },
     "metadata": {
      "needs_background": "light"
     },
     "output_type": "display_data"
    },
    {
     "data": {
      "image/png": "[encoded data removed]",
      "text/plain": [
       "<Figure size 432x288 with 1 Axes>"
      ]
     },
     "metadata": {
      "needs_background": "light"
     },
     "output_type": "display_data"
    },
    {
     "data": {
      "image/png": "[encoded data removed]",
      "text/plain": [
       "<Figure size 432x288 with 1 Axes>"
      ]
     },
     "metadata": {
      "needs_background": "light"
     },
     "output_type": "display_data"
    }
   ],
   "source": [
    "plt.figure(figsize=(10,8))\n",
    "for n in numeric:\n",
    "    sns.boxplot(x=n, y='Species', data=df)\n",
    "    plt.show()"
   ]
  },
  {
   "cell_type": "code",
   "execution_count": 61,
   "id": "8a569a21",
   "metadata": {},
   "outputs": [],
   "source": []
  },
  {
   "cell_type": "code",
   "execution_count": null,
   "id": "de8389d6",
   "metadata": {},
   "outputs": [],
   "source": []
  }
 ],
 "metadata": {
  "kernelspec": {
   "display_name": "Python 3 (ipykernel)",
   "language": "python",
   "name": "python3"
  },
  "language_info": {
   "codemirror_mode": {
    "name": "ipython",
    "version": 3
   },
   "file_extension": ".py",
   "mimetype": "text/x-python",
   "name": "python",
   "nbconvert_exporter": "python",
   "pygments_lexer": "ipython3",
   "version": "3.10.4"
  }
 },
 "nbformat": 4,
 "nbformat_minor": 5
}
