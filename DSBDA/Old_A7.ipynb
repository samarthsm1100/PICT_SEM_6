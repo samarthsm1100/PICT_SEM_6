{
 "cells": [
  {
   "cell_type": "code",
   "execution_count": 1,
   "id": "c8f17ddb-cfb9-422c-a3cb-540cfdda29a2",
   "metadata": {},
   "outputs": [],
   "source": [
    "import nltk"
   ]
  },
  {
   "cell_type": "markdown",
   "id": "9aec8c45",
   "metadata": {},
   "source": [
    "### Reading Document"
   ]
  },
  {
   "cell_type": "code",
   "execution_count": 2,
   "id": "a5834021-0672-4895-88ed-a84cef63a0ab",
   "metadata": {},
   "outputs": [
    {
     "name": "stdout",
     "output_type": "stream",
     "text": [
      "Between 2016 and 2019, the state forest department under the BJP government had launched ‘Green Maharashtra’ drive with an aim to plant 50 crore trees across the state in the four-year period. In October 2019, the government had claimed it had surpassed the target by planting 33 crore trees in July-September 2019. The Indian Express had found that non-forest agencies — such as gram panchayats — which were tasked with planting trees had not uploaded the mandatory audio-visual proof of the tree plantation drives on the specially created portal.\n",
      "In Pune Revenue Division, it was claimed the gram panchayats planted 1.7 crore saplings; however, no evidence was uploaded for 87 per cent (1.49 crore) saplings. Also, out of the 59 government agencies involved in the drive as many as 38 had not submitted survival reports about the saplings.\n",
      "This year, the targets set by the forest department were comparatively modest. For example, Pune Circle — which comprises three divisions in Pune and Solapur district — had planned to plant 17 lakh saplings on forest land. However, it may not meet the target due to unavailability of funds. Last year Pune Circle planted 70 lakh saplings on forest land.\n",
      "In Pune Division — which comprises six talukas namely Maval, Mulshi, Daund, Indapur, Baramati and Havveli — preparations were done for plantation of about 4 lakh trees with special emphasis on teakwood.\n",
      "The National Forest Policy aims and emphasizes at maintaining 33% of the country’s geographical area under forest and green cover. In view of this and as a part of the 50 crore plantation programme within Maharashtra, the Maharashtra Forest Department aims to plant 4 crore saplings all over the State between 1st to July 7th, 2017 to celebrate ‘Vanmohotsav’.\n",
      " \n",
      "The plantation programme, which was announced in 2016 with the aim of planting 2 crore trees on 1st July 2016 was a resounding success with the final total reported figure of 2.82 crore saplings planted on a single day. To maintain consistency of this platform without affecting its momentum, the Forest Department has set the target of plantation of 4 crore, 13 crore and 33 crore saplings under the mission of 50 crore plantation which shall be accomplished in the three consecutive years viz. 2017, 2018 and 2019.\n",
      " \n",
      "The 4 crore saplings for the year 2017 will be planted during the Vanmohotsav, July 1st to July 7th in a state-wide drive with the involvement of 33 government departments along with Students of Schools and Colleges, NSS, NCC, CSR, NGOs, Railways, National Highways, Defence, NABARD and other stakeholders of Society.\n",
      " \n",
      "In a first of its kind, a 24-hour toll free helpline number 1926 called ‘Hello Forest’ has been set up to provide information regarding plantation, protection and for mass awareness. The Forest Department has created a mobile application called ‘My Plants’ to record details of the plantation such as numbers, species and location into the computer system of the Forest Department. All volunteers at individual, collective and organizational level should download and use this application to record their tree plantation work through the application, which will be operational from 1st July to 7th July. \n",
      " \n",
      "In consonance of the public participation, the Maharashtra Forest Department has initiated the ‘Maharashtra Harit Sena’/ ‘Green Army’ which is a body of dedicated volunteers to participate in the plantation, protection, and activities in forest, wildlife, and related sectors around the year. Individuals and organisations interested in volunteering can register on the Green Army website www.greenarmy.mahaforest.gov.in\n",
      " \n",
      "An integrated drive has been set in place to ensure seamless and successful participation from all stakeholders of society, especially the public.\n",
      "\n",
      "\n"
     ]
    }
   ],
   "source": [
    "doc_file = open( \"doc_01.txt\" , \"r\" )\n",
    "doc = doc_file.read()\n",
    "doc_file.close()\n",
    "print( doc )"
   ]
  },
  {
   "cell_type": "code",
   "execution_count": 3,
   "id": "f184be2b",
   "metadata": {},
   "outputs": [
    {
     "name": "stdout",
     "output_type": "stream",
     "text": [
      "Millions of people in India took part in an annual tree planting drive Sunday. More than 250 million saplings were planted in a single day across the country's most-populous state.\n",
      "The campaign was led by Uttar Pradesh state government officials, lawmakers, and activists, in a bid to reduce carbon emissions and combat climate change.\n",
      "Where were the trees planted?\n",
      "The saplings were planted by volunteers in forests, farms, schools, and along riverbanks and highways.\n",
      "\"We are committed to increasing the forest cover of Uttar Pradesh to over 15% of the total land area in the next five years,'' said state forest official Manoj Singh.\n",
      "According to another government official, the forest cover of the state has increased over the last few years.\n",
      "\"There has been an increase of 127 sqare kilometers [79 sqare miles] in the forest cover in Uttar Pradesh as compared to 2017,\" a state government spokesperson was quoted as saying in The Indian Express newspaper.\n",
      "\"There has also been an increase in trees and plants. The tree cover has increased to 3.05%, as compared to the national average of 2.89%,\" the official said, citing the 2019 Forest Survey of India report.\n",
      "How many saplings survive?\n",
      "Uttar Pradesh State Forest Minister Dara Singh said the long-term survival of the saplings remains a concern, adding that usually only 60% of the saplings survive. The rest succumb to disease or lack of water.\n",
      "However, he said that about 80% of the saplings planted in the last four annual drives have survived.\n",
      "\"All the regions where plantation is being carried out have been geo-tagged so that we can ascertain what exactly happened,\" Chauhan told The Pioneer newspaper.\n",
      "\"These saplings carry QR codes so that officials can maintain a record and verify whether the saplings survived or not. Besides, teams have been formed to monitor progress of the plantation drive,\" he said.\n",
      "What is the extent of India's tree planting project?\n",
      "India has vowed to have a third of its total land area, or 95 million hectares, under forest and tree cover by 2030.\n",
      "The government has allocated $6.2 billion (€5.2 billion) for the tree-planting across the country.\n",
      "However, industrial development and a rapidly growing population has put further stress on the land.\n",
      "\n",
      "\n"
     ]
    }
   ],
   "source": [
    "doc_file = open( \"doc_02.txt\" , \"r\" )\n",
    "doc_2 = doc_file.read()\n",
    "doc_file.close()\n",
    "print( doc_2 )"
   ]
  },
  {
   "cell_type": "markdown",
   "id": "39bf2fb3",
   "metadata": {},
   "source": [
    "### Downloading Required Modules"
   ]
  },
  {
   "cell_type": "code",
   "execution_count": 4,
   "id": "fea0bc94-ca99-40bc-a404-1e9ca2f0db26",
   "metadata": {},
   "outputs": [
    {
     "name": "stderr",
     "output_type": "stream",
     "text": [
      "[nltk_data] Downloading package punkt to /home/codespace/nltk_data...\n",
      "[nltk_data]   Package punkt is already up-to-date!\n",
      "[nltk_data] Downloading package stopwords to\n",
      "[nltk_data]     /home/codespace/nltk_data...\n",
      "[nltk_data]   Package stopwords is already up-to-date!\n",
      "[nltk_data] Downloading package averaged_perceptron_tagger to\n",
      "[nltk_data]     /home/codespace/nltk_data...\n",
      "[nltk_data]   Package averaged_perceptron_tagger is already up-to-\n",
      "[nltk_data]       date!\n",
      "[nltk_data] Downloading package wordnet to\n",
      "[nltk_data]     /home/codespace/nltk_data...\n",
      "[nltk_data]   Package wordnet is already up-to-date!\n"
     ]
    },
    {
     "data": {
      "text/plain": [
       "True"
      ]
     },
     "execution_count": 4,
     "metadata": {},
     "output_type": "execute_result"
    }
   ],
   "source": [
    "nltk.download('punkt')\n",
    "nltk.download('stopwords')\n",
    "nltk.download('averaged_perceptron_tagger')\n",
    "nltk.download('wordnet')"
   ]
  },
  {
   "cell_type": "markdown",
   "id": "d808af02",
   "metadata": {},
   "source": [
    "### Removing Alphanumeric Values"
   ]
  },
  {
   "cell_type": "code",
   "execution_count": 5,
   "id": "7cb43f4c-e6e6-4a0e-9ff4-3d9e54255d2c",
   "metadata": {},
   "outputs": [],
   "source": [
    "import re\n",
    "\n",
    "doc = re.sub('[\\W_]+', ' ', doc )\n",
    "doc_2 = re.sub('[\\W_]+', ' ', doc_2 )"
   ]
  },
  {
   "cell_type": "code",
   "execution_count": 6,
   "id": "e6358943-621f-464d-bd80-46a342f535f2",
   "metadata": {},
   "outputs": [
    {
     "data": {
      "text/plain": [
       "'Between 2016 and 2019 the state forest department under the BJP government had launched Green Maharashtra drive with an aim to plant 50 crore trees across the state in the four year period In October 2019 the government had claimed it had surpassed the target by planting 33 crore trees in July September 2019 The Indian Express had found that non forest agencies such as gram panchayats which were tasked with planting trees had not uploaded the mandatory audio visual proof of the tree plantation drives on the specially created portal In Pune Revenue Division it was claimed the gram panchayats planted 1 7 crore saplings however no evidence was uploaded for 87 per cent 1 49 crore saplings Also out of the 59 government agencies involved in the drive as many as 38 had not submitted survival reports about the saplings This year the targets set by the forest department were comparatively modest For example Pune Circle which comprises three divisions in Pune and Solapur district had planned to plant 17 lakh saplings on forest land However it may not meet the target due to unavailability of funds Last year Pune Circle planted 70 lakh saplings on forest land In Pune Division which comprises six talukas namely Maval Mulshi Daund Indapur Baramati and Havveli preparations were done for plantation of about 4 lakh trees with special emphasis on teakwood The National Forest Policy aims and emphasizes at maintaining 33 of the country s geographical area under forest and green cover In view of this and as a part of the 50 crore plantation programme within Maharashtra the Maharashtra Forest Department aims to plant 4 crore saplings all over the State between 1st to July 7th 2017 to celebrate Vanmohotsav The plantation programme which was announced in 2016 with the aim of planting 2 crore trees on 1st July 2016 was a resounding success with the final total reported figure of 2 82 crore saplings planted on a single day To maintain consistency of this platform without affecting its momentum the Forest Department has set the target of plantation of 4 crore 13 crore and 33 crore saplings under the mission of 50 crore plantation which shall be accomplished in the three consecutive years viz 2017 2018 and 2019 The 4 crore saplings for the year 2017 will be planted during the Vanmohotsav July 1st to July 7th in a state wide drive with the involvement of 33 government departments along with Students of Schools and Colleges NSS NCC CSR NGOs Railways National Highways Defence NABARD and other stakeholders of Society In a first of its kind a 24 hour toll free helpline number 1926 called Hello Forest has been set up to provide information regarding plantation protection and for mass awareness The Forest Department has created a mobile application called My Plants to record details of the plantation such as numbers species and location into the computer system of the Forest Department All volunteers at individual collective and organizational level should download and use this application to record their tree plantation work through the application which will be operational from 1st July to 7th July In consonance of the public participation the Maharashtra Forest Department has initiated the Maharashtra Harit Sena Green Army which is a body of dedicated volunteers to participate in the plantation protection and activities in forest wildlife and related sectors around the year Individuals and organisations interested in volunteering can register on the Green Army website www greenarmy mahaforest gov in An integrated drive has been set in place to ensure seamless and successful participation from all stakeholders of society especially the public '"
      ]
     },
     "execution_count": 6,
     "metadata": {},
     "output_type": "execute_result"
    }
   ],
   "source": [
    "doc"
   ]
  },
  {
   "cell_type": "code",
   "execution_count": 7,
   "id": "b0b405fa",
   "metadata": {},
   "outputs": [
    {
     "data": {
      "text/plain": [
       "'Millions of people in India took part in an annual tree planting drive Sunday More than 250 million saplings were planted in a single day across the country s most populous state The campaign was led by Uttar Pradesh state government officials lawmakers and activists in a bid to reduce carbon emissions and combat climate change Where were the trees planted The saplings were planted by volunteers in forests farms schools and along riverbanks and highways We are committed to increasing the forest cover of Uttar Pradesh to over 15 of the total land area in the next five years said state forest official Manoj Singh According to another government official the forest cover of the state has increased over the last few years There has been an increase of 127 sqare kilometers 79 sqare miles in the forest cover in Uttar Pradesh as compared to 2017 a state government spokesperson was quoted as saying in The Indian Express newspaper There has also been an increase in trees and plants The tree cover has increased to 3 05 as compared to the national average of 2 89 the official said citing the 2019 Forest Survey of India report How many saplings survive Uttar Pradesh State Forest Minister Dara Singh said the long term survival of the saplings remains a concern adding that usually only 60 of the saplings survive The rest succumb to disease or lack of water However he said that about 80 of the saplings planted in the last four annual drives have survived All the regions where plantation is being carried out have been geo tagged so that we can ascertain what exactly happened Chauhan told The Pioneer newspaper These saplings carry QR codes so that officials can maintain a record and verify whether the saplings survived or not Besides teams have been formed to monitor progress of the plantation drive he said What is the extent of India s tree planting project India has vowed to have a third of its total land area or 95 million hectares under forest and tree cover by 2030 The government has allocated 6 2 billion 5 2 billion for the tree planting across the country However industrial development and a rapidly growing population has put further stress on the land '"
      ]
     },
     "execution_count": 7,
     "metadata": {},
     "output_type": "execute_result"
    }
   ],
   "source": [
    "doc_2"
   ]
  },
  {
   "cell_type": "markdown",
   "id": "3a941eee-3506-48b4-acb7-8234dd12f43e",
   "metadata": {},
   "source": [
    "## Document Preprocessing"
   ]
  },
  {
   "cell_type": "markdown",
   "id": "0213ab96-7afb-4628-bbe7-46fcf12f5d2c",
   "metadata": {},
   "source": [
    "### Tokenization"
   ]
  },
  {
   "cell_type": "code",
   "execution_count": 8,
   "id": "43e481df-c27c-40b1-baa0-1a14e73cb8c5",
   "metadata": {},
   "outputs": [
    {
     "name": "stdout",
     "output_type": "stream",
     "text": [
      "['Between', '2016', 'and', '2019', 'the', 'state', 'forest', 'department', 'under', 'the', 'BJP', 'government', 'had', 'launched', 'Green', 'Maharashtra', 'drive', 'with', 'an', 'aim', 'to', 'plant', '50', 'crore', 'trees', 'across', 'the', 'state', 'in', 'the', 'four', 'year', 'period', 'In', 'October', '2019', 'the', 'government', 'had', 'claimed', 'it', 'had', 'surpassed', 'the', 'target', 'by', 'planting', '33', 'crore', 'trees', 'in', 'July', 'September', '2019', 'The', 'Indian', 'Express', 'had', 'found', 'that', 'non', 'forest', 'agencies', 'such', 'as', 'gram', 'panchayats', 'which', 'were', 'tasked', 'with', 'planting', 'trees', 'had', 'not', 'uploaded', 'the', 'mandatory', 'audio', 'visual', 'proof', 'of', 'the', 'tree', 'plantation', 'drives', 'on', 'the', 'specially', 'created', 'portal', 'In', 'Pune', 'Revenue', 'Division', 'it', 'was', 'claimed', 'the', 'gram', 'panchayats', 'planted', '1', '7', 'crore', 'saplings', 'however', 'no', 'evidence', 'was', 'uploaded', 'for', '87', 'per', 'cent', '1', '49', 'crore', 'saplings', 'Also', 'out', 'of', 'the', '59', 'government', 'agencies', 'involved', 'in', 'the', 'drive', 'as', 'many', 'as', '38', 'had', 'not', 'submitted', 'survival', 'reports', 'about', 'the', 'saplings', 'This', 'year', 'the', 'targets', 'set', 'by', 'the', 'forest', 'department', 'were', 'comparatively', 'modest', 'For', 'example', 'Pune', 'Circle', 'which', 'comprises', 'three', 'divisions', 'in', 'Pune', 'and', 'Solapur', 'district', 'had', 'planned', 'to', 'plant', '17', 'lakh', 'saplings', 'on', 'forest', 'land', 'However', 'it', 'may', 'not', 'meet', 'the', 'target', 'due', 'to', 'unavailability', 'of', 'funds', 'Last', 'year', 'Pune', 'Circle', 'planted', '70', 'lakh', 'saplings', 'on', 'forest', 'land', 'In', 'Pune', 'Division', 'which', 'comprises', 'six', 'talukas', 'namely', 'Maval', 'Mulshi', 'Daund', 'Indapur', 'Baramati', 'and', 'Havveli', 'preparations', 'were', 'done', 'for', 'plantation', 'of', 'about', '4', 'lakh', 'trees', 'with', 'special', 'emphasis', 'on', 'teakwood', 'The', 'National', 'Forest', 'Policy', 'aims', 'and', 'emphasizes', 'at', 'maintaining', '33', 'of', 'the', 'country', 's', 'geographical', 'area', 'under', 'forest', 'and', 'green', 'cover', 'In', 'view', 'of', 'this', 'and', 'as', 'a', 'part', 'of', 'the', '50', 'crore', 'plantation', 'programme', 'within', 'Maharashtra', 'the', 'Maharashtra', 'Forest', 'Department', 'aims', 'to', 'plant', '4', 'crore', 'saplings', 'all', 'over', 'the', 'State', 'between', '1st', 'to', 'July', '7th', '2017', 'to', 'celebrate', 'Vanmohotsav', 'The', 'plantation', 'programme', 'which', 'was', 'announced', 'in', '2016', 'with', 'the', 'aim', 'of', 'planting', '2', 'crore', 'trees', 'on', '1st', 'July', '2016', 'was', 'a', 'resounding', 'success', 'with', 'the', 'final', 'total', 'reported', 'figure', 'of', '2', '82', 'crore', 'saplings', 'planted', 'on', 'a', 'single', 'day', 'To', 'maintain', 'consistency', 'of', 'this', 'platform', 'without', 'affecting', 'its', 'momentum', 'the', 'Forest', 'Department', 'has', 'set', 'the', 'target', 'of', 'plantation', 'of', '4', 'crore', '13', 'crore', 'and', '33', 'crore', 'saplings', 'under', 'the', 'mission', 'of', '50', 'crore', 'plantation', 'which', 'shall', 'be', 'accomplished', 'in', 'the', 'three', 'consecutive', 'years', 'viz', '2017', '2018', 'and', '2019', 'The', '4', 'crore', 'saplings', 'for', 'the', 'year', '2017', 'will', 'be', 'planted', 'during', 'the', 'Vanmohotsav', 'July', '1st', 'to', 'July', '7th', 'in', 'a', 'state', 'wide', 'drive', 'with', 'the', 'involvement', 'of', '33', 'government', 'departments', 'along', 'with', 'Students', 'of', 'Schools', 'and', 'Colleges', 'NSS', 'NCC', 'CSR', 'NGOs', 'Railways', 'National', 'Highways', 'Defence', 'NABARD', 'and', 'other', 'stakeholders', 'of', 'Society', 'In', 'a', 'first', 'of', 'its', 'kind', 'a', '24', 'hour', 'toll', 'free', 'helpline', 'number', '1926', 'called', 'Hello', 'Forest', 'has', 'been', 'set', 'up', 'to', 'provide', 'information', 'regarding', 'plantation', 'protection', 'and', 'for', 'mass', 'awareness', 'The', 'Forest', 'Department', 'has', 'created', 'a', 'mobile', 'application', 'called', 'My', 'Plants', 'to', 'record', 'details', 'of', 'the', 'plantation', 'such', 'as', 'numbers', 'species', 'and', 'location', 'into', 'the', 'computer', 'system', 'of', 'the', 'Forest', 'Department', 'All', 'volunteers', 'at', 'individual', 'collective', 'and', 'organizational', 'level', 'should', 'download', 'and', 'use', 'this', 'application', 'to', 'record', 'their', 'tree', 'plantation', 'work', 'through', 'the', 'application', 'which', 'will', 'be', 'operational', 'from', '1st', 'July', 'to', '7th', 'July', 'In', 'consonance', 'of', 'the', 'public', 'participation', 'the', 'Maharashtra', 'Forest', 'Department', 'has', 'initiated', 'the', 'Maharashtra', 'Harit', 'Sena', 'Green', 'Army', 'which', 'is', 'a', 'body', 'of', 'dedicated', 'volunteers', 'to', 'participate', 'in', 'the', 'plantation', 'protection', 'and', 'activities', 'in', 'forest', 'wildlife', 'and', 'related', 'sectors', 'around', 'the', 'year', 'Individuals', 'and', 'organisations', 'interested', 'in', 'volunteering', 'can', 'register', 'on', 'the', 'Green', 'Army', 'website', 'www', 'greenarmy', 'mahaforest', 'gov', 'in', 'An', 'integrated', 'drive', 'has', 'been', 'set', 'in', 'place', 'to', 'ensure', 'seamless', 'and', 'successful', 'participation', 'from', 'all', 'stakeholders', 'of', 'society', 'especially', 'the', 'public']\n"
     ]
    }
   ],
   "source": [
    "# word tokenization\n",
    "word_tokens = nltk.word_tokenize( doc )\n",
    "print( word_tokens )"
   ]
  },
  {
   "cell_type": "code",
   "execution_count": 9,
   "id": "f4b6a373-5313-43da-9e2a-edce3dd77cea",
   "metadata": {},
   "outputs": [
    {
     "name": "stdout",
     "output_type": "stream",
     "text": [
      "['Between 2016 and 2019 the state forest department under the BJP government had launched Green Maharashtra drive with an aim to plant 50 crore trees across the state in the four year period In October 2019 the government had claimed it had surpassed the target by planting 33 crore trees in July September 2019 The Indian Express had found that non forest agencies such as gram panchayats which were tasked with planting trees had not uploaded the mandatory audio visual proof of the tree plantation drives on the specially created portal In Pune Revenue Division it was claimed the gram panchayats planted 1 7 crore saplings however no evidence was uploaded for 87 per cent 1 49 crore saplings Also out of the 59 government agencies involved in the drive as many as 38 had not submitted survival reports about the saplings This year the targets set by the forest department were comparatively modest For example Pune Circle which comprises three divisions in Pune and Solapur district had planned to plant 17 lakh saplings on forest land However it may not meet the target due to unavailability of funds Last year Pune Circle planted 70 lakh saplings on forest land In Pune Division which comprises six talukas namely Maval Mulshi Daund Indapur Baramati and Havveli preparations were done for plantation of about 4 lakh trees with special emphasis on teakwood The National Forest Policy aims and emphasizes at maintaining 33 of the country s geographical area under forest and green cover In view of this and as a part of the 50 crore plantation programme within Maharashtra the Maharashtra Forest Department aims to plant 4 crore saplings all over the State between 1st to July 7th 2017 to celebrate Vanmohotsav The plantation programme which was announced in 2016 with the aim of planting 2 crore trees on 1st July 2016 was a resounding success with the final total reported figure of 2 82 crore saplings planted on a single day To maintain consistency of this platform without affecting its momentum the Forest Department has set the target of plantation of 4 crore 13 crore and 33 crore saplings under the mission of 50 crore plantation which shall be accomplished in the three consecutive years viz 2017 2018 and 2019 The 4 crore saplings for the year 2017 will be planted during the Vanmohotsav July 1st to July 7th in a state wide drive with the involvement of 33 government departments along with Students of Schools and Colleges NSS NCC CSR NGOs Railways National Highways Defence NABARD and other stakeholders of Society In a first of its kind a 24 hour toll free helpline number 1926 called Hello Forest has been set up to provide information regarding plantation protection and for mass awareness The Forest Department has created a mobile application called My Plants to record details of the plantation such as numbers species and location into the computer system of the Forest Department All volunteers at individual collective and organizational level should download and use this application to record their tree plantation work through the application which will be operational from 1st July to 7th July In consonance of the public participation the Maharashtra Forest Department has initiated the Maharashtra Harit Sena Green Army which is a body of dedicated volunteers to participate in the plantation protection and activities in forest wildlife and related sectors around the year Individuals and organisations interested in volunteering can register on the Green Army website www greenarmy mahaforest gov in An integrated drive has been set in place to ensure seamless and successful participation from all stakeholders of society especially the public']\n"
     ]
    }
   ],
   "source": [
    "# sentence tokenization \n",
    "sent_tokens = nltk.sent_tokenize( doc )\n",
    "print( sent_tokens )"
   ]
  },
  {
   "cell_type": "markdown",
   "id": "95338917-c670-46d2-bdba-a1e274e13657",
   "metadata": {},
   "source": [
    "### Stop word removal\n"
   ]
  },
  {
   "cell_type": "code",
   "execution_count": 10,
   "id": "73816b90-74bf-403d-a9d5-91670a725d7f",
   "metadata": {},
   "outputs": [
    {
     "name": "stdout",
     "output_type": "stream",
     "text": [
      "Stop Words :  {'me', 'yourselves', \"you're\", 'your', 'him', 'll', 'again', \"should've\", 'below', 'further', \"wouldn't\", 'over', 'hasn', 't', 'have', 'did', 'an', 'until', 'the', 'off', 'into', 'am', 've', \"you've\", 'be', 'during', 'some', 'been', 'own', 'having', 'out', 'is', 'other', 'against', 'while', 'how', 'themselves', 'than', \"that'll\", 'any', 'what', 'shouldn', \"haven't\", 'can', 'herself', 'and', 'both', 'myself', 'won', 'does', 'those', 'his', 'up', 'don', 'couldn', 'hadn', 'their', 'shan', 'wouldn', \"hadn't\", 'being', \"she's\", 'was', 're', 'these', 'which', 'her', 'ain', 'such', 'doesn', \"doesn't\", \"won't\", 'above', 'mustn', 'as', 'more', 'before', \"shouldn't\", \"aren't\", 'm', 'hers', 'they', 'were', 'yours', 'them', 'should', 'between', 'this', \"mightn't\", 'you', \"shan't\", \"you'd\", 'ours', 'or', 'only', 'its', 'just', 'each', 'whom', 'all', 'not', 'to', 'he', 'itself', 'under', 'at', \"it's\", 'who', \"wasn't\", 'now', \"didn't\", 'for', \"couldn't\", 'do', 'doing', 'our', 'from', 'but', 'i', \"weren't\", 'needn', 'if', 'once', \"needn't\", 'weren', 'are', \"don't\", \"mustn't\", 'very', 'd', 'few', 'there', 'here', 'wasn', 'himself', 'of', 'will', 'down', 'it', 'because', 'through', 'on', 'most', 'aren', 'in', \"you'll\", 'haven', 'when', 'too', 'we', 'had', 'ourselves', 'same', \"hasn't\", 'that', 'y', 'mightn', 'my', 'after', 'why', 'by', 'with', 'then', 'isn', 'about', 'where', 'o', 'so', 'no', 'has', 'a', 'ma', 'nor', \"isn't\", 'she', 's', 'theirs', 'yourself', 'didn'}\n",
      "['Between', '2016', '2019', 'state', 'forest', 'department', 'BJP', 'government', 'launched', 'Green', 'Maharashtra', 'drive', 'aim', 'plant', '50', 'crore', 'trees', 'across', 'state', 'four', 'year', 'period', 'In', 'October', '2019', 'government', 'claimed', 'surpassed', 'target', 'planting', '33', 'crore', 'trees', 'July', 'September', '2019', 'The', 'Indian', 'Express', 'found', 'non', 'forest', 'agencies', 'gram', 'panchayats', 'tasked', 'planting', 'trees', 'uploaded', 'mandatory', 'audio', 'visual', 'proof', 'tree', 'plantation', 'drives', 'specially', 'created', 'portal', 'In', 'Pune', 'Revenue', 'Division', 'claimed', 'gram', 'panchayats', 'planted', '1', '7', 'crore', 'saplings', 'however', 'evidence', 'uploaded', '87', 'per', 'cent', '1', '49', 'crore', 'saplings', 'Also', '59', 'government', 'agencies', 'involved', 'drive', 'many', '38', 'submitted', 'survival', 'reports', 'saplings', 'This', 'year', 'targets', 'set', 'forest', 'department', 'comparatively', 'modest', 'For', 'example', 'Pune', 'Circle', 'comprises', 'three', 'divisions', 'Pune', 'Solapur', 'district', 'planned', 'plant', '17', 'lakh', 'saplings', 'forest', 'land', 'However', 'may', 'meet', 'target', 'due', 'unavailability', 'funds', 'Last', 'year', 'Pune', 'Circle', 'planted', '70', 'lakh', 'saplings', 'forest', 'land', 'In', 'Pune', 'Division', 'comprises', 'six', 'talukas', 'namely', 'Maval', 'Mulshi', 'Daund', 'Indapur', 'Baramati', 'Havveli', 'preparations', 'done', 'plantation', '4', 'lakh', 'trees', 'special', 'emphasis', 'teakwood', 'The', 'National', 'Forest', 'Policy', 'aims', 'emphasizes', 'maintaining', '33', 'country', 'geographical', 'area', 'forest', 'green', 'cover', 'In', 'view', 'part', '50', 'crore', 'plantation', 'programme', 'within', 'Maharashtra', 'Maharashtra', 'Forest', 'Department', 'aims', 'plant', '4', 'crore', 'saplings', 'State', '1st', 'July', '7th', '2017', 'celebrate', 'Vanmohotsav', 'The', 'plantation', 'programme', 'announced', '2016', 'aim', 'planting', '2', 'crore', 'trees', '1st', 'July', '2016', 'resounding', 'success', 'final', 'total', 'reported', 'figure', '2', '82', 'crore', 'saplings', 'planted', 'single', 'day', 'To', 'maintain', 'consistency', 'platform', 'without', 'affecting', 'momentum', 'Forest', 'Department', 'set', 'target', 'plantation', '4', 'crore', '13', 'crore', '33', 'crore', 'saplings', 'mission', '50', 'crore', 'plantation', 'shall', 'accomplished', 'three', 'consecutive', 'years', 'viz', '2017', '2018', '2019', 'The', '4', 'crore', 'saplings', 'year', '2017', 'planted', 'Vanmohotsav', 'July', '1st', 'July', '7th', 'state', 'wide', 'drive', 'involvement', '33', 'government', 'departments', 'along', 'Students', 'Schools', 'Colleges', 'NSS', 'NCC', 'CSR', 'NGOs', 'Railways', 'National', 'Highways', 'Defence', 'NABARD', 'stakeholders', 'Society', 'In', 'first', 'kind', '24', 'hour', 'toll', 'free', 'helpline', 'number', '1926', 'called', 'Hello', 'Forest', 'set', 'provide', 'information', 'regarding', 'plantation', 'protection', 'mass', 'awareness', 'The', 'Forest', 'Department', 'created', 'mobile', 'application', 'called', 'My', 'Plants', 'record', 'details', 'plantation', 'numbers', 'species', 'location', 'computer', 'system', 'Forest', 'Department', 'All', 'volunteers', 'individual', 'collective', 'organizational', 'level', 'download', 'use', 'application', 'record', 'tree', 'plantation', 'work', 'application', 'operational', '1st', 'July', '7th', 'July', 'In', 'consonance', 'public', 'participation', 'Maharashtra', 'Forest', 'Department', 'initiated', 'Maharashtra', 'Harit', 'Sena', 'Green', 'Army', 'body', 'dedicated', 'volunteers', 'participate', 'plantation', 'protection', 'activities', 'forest', 'wildlife', 'related', 'sectors', 'around', 'year', 'Individuals', 'organisations', 'interested', 'volunteering', 'register', 'Green', 'Army', 'website', 'www', 'greenarmy', 'mahaforest', 'gov', 'An', 'integrated', 'drive', 'set', 'place', 'ensure', 'seamless', 'successful', 'participation', 'stakeholders', 'society', 'especially', 'public']\n"
     ]
    }
   ],
   "source": [
    "stop_words = set(nltk.corpus.stopwords.words('english'))\n",
    "print(\"Stop Words : \", stop_words)\n",
    "word_tokens = [ token for token in word_tokens if token not in stop_words ]\n",
    "print( word_tokens )"
   ]
  },
  {
   "cell_type": "markdown",
   "id": "fb8c1fba-709a-44be-96c5-4016de426b63",
   "metadata": {},
   "source": [
    "### Parts of Speech Tagging"
   ]
  },
  {
   "cell_type": "code",
   "execution_count": 11,
   "id": "a71b87e4-79e5-4dc6-9e6e-c2b784dae0cc",
   "metadata": {},
   "outputs": [
    {
     "name": "stdout",
     "output_type": "stream",
     "text": [
      "[('Between', 'IN'), ('2016', 'CD'), ('2019', 'CD'), ('state', 'NN'), ('forest', 'JJS'), ('department', 'NN'), ('BJP', 'NNP'), ('government', 'NN'), ('launched', 'VBD'), ('Green', 'NNP'), ('Maharashtra', 'NNP'), ('drive', 'NN'), ('aim', 'NN'), ('plant', 'NN'), ('50', 'CD'), ('crore', 'NN'), ('trees', 'NNS'), ('across', 'IN'), ('state', 'NN'), ('four', 'CD'), ('year', 'NN'), ('period', 'NN'), ('In', 'IN'), ('October', 'NNP'), ('2019', 'CD'), ('government', 'NN'), ('claimed', 'VBD'), ('surpassed', 'JJ'), ('target', 'NN'), ('planting', 'VBG'), ('33', 'CD'), ('crore', 'NN'), ('trees', 'NNS'), ('July', 'NNP'), ('September', 'NNP'), ('2019', 'CD'), ('The', 'DT'), ('Indian', 'NNP'), ('Express', 'NNP'), ('found', 'VBD'), ('non', 'RB'), ('forest', 'JJ'), ('agencies', 'NNS'), ('gram', 'VBP'), ('panchayats', 'NNS'), ('tasked', 'VBD'), ('planting', 'VBG'), ('trees', 'NNS'), ('uploaded', 'JJ'), ('mandatory', 'JJ'), ('audio', 'JJ'), ('visual', 'JJ'), ('proof', 'NN'), ('tree', 'JJ'), ('plantation', 'NN'), ('drives', 'NNS'), ('specially', 'RB'), ('created', 'VBD'), ('portal', 'NN'), ('In', 'IN'), ('Pune', 'NNP'), ('Revenue', 'NNP'), ('Division', 'NNP'), ('claimed', 'VBD'), ('gram', 'JJ'), ('panchayats', 'NNS'), ('planted', 'VBD'), ('1', 'CD'), ('7', 'CD'), ('crore', 'NN'), ('saplings', 'NNS'), ('however', 'RB'), ('evidence', 'NN'), ('uploaded', 'VBD'), ('87', 'CD'), ('per', 'IN'), ('cent', 'NN'), ('1', 'CD'), ('49', 'CD'), ('crore', 'NN'), ('saplings', 'NNS'), ('Also', 'RB'), ('59', 'CD'), ('government', 'NN'), ('agencies', 'NNS'), ('involved', 'VBD'), ('drive', 'JJ'), ('many', 'JJ'), ('38', 'CD'), ('submitted', 'VBD'), ('survival', 'NN'), ('reports', 'NNS'), ('saplings', 'NNS'), ('This', 'DT'), ('year', 'NN'), ('targets', 'VBZ'), ('set', 'VBN'), ('forest', 'JJS'), ('department', 'NN'), ('comparatively', 'RB'), ('modest', 'JJ'), ('For', 'IN'), ('example', 'NN'), ('Pune', 'NNP'), ('Circle', 'NNP'), ('comprises', 'VBZ'), ('three', 'CD'), ('divisions', 'NNS'), ('Pune', 'NNP'), ('Solapur', 'NNP'), ('district', 'NN'), ('planned', 'VBD'), ('plant', 'NN'), ('17', 'CD'), ('lakh', 'JJ'), ('saplings', 'NNS'), ('forest', 'JJS'), ('land', 'NN'), ('However', 'RB'), ('may', 'MD'), ('meet', 'VB'), ('target', 'NN'), ('due', 'JJ'), ('unavailability', 'NN'), ('funds', 'NNS'), ('Last', 'JJ'), ('year', 'NN'), ('Pune', 'NNP'), ('Circle', 'NNP'), ('planted', 'VBD'), ('70', 'CD'), ('lakh', 'JJ'), ('saplings', 'NNS'), ('forest', 'JJS'), ('land', 'NN'), ('In', 'IN'), ('Pune', 'NNP'), ('Division', 'NNP'), ('comprises', 'VBZ'), ('six', 'CD'), ('talukas', 'NN'), ('namely', 'RB'), ('Maval', 'NNP'), ('Mulshi', 'NNP'), ('Daund', 'NNP'), ('Indapur', 'NNP'), ('Baramati', 'NNP'), ('Havveli', 'NNP'), ('preparations', 'NNS'), ('done', 'VBN'), ('plantation', 'NN'), ('4', 'CD'), ('lakh', 'NN'), ('trees', 'NNS'), ('special', 'JJ'), ('emphasis', 'NN'), ('teakwood', 'VBD'), ('The', 'DT'), ('National', 'NNP'), ('Forest', 'NNP'), ('Policy', 'NNP'), ('aims', 'VBZ'), ('emphasizes', 'VBZ'), ('maintaining', 'VBG'), ('33', 'CD'), ('country', 'NN'), ('geographical', 'JJ'), ('area', 'NN'), ('forest', 'JJS'), ('green', 'JJ'), ('cover', 'NN'), ('In', 'IN'), ('view', 'JJ'), ('part', 'NN'), ('50', 'CD'), ('crore', 'NN'), ('plantation', 'NN'), ('programme', 'NN'), ('within', 'IN'), ('Maharashtra', 'NNP'), ('Maharashtra', 'NNP'), ('Forest', 'NNP'), ('Department', 'NNP'), ('aims', 'VBZ'), ('plant', 'NN'), ('4', 'CD'), ('crore', 'NN'), ('saplings', 'NNS'), ('State', 'NNP'), ('1st', 'CD'), ('July', 'NNP'), ('7th', 'CD'), ('2017', 'CD'), ('celebrate', 'NN'), ('Vanmohotsav', 'NNP'), ('The', 'DT'), ('plantation', 'NN'), ('programme', 'NN'), ('announced', 'VBD'), ('2016', 'CD'), ('aim', 'NN'), ('planting', 'VBG'), ('2', 'CD'), ('crore', 'NN'), ('trees', 'NNS'), ('1st', 'CD'), ('July', 'NNP'), ('2016', 'CD'), ('resounding', 'VBG'), ('success', 'NN'), ('final', 'JJ'), ('total', 'NN'), ('reported', 'VBD'), ('figure', 'NN'), ('2', 'CD'), ('82', 'CD'), ('crore', 'NN'), ('saplings', 'NNS'), ('planted', 'VBD'), ('single', 'JJ'), ('day', 'NN'), ('To', 'TO'), ('maintain', 'VB'), ('consistency', 'NN'), ('platform', 'NN'), ('without', 'IN'), ('affecting', 'VBG'), ('momentum', 'NN'), ('Forest', 'NNP'), ('Department', 'NNP'), ('set', 'VBD'), ('target', 'NN'), ('plantation', 'NN'), ('4', 'CD'), ('crore', 'NN'), ('13', 'CD'), ('crore', 'NN'), ('33', 'CD'), ('crore', 'NN'), ('saplings', 'NNS'), ('mission', 'NN'), ('50', 'CD'), ('crore', 'NN'), ('plantation', 'NN'), ('shall', 'MD'), ('accomplished', 'VB'), ('three', 'CD'), ('consecutive', 'JJ'), ('years', 'NNS'), ('viz', 'IN'), ('2017', 'CD'), ('2018', 'CD'), ('2019', 'CD'), ('The', 'DT'), ('4', 'CD'), ('crore', 'NN'), ('saplings', 'NNS'), ('year', 'NN'), ('2017', 'CD'), ('planted', 'VBD'), ('Vanmohotsav', 'NNP'), ('July', 'NNP'), ('1st', 'CD'), ('July', 'NNP'), ('7th', 'CD'), ('state', 'NN'), ('wide', 'JJ'), ('drive', 'NN'), ('involvement', 'NN'), ('33', 'CD'), ('government', 'NN'), ('departments', 'NNS'), ('along', 'IN'), ('Students', 'NNS'), ('Schools', 'NNP'), ('Colleges', 'NNP'), ('NSS', 'NNP'), ('NCC', 'NNP'), ('CSR', 'NNP'), ('NGOs', 'NNP'), ('Railways', 'NNP'), ('National', 'NNP'), ('Highways', 'NNP'), ('Defence', 'NNP'), ('NABARD', 'NNP'), ('stakeholders', 'NNS'), ('Society', 'NNP'), ('In', 'IN'), ('first', 'JJ'), ('kind', 'NN'), ('24', 'CD'), ('hour', 'NN'), ('toll', 'NN'), ('free', 'JJ'), ('helpline', 'NN'), ('number', 'NN'), ('1926', 'CD'), ('called', 'VBD'), ('Hello', 'NNP'), ('Forest', 'NNP'), ('set', 'VBD'), ('provide', 'JJ'), ('information', 'NN'), ('regarding', 'VBG'), ('plantation', 'NN'), ('protection', 'NN'), ('mass', 'NN'), ('awareness', 'IN'), ('The', 'DT'), ('Forest', 'NNP'), ('Department', 'NNP'), ('created', 'VBD'), ('mobile', 'JJ'), ('application', 'NN'), ('called', 'VBN'), ('My', 'PRP$'), ('Plants', 'NNS'), ('record', 'NN'), ('details', 'NNS'), ('plantation', 'NN'), ('numbers', 'NNS'), ('species', 'NNS'), ('location', 'VBP'), ('computer', 'NN'), ('system', 'NN'), ('Forest', 'NNP'), ('Department', 'NNP'), ('All', 'NNP'), ('volunteers', 'NNS'), ('individual', 'JJ'), ('collective', 'JJ'), ('organizational', 'JJ'), ('level', 'NN'), ('download', 'NN'), ('use', 'NN'), ('application', 'NN'), ('record', 'NN'), ('tree', 'NN'), ('plantation', 'NN'), ('work', 'NN'), ('application', 'NN'), ('operational', 'JJ'), ('1st', 'CD'), ('July', 'NNP'), ('7th', 'CD'), ('July', 'NNP'), ('In', 'IN'), ('consonance', 'NN'), ('public', 'JJ'), ('participation', 'NN'), ('Maharashtra', 'NNP'), ('Forest', 'NNP'), ('Department', 'NNP'), ('initiated', 'VBD'), ('Maharashtra', 'NNP'), ('Harit', 'NNP'), ('Sena', 'NNP'), ('Green', 'NNP'), ('Army', 'NNP'), ('body', 'NN'), ('dedicated', 'VBD'), ('volunteers', 'NNS'), ('participate', 'VB'), ('plantation', 'NN'), ('protection', 'NN'), ('activities', 'NNS'), ('forest', 'VBP'), ('wildlife', 'NN'), ('related', 'JJ'), ('sectors', 'NNS'), ('around', 'IN'), ('year', 'NN'), ('Individuals', 'NNP'), ('organisations', 'NNS'), ('interested', 'JJ'), ('volunteering', 'VBG'), ('register', 'NN'), ('Green', 'NNP'), ('Army', 'NNP'), ('website', 'NN'), ('www', 'NN'), ('greenarmy', 'NN'), ('mahaforest', 'JJS'), ('gov', 'NN'), ('An', 'DT'), ('integrated', 'JJ'), ('drive', 'NN'), ('set', 'VBN'), ('place', 'NN'), ('ensure', 'VB'), ('seamless', 'JJ'), ('successful', 'JJ'), ('participation', 'NN'), ('stakeholders', 'NNS'), ('society', 'VBP'), ('especially', 'RB'), ('public', 'JJ')]\n"
     ]
    }
   ],
   "source": [
    "tags = nltk.pos_tag( word_tokens )\n",
    "print( tags )"
   ]
  },
  {
   "cell_type": "markdown",
   "id": "6318b807-b60c-42a7-a815-98fd60d2914f",
   "metadata": {},
   "source": [
    "### Lemmatization"
   ]
  },
  {
   "cell_type": "code",
   "execution_count": 12,
   "id": "42ed825a-c84b-43e5-9a43-1e64f1f912dd",
   "metadata": {},
   "outputs": [
    {
     "name": "stdout",
     "output_type": "stream",
     "text": [
      "['Between', '2016', '2019', 'state', 'forest', 'department', 'BJP', 'government', 'launched', 'Green', 'Maharashtra', 'drive', 'aim', 'plant', '50', 'crore', 'tree', 'across', 'state', 'four', 'year', 'period', 'In', 'October', '2019', 'government', 'claimed', 'surpassed', 'target', 'planting', '33', 'crore', 'tree', 'July', 'September', '2019', 'The', 'Indian', 'Express', 'found', 'non', 'forest', 'agency', 'gram', 'panchayat', 'tasked', 'planting', 'tree', 'uploaded', 'mandatory', 'audio', 'visual', 'proof', 'tree', 'plantation', 'drive', 'specially', 'created', 'portal', 'In', 'Pune', 'Revenue', 'Division', 'claimed', 'gram', 'panchayat', 'planted', '1', '7', 'crore', 'sapling', 'however', 'evidence', 'uploaded', '87', 'per', 'cent', '1', '49', 'crore', 'sapling', 'Also', '59', 'government', 'agency', 'involved', 'drive', 'many', '38', 'submitted', 'survival', 'report', 'sapling', 'This', 'year', 'target', 'set', 'forest', 'department', 'comparatively', 'modest', 'For', 'example', 'Pune', 'Circle', 'comprises', 'three', 'division', 'Pune', 'Solapur', 'district', 'planned', 'plant', '17', 'lakh', 'sapling', 'forest', 'land', 'However', 'may', 'meet', 'target', 'due', 'unavailability', 'fund', 'Last', 'year', 'Pune', 'Circle', 'planted', '70', 'lakh', 'sapling', 'forest', 'land', 'In', 'Pune', 'Division', 'comprises', 'six', 'talukas', 'namely', 'Maval', 'Mulshi', 'Daund', 'Indapur', 'Baramati', 'Havveli', 'preparation', 'done', 'plantation', '4', 'lakh', 'tree', 'special', 'emphasis', 'teakwood', 'The', 'National', 'Forest', 'Policy', 'aim', 'emphasizes', 'maintaining', '33', 'country', 'geographical', 'area', 'forest', 'green', 'cover', 'In', 'view', 'part', '50', 'crore', 'plantation', 'programme', 'within', 'Maharashtra', 'Maharashtra', 'Forest', 'Department', 'aim', 'plant', '4', 'crore', 'sapling', 'State', '1st', 'July', '7th', '2017', 'celebrate', 'Vanmohotsav', 'The', 'plantation', 'programme', 'announced', '2016', 'aim', 'planting', '2', 'crore', 'tree', '1st', 'July', '2016', 'resounding', 'success', 'final', 'total', 'reported', 'figure', '2', '82', 'crore', 'sapling', 'planted', 'single', 'day', 'To', 'maintain', 'consistency', 'platform', 'without', 'affecting', 'momentum', 'Forest', 'Department', 'set', 'target', 'plantation', '4', 'crore', '13', 'crore', '33', 'crore', 'sapling', 'mission', '50', 'crore', 'plantation', 'shall', 'accomplished', 'three', 'consecutive', 'year', 'viz', '2017', '2018', '2019', 'The', '4', 'crore', 'sapling', 'year', '2017', 'planted', 'Vanmohotsav', 'July', '1st', 'July', '7th', 'state', 'wide', 'drive', 'involvement', '33', 'government', 'department', 'along', 'Students', 'Schools', 'Colleges', 'NSS', 'NCC', 'CSR', 'NGOs', 'Railways', 'National', 'Highways', 'Defence', 'NABARD', 'stakeholder', 'Society', 'In', 'first', 'kind', '24', 'hour', 'toll', 'free', 'helpline', 'number', '1926', 'called', 'Hello', 'Forest', 'set', 'provide', 'information', 'regarding', 'plantation', 'protection', 'mass', 'awareness', 'The', 'Forest', 'Department', 'created', 'mobile', 'application', 'called', 'My', 'Plants', 'record', 'detail', 'plantation', 'number', 'specie', 'location', 'computer', 'system', 'Forest', 'Department', 'All', 'volunteer', 'individual', 'collective', 'organizational', 'level', 'download', 'use', 'application', 'record', 'tree', 'plantation', 'work', 'application', 'operational', '1st', 'July', '7th', 'July', 'In', 'consonance', 'public', 'participation', 'Maharashtra', 'Forest', 'Department', 'initiated', 'Maharashtra', 'Harit', 'Sena', 'Green', 'Army', 'body', 'dedicated', 'volunteer', 'participate', 'plantation', 'protection', 'activity', 'forest', 'wildlife', 'related', 'sector', 'around', 'year', 'Individuals', 'organisation', 'interested', 'volunteering', 'register', 'Green', 'Army', 'website', 'www', 'greenarmy', 'mahaforest', 'gov', 'An', 'integrated', 'drive', 'set', 'place', 'ensure', 'seamless', 'successful', 'participation', 'stakeholder', 'society', 'especially', 'public']\n"
     ]
    }
   ],
   "source": [
    "lemmatizer = nltk.stem.WordNetLemmatizer()\n",
    "lemmatized_tokens = [ lemmatizer.lemmatize( token ) for token in word_tokens ]\n",
    "print( lemmatized_tokens )"
   ]
  },
  {
   "cell_type": "markdown",
   "id": "9975fdf4-5895-4ab1-aa29-f626e2c47ad7",
   "metadata": {},
   "source": [
    "### Stemming"
   ]
  },
  {
   "cell_type": "code",
   "execution_count": 13,
   "id": "3434daf3-5d11-4c0f-a381-388da3c56b80",
   "metadata": {},
   "outputs": [
    {
     "name": "stdout",
     "output_type": "stream",
     "text": [
      "['between', '2016', '2019', 'state', 'forest', 'depart', 'bjp', 'govern', 'launch', 'green', 'maharashtra', 'drive', 'aim', 'plant', '50', 'crore', 'tree', 'across', 'state', 'four', 'year', 'period', 'in', 'octob', '2019', 'govern', 'claim', 'surpass', 'target', 'plant', '33', 'crore', 'tree', 'juli', 'septemb', '2019', 'the', 'indian', 'express', 'found', 'non', 'forest', 'agenc', 'gram', 'panchayat', 'task', 'plant', 'tree', 'upload', 'mandatori', 'audio', 'visual', 'proof', 'tree', 'plantat', 'drive', 'special', 'creat', 'portal', 'in', 'pune', 'revenu', 'divis', 'claim', 'gram', 'panchayat', 'plant', '1', '7', 'crore', 'sapl', 'howev', 'evid', 'upload', '87', 'per', 'cent', '1', '49', 'crore', 'sapl', 'also', '59', 'govern', 'agenc', 'involv', 'drive', 'mani', '38', 'submit', 'surviv', 'report', 'sapl', 'thi', 'year', 'target', 'set', 'forest', 'depart', 'compar', 'modest', 'for', 'exampl', 'pune', 'circl', 'compris', 'three', 'divis', 'pune', 'solapur', 'district', 'plan', 'plant', '17', 'lakh', 'sapl', 'forest', 'land', 'howev', 'may', 'meet', 'target', 'due', 'unavail', 'fund', 'last', 'year', 'pune', 'circl', 'plant', '70', 'lakh', 'sapl', 'forest', 'land', 'in', 'pune', 'divis', 'compris', 'six', 'taluka', 'name', 'maval', 'mulshi', 'daund', 'indapur', 'baramati', 'havv', 'prepar', 'done', 'plantat', '4', 'lakh', 'tree', 'special', 'emphasi', 'teakwood', 'the', 'nation', 'forest', 'polici', 'aim', 'emphas', 'maintain', '33', 'countri', 'geograph', 'area', 'forest', 'green', 'cover', 'in', 'view', 'part', '50', 'crore', 'plantat', 'programm', 'within', 'maharashtra', 'maharashtra', 'forest', 'depart', 'aim', 'plant', '4', 'crore', 'sapl', 'state', '1st', 'juli', '7th', '2017', 'celebr', 'vanmohotsav', 'the', 'plantat', 'programm', 'announc', '2016', 'aim', 'plant', '2', 'crore', 'tree', '1st', 'juli', '2016', 'resound', 'success', 'final', 'total', 'report', 'figur', '2', '82', 'crore', 'sapl', 'plant', 'singl', 'day', 'to', 'maintain', 'consist', 'platform', 'without', 'affect', 'momentum', 'forest', 'depart', 'set', 'target', 'plantat', '4', 'crore', '13', 'crore', '33', 'crore', 'sapl', 'mission', '50', 'crore', 'plantat', 'shall', 'accomplish', 'three', 'consecut', 'year', 'viz', '2017', '2018', '2019', 'the', '4', 'crore', 'sapl', 'year', '2017', 'plant', 'vanmohotsav', 'juli', '1st', 'juli', '7th', 'state', 'wide', 'drive', 'involv', '33', 'govern', 'depart', 'along', 'student', 'school', 'colleg', 'nss', 'ncc', 'csr', 'ngo', 'railway', 'nation', 'highway', 'defenc', 'nabard', 'stakehold', 'societi', 'in', 'first', 'kind', '24', 'hour', 'toll', 'free', 'helplin', 'number', '1926', 'call', 'hello', 'forest', 'set', 'provid', 'inform', 'regard', 'plantat', 'protect', 'mass', 'awar', 'the', 'forest', 'depart', 'creat', 'mobil', 'applic', 'call', 'my', 'plant', 'record', 'detail', 'plantat', 'number', 'speci', 'locat', 'comput', 'system', 'forest', 'depart', 'all', 'volunt', 'individu', 'collect', 'organiz', 'level', 'download', 'use', 'applic', 'record', 'tree', 'plantat', 'work', 'applic', 'oper', '1st', 'juli', '7th', 'juli', 'in', 'conson', 'public', 'particip', 'maharashtra', 'forest', 'depart', 'initi', 'maharashtra', 'harit', 'sena', 'green', 'armi', 'bodi', 'dedic', 'volunt', 'particip', 'plantat', 'protect', 'activ', 'forest', 'wildlif', 'relat', 'sector', 'around', 'year', 'individu', 'organis', 'interest', 'volunt', 'regist', 'green', 'armi', 'websit', 'www', 'greenarmi', 'mahaforest', 'gov', 'an', 'integr', 'drive', 'set', 'place', 'ensur', 'seamless', 'success', 'particip', 'stakehold', 'societi', 'especi', 'public']\n"
     ]
    }
   ],
   "source": [
    "from nltk.stem import PorterStemmer\n",
    "\n",
    "stemmer = PorterStemmer()\n",
    "stemmed_tokens = [ stemmer.stem(token) for token in word_tokens ]\n",
    "print( stemmed_tokens )"
   ]
  },
  {
   "cell_type": "markdown",
   "id": "9b3cc9f9-9e7f-4b05-8faf-0f9276b5d4e9",
   "metadata": {},
   "source": [
    "## TF and IDF"
   ]
  },
  {
   "cell_type": "code",
   "execution_count": 14,
   "id": "dc2aaf57-54ca-4297-9b47-0bfbcb70906b",
   "metadata": {},
   "outputs": [
    {
     "name": "stdout",
     "output_type": "stream",
     "text": [
      "TF1 :  {'1': 0.003289473684210526, '13': 0.001644736842105263, '17': 0.001644736842105263, '1926': 0.001644736842105263, '1st': 0.006578947368421052, '2': 0.003289473684210526, '2016': 0.004934210526315789, '2017': 0.004934210526315789, '2018': 0.001644736842105263, '2019': 0.006578947368421052, '24': 0.001644736842105263, '33': 0.006578947368421052, '38': 0.001644736842105263, '4': 0.006578947368421052, '49': 0.001644736842105263, '50': 0.004934210526315789, '59': 0.001644736842105263, '7': 0.001644736842105263, '70': 0.001644736842105263, '7th': 0.004934210526315789, '82': 0.001644736842105263, '87': 0.001644736842105263, 'All': 0.001644736842105263, 'Also': 0.001644736842105263, 'An': 0.001644736842105263, 'Army': 0.003289473684210526, 'BJP': 0.001644736842105263, 'Baramati': 0.001644736842105263, 'Between': 0.001644736842105263, 'CSR': 0.001644736842105263, 'Circle': 0.003289473684210526, 'Colleges': 0.001644736842105263, 'Daund': 0.001644736842105263, 'Defence': 0.001644736842105263, 'Department': 0.008223684210526315, 'Division': 0.003289473684210526, 'Express': 0.001644736842105263, 'For': 0.001644736842105263, 'Forest': 0.011513157894736841, 'Green': 0.004934210526315789, 'Harit': 0.001644736842105263, 'Havveli': 0.001644736842105263, 'Hello': 0.001644736842105263, 'Highways': 0.001644736842105263, 'However': 0.001644736842105263, 'In': 0.009868421052631578, 'Indapur': 0.001644736842105263, 'Indian': 0.001644736842105263, 'Individuals': 0.001644736842105263, 'July': 0.011513157894736841, 'Last': 0.001644736842105263, 'Maharashtra': 0.008223684210526315, 'Maval': 0.001644736842105263, 'Mulshi': 0.001644736842105263, 'My': 0.001644736842105263, 'NABARD': 0.001644736842105263, 'NCC': 0.001644736842105263, 'NGOs': 0.001644736842105263, 'NSS': 0.001644736842105263, 'National': 0.003289473684210526, 'October': 0.001644736842105263, 'Plants': 0.001644736842105263, 'Policy': 0.001644736842105263, 'Pune': 0.008223684210526315, 'Railways': 0.001644736842105263, 'Revenue': 0.001644736842105263, 'Schools': 0.001644736842105263, 'Sena': 0.001644736842105263, 'September': 0.001644736842105263, 'Society': 0.001644736842105263, 'Solapur': 0.001644736842105263, 'State': 0.001644736842105263, 'Students': 0.001644736842105263, 'The': 0.008223684210526315, 'This': 0.001644736842105263, 'To': 0.001644736842105263, 'Vanmohotsav': 0.003289473684210526, 'a': 0.013157894736842105, 'about': 0.003289473684210526, 'accomplished': 0.001644736842105263, 'across': 0.001644736842105263, 'activities': 0.001644736842105263, 'affecting': 0.001644736842105263, 'agencies': 0.003289473684210526, 'aim': 0.003289473684210526, 'aims': 0.003289473684210526, 'all': 0.003289473684210526, 'along': 0.001644736842105263, 'an': 0.001644736842105263, 'and': 0.029605263157894735, 'announced': 0.001644736842105263, 'application': 0.004934210526315789, 'area': 0.001644736842105263, 'around': 0.001644736842105263, 'as': 0.008223684210526315, 'at': 0.003289473684210526, 'audio': 0.001644736842105263, 'awareness': 0.001644736842105263, 'be': 0.004934210526315789, 'been': 0.003289473684210526, 'between': 0.001644736842105263, 'body': 0.001644736842105263, 'by': 0.003289473684210526, 'called': 0.003289473684210526, 'can': 0.001644736842105263, 'celebrate': 0.001644736842105263, 'cent': 0.001644736842105263, 'claimed': 0.003289473684210526, 'collective': 0.001644736842105263, 'comparatively': 0.001644736842105263, 'comprises': 0.003289473684210526, 'computer': 0.001644736842105263, 'consecutive': 0.001644736842105263, 'consistency': 0.001644736842105263, 'consonance': 0.001644736842105263, 'country': 0.001644736842105263, 'cover': 0.001644736842105263, 'created': 0.003289473684210526, 'crore': 0.02138157894736842, 'day': 0.001644736842105263, 'dedicated': 0.001644736842105263, 'department': 0.003289473684210526, 'departments': 0.001644736842105263, 'details': 0.001644736842105263, 'district': 0.001644736842105263, 'divisions': 0.001644736842105263, 'done': 0.001644736842105263, 'download': 0.001644736842105263, 'drive': 0.006578947368421052, 'drives': 0.001644736842105263, 'due': 0.001644736842105263, 'during': 0.001644736842105263, 'emphasis': 0.001644736842105263, 'emphasizes': 0.001644736842105263, 'ensure': 0.001644736842105263, 'especially': 0.001644736842105263, 'evidence': 0.001644736842105263, 'example': 0.001644736842105263, 'figure': 0.001644736842105263, 'final': 0.001644736842105263, 'first': 0.001644736842105263, 'for': 0.006578947368421052, 'forest': 0.011513157894736841, 'found': 0.001644736842105263, 'four': 0.001644736842105263, 'free': 0.001644736842105263, 'from': 0.003289473684210526, 'funds': 0.001644736842105263, 'geographical': 0.001644736842105263, 'gov': 0.001644736842105263, 'government': 0.006578947368421052, 'gram': 0.003289473684210526, 'green': 0.001644736842105263, 'greenarmy': 0.001644736842105263, 'had': 0.011513157894736841, 'has': 0.008223684210526315, 'helpline': 0.001644736842105263, 'hour': 0.001644736842105263, 'however': 0.001644736842105263, 'in': 0.019736842105263157, 'individual': 0.001644736842105263, 'information': 0.001644736842105263, 'initiated': 0.001644736842105263, 'integrated': 0.001644736842105263, 'interested': 0.001644736842105263, 'into': 0.001644736842105263, 'involved': 0.001644736842105263, 'involvement': 0.001644736842105263, 'is': 0.001644736842105263, 'it': 0.004934210526315789, 'its': 0.003289473684210526, 'kind': 0.001644736842105263, 'lakh': 0.004934210526315789, 'land': 0.003289473684210526, 'launched': 0.001644736842105263, 'level': 0.001644736842105263, 'location': 0.001644736842105263, 'mahaforest': 0.001644736842105263, 'maintain': 0.001644736842105263, 'maintaining': 0.001644736842105263, 'mandatory': 0.001644736842105263, 'many': 0.001644736842105263, 'mass': 0.001644736842105263, 'may': 0.001644736842105263, 'meet': 0.001644736842105263, 'mission': 0.001644736842105263, 'mobile': 0.001644736842105263, 'modest': 0.001644736842105263, 'momentum': 0.001644736842105263, 'namely': 0.001644736842105263, 'no': 0.001644736842105263, 'non': 0.001644736842105263, 'not': 0.004934210526315789, 'number': 0.001644736842105263, 'numbers': 0.001644736842105263, 'of': 0.03618421052631579, 'on': 0.011513157894736841, 'operational': 0.001644736842105263, 'organisations': 0.001644736842105263, 'organizational': 0.001644736842105263, 'other': 0.001644736842105263, 'out': 0.001644736842105263, 'over': 0.001644736842105263, 'panchayats': 0.003289473684210526, 'part': 0.001644736842105263, 'participate': 0.001644736842105263, 'participation': 0.003289473684210526, 'per': 0.001644736842105263, 'period': 0.001644736842105263, 'place': 0.001644736842105263, 'planned': 0.001644736842105263, 'plant': 0.004934210526315789, 'plantation': 0.01644736842105263, 'planted': 0.006578947368421052, 'planting': 0.004934210526315789, 'platform': 0.001644736842105263, 'portal': 0.001644736842105263, 'preparations': 0.001644736842105263, 'programme': 0.003289473684210526, 'proof': 0.001644736842105263, 'protection': 0.003289473684210526, 'provide': 0.001644736842105263, 'public': 0.003289473684210526, 'record': 0.003289473684210526, 'regarding': 0.001644736842105263, 'register': 0.001644736842105263, 'related': 0.001644736842105263, 'reported': 0.001644736842105263, 'reports': 0.001644736842105263, 'resounding': 0.001644736842105263, 's': 0.001644736842105263, 'saplings': 0.014802631578947368, 'seamless': 0.001644736842105263, 'sectors': 0.001644736842105263, 'set': 0.006578947368421052, 'shall': 0.001644736842105263, 'should': 0.001644736842105263, 'single': 0.001644736842105263, 'six': 0.001644736842105263, 'society': 0.001644736842105263, 'special': 0.001644736842105263, 'specially': 0.001644736842105263, 'species': 0.001644736842105263, 'stakeholders': 0.003289473684210526, 'state': 0.004934210526315789, 'submitted': 0.001644736842105263, 'success': 0.001644736842105263, 'successful': 0.001644736842105263, 'such': 0.003289473684210526, 'surpassed': 0.001644736842105263, 'survival': 0.001644736842105263, 'system': 0.001644736842105263, 'talukas': 0.001644736842105263, 'target': 0.004934210526315789, 'targets': 0.001644736842105263, 'tasked': 0.001644736842105263, 'teakwood': 0.001644736842105263, 'that': 0.001644736842105263, 'the': 0.06578947368421052, 'their': 0.001644736842105263, 'this': 0.004934210526315789, 'three': 0.003289473684210526, 'through': 0.001644736842105263, 'to': 0.02138157894736842, 'toll': 0.001644736842105263, 'total': 0.001644736842105263, 'tree': 0.003289473684210526, 'trees': 0.008223684210526315, 'unavailability': 0.001644736842105263, 'under': 0.004934210526315789, 'up': 0.001644736842105263, 'uploaded': 0.003289473684210526, 'use': 0.001644736842105263, 'view': 0.001644736842105263, 'visual': 0.001644736842105263, 'viz': 0.001644736842105263, 'volunteering': 0.001644736842105263, 'volunteers': 0.003289473684210526, 'was': 0.006578947368421052, 'website': 0.001644736842105263, 'were': 0.004934210526315789, 'which': 0.011513157894736841, 'wide': 0.001644736842105263, 'wildlife': 0.001644736842105263, 'will': 0.003289473684210526, 'with': 0.011513157894736841, 'within': 0.001644736842105263, 'without': 0.001644736842105263, 'work': 0.001644736842105263, 'www': 0.001644736842105263, 'year': 0.008223684210526315, 'years': 0.001644736842105263}\n",
      "TF2 :  {'05': 0.0026246719160104987, '127': 0.0026246719160104987, '15': 0.0026246719160104987, '2': 0.007874015748031496, '2017': 0.0026246719160104987, '2019': 0.0026246719160104987, '2030': 0.0026246719160104987, '250': 0.0026246719160104987, '3': 0.0026246719160104987, '5': 0.0026246719160104987, '6': 0.0026246719160104987, '60': 0.0026246719160104987, '79': 0.0026246719160104987, '80': 0.0026246719160104987, '89': 0.0026246719160104987, '95': 0.0026246719160104987, 'According': 0.0026246719160104987, 'All': 0.0026246719160104987, 'Besides': 0.0026246719160104987, 'Chauhan': 0.0026246719160104987, 'Dara': 0.0026246719160104987, 'Express': 0.0026246719160104987, 'Forest': 0.005249343832020997, 'How': 0.0026246719160104987, 'However': 0.005249343832020997, 'India': 0.010498687664041995, 'Indian': 0.0026246719160104987, 'Manoj': 0.0026246719160104987, 'Millions': 0.0026246719160104987, 'Minister': 0.0026246719160104987, 'More': 0.0026246719160104987, 'Pioneer': 0.0026246719160104987, 'Pradesh': 0.010498687664041995, 'QR': 0.0026246719160104987, 'Singh': 0.005249343832020997, 'State': 0.0026246719160104987, 'Sunday': 0.0026246719160104987, 'Survey': 0.0026246719160104987, 'The': 0.01837270341207349, 'There': 0.005249343832020997, 'These': 0.0026246719160104987, 'Uttar': 0.010498687664041995, 'We': 0.0026246719160104987, 'What': 0.0026246719160104987, 'Where': 0.0026246719160104987, 'a': 0.01837270341207349, 'about': 0.0026246719160104987, 'across': 0.005249343832020997, 'activists': 0.0026246719160104987, 'adding': 0.0026246719160104987, 'allocated': 0.0026246719160104987, 'along': 0.0026246719160104987, 'also': 0.0026246719160104987, 'an': 0.007874015748031496, 'and': 0.02099737532808399, 'annual': 0.005249343832020997, 'another': 0.0026246719160104987, 'are': 0.0026246719160104987, 'area': 0.005249343832020997, 'as': 0.007874015748031496, 'ascertain': 0.0026246719160104987, 'average': 0.0026246719160104987, 'been': 0.010498687664041995, 'being': 0.0026246719160104987, 'bid': 0.0026246719160104987, 'billion': 0.005249343832020997, 'by': 0.007874015748031496, 'campaign': 0.0026246719160104987, 'can': 0.005249343832020997, 'carbon': 0.0026246719160104987, 'carried': 0.0026246719160104987, 'carry': 0.0026246719160104987, 'change': 0.0026246719160104987, 'citing': 0.0026246719160104987, 'climate': 0.0026246719160104987, 'codes': 0.0026246719160104987, 'combat': 0.0026246719160104987, 'committed': 0.0026246719160104987, 'compared': 0.005249343832020997, 'concern': 0.0026246719160104987, 'country': 0.005249343832020997, 'cover': 0.013123359580052493, 'day': 0.0026246719160104987, 'development': 0.0026246719160104987, 'disease': 0.0026246719160104987, 'drive': 0.005249343832020997, 'drives': 0.0026246719160104987, 'emissions': 0.0026246719160104987, 'exactly': 0.0026246719160104987, 'extent': 0.0026246719160104987, 'farms': 0.0026246719160104987, 'few': 0.0026246719160104987, 'five': 0.0026246719160104987, 'for': 0.0026246719160104987, 'forest': 0.013123359580052493, 'forests': 0.0026246719160104987, 'formed': 0.0026246719160104987, 'four': 0.0026246719160104987, 'further': 0.0026246719160104987, 'geo': 0.0026246719160104987, 'government': 0.010498687664041995, 'growing': 0.0026246719160104987, 'happened': 0.0026246719160104987, 'has': 0.01837270341207349, 'have': 0.010498687664041995, 'he': 0.005249343832020997, 'hectares': 0.0026246719160104987, 'highways': 0.0026246719160104987, 'in': 0.028871391076115485, 'increase': 0.005249343832020997, 'increased': 0.005249343832020997, 'increasing': 0.0026246719160104987, 'industrial': 0.0026246719160104987, 'is': 0.005249343832020997, 'its': 0.0026246719160104987, 'kilometers': 0.0026246719160104987, 'lack': 0.0026246719160104987, 'land': 0.007874015748031496, 'last': 0.005249343832020997, 'lawmakers': 0.0026246719160104987, 'led': 0.0026246719160104987, 'long': 0.0026246719160104987, 'maintain': 0.0026246719160104987, 'many': 0.0026246719160104987, 'miles': 0.0026246719160104987, 'million': 0.005249343832020997, 'monitor': 0.0026246719160104987, 'most': 0.0026246719160104987, 'national': 0.0026246719160104987, 'newspaper': 0.005249343832020997, 'next': 0.0026246719160104987, 'not': 0.0026246719160104987, 'of': 0.03674540682414698, 'official': 0.007874015748031496, 'officials': 0.005249343832020997, 'on': 0.0026246719160104987, 'only': 0.0026246719160104987, 'or': 0.007874015748031496, 'out': 0.0026246719160104987, 'over': 0.005249343832020997, 'part': 0.0026246719160104987, 'people': 0.0026246719160104987, 'plantation': 0.005249343832020997, 'planted': 0.010498687664041995, 'planting': 0.007874015748031496, 'plants': 0.0026246719160104987, 'population': 0.0026246719160104987, 'populous': 0.0026246719160104987, 'progress': 0.0026246719160104987, 'project': 0.0026246719160104987, 'put': 0.0026246719160104987, 'quoted': 0.0026246719160104987, 'rapidly': 0.0026246719160104987, 'record': 0.0026246719160104987, 'reduce': 0.0026246719160104987, 'regions': 0.0026246719160104987, 'remains': 0.0026246719160104987, 'report': 0.0026246719160104987, 'rest': 0.0026246719160104987, 'riverbanks': 0.0026246719160104987, 's': 0.005249343832020997, 'said': 0.013123359580052493, 'saplings': 0.02099737532808399, 'saying': 0.0026246719160104987, 'schools': 0.0026246719160104987, 'single': 0.0026246719160104987, 'so': 0.005249343832020997, 'spokesperson': 0.0026246719160104987, 'sqare': 0.005249343832020997, 'state': 0.013123359580052493, 'stress': 0.0026246719160104987, 'succumb': 0.0026246719160104987, 'survival': 0.0026246719160104987, 'survive': 0.005249343832020997, 'survived': 0.005249343832020997, 'tagged': 0.0026246719160104987, 'teams': 0.0026246719160104987, 'term': 0.0026246719160104987, 'than': 0.0026246719160104987, 'that': 0.010498687664041995, 'the': 0.06299212598425197, 'third': 0.0026246719160104987, 'to': 0.026246719160104987, 'told': 0.0026246719160104987, 'took': 0.0026246719160104987, 'total': 0.005249343832020997, 'tree': 0.013123359580052493, 'trees': 0.005249343832020997, 'under': 0.0026246719160104987, 'usually': 0.0026246719160104987, 'verify': 0.0026246719160104987, 'volunteers': 0.0026246719160104987, 'vowed': 0.0026246719160104987, 'was': 0.005249343832020997, 'water': 0.0026246719160104987, 'we': 0.0026246719160104987, 'were': 0.007874015748031496, 'what': 0.0026246719160104987, 'where': 0.0026246719160104987, 'whether': 0.0026246719160104987, 'years': 0.005249343832020997}\n"
     ]
    }
   ],
   "source": [
    "import numpy as np\n",
    "\n",
    "def calc_term_freq(\n",
    "    doc\n",
    "):\n",
    "    word_tokens = nltk.word_tokenize( doc )\n",
    "    num_tokens = len( word_tokens )\n",
    "    unique_tokens , freqs = np.unique( word_tokens , return_counts=True )\n",
    "    tf = {}\n",
    "    for token , freq in zip( unique_tokens , freqs ):\n",
    "        tf[ token ] = freq / num_tokens\n",
    "    return tf\n",
    "\n",
    "tf = calc_term_freq( doc )\n",
    "tf_2 = calc_term_freq( doc_2 )\n",
    "\n",
    "print(\"TF1 : \", tf )\n",
    "print(\"TF2 : \", tf_2 )"
   ]
  },
  {
   "cell_type": "code",
   "execution_count": 15,
   "id": "0ea732d8-f179-4983-b8e6-97652a34414c",
   "metadata": {},
   "outputs": [
    {
     "name": "stdout",
     "output_type": "stream",
     "text": [
      "IDF :  {'Between': 0.0, '2016': 0.0, 'and': -0.40546510810816444, '2019': -0.40546510810816444, 'the': -0.40546510810816444, 'state': -0.40546510810816444, 'forest': -0.40546510810816444, 'department': 0.0, 'under': -0.40546510810816444, 'BJP': 0.0, 'government': -0.40546510810816444, 'had': 0.0, 'launched': 0.0, 'Green': 0.0, 'Maharashtra': 0.0, 'drive': -0.40546510810816444, 'with': 0.0, 'an': -0.40546510810816444, 'aim': 0.0, 'to': -0.40546510810816444, 'plant': 0.0, '50': 0.0, 'crore': 0.0, 'trees': -0.40546510810816444, 'across': -0.40546510810816444, 'in': -0.40546510810816444, 'four': -0.40546510810816444, 'year': 0.0, 'period': 0.0, 'In': 0.0, 'October': 0.0, 'claimed': 0.0, 'it': 0.0, 'surpassed': 0.0, 'target': 0.0, 'by': -0.40546510810816444, 'planting': -0.40546510810816444, '33': 0.0, 'July': 0.0, 'September': 0.0, 'The': -0.40546510810816444, 'Indian': -0.40546510810816444, 'Express': -0.40546510810816444, 'found': 0.0, 'that': -0.40546510810816444, 'non': 0.0, 'agencies': 0.0, 'such': 0.0, 'as': -0.40546510810816444, 'gram': 0.0, 'panchayats': 0.0, 'which': 0.0, 'were': -0.40546510810816444, 'tasked': 0.0, 'not': -0.40546510810816444, 'uploaded': 0.0, 'mandatory': 0.0, 'audio': 0.0, 'visual': 0.0, 'proof': 0.0, 'of': -0.40546510810816444, 'tree': -0.40546510810816444, 'plantation': -0.40546510810816444, 'drives': -0.40546510810816444, 'on': -0.40546510810816444, 'specially': 0.0, 'created': 0.0, 'portal': 0.0, 'Pune': 0.0, 'Revenue': 0.0, 'Division': 0.0, 'was': -0.40546510810816444, 'planted': -0.40546510810816444, '1': 0.0, '7': 0.0, 'saplings': -0.40546510810816444, 'however': 0.0, 'no': 0.0, 'evidence': 0.0, 'for': -0.40546510810816444, '87': 0.0, 'per': 0.0, 'cent': 0.0, '49': 0.0, 'Also': 0.0, 'out': -0.40546510810816444, '59': 0.0, 'involved': 0.0, 'many': -0.40546510810816444, '38': 0.0, 'submitted': 0.0, 'survival': -0.40546510810816444, 'reports': 0.0, 'about': -0.40546510810816444, 'This': 0.0, 'targets': 0.0, 'set': 0.0, 'comparatively': 0.0, 'modest': 0.0, 'For': 0.0, 'example': 0.0, 'Circle': 0.0, 'comprises': 0.0, 'three': 0.0, 'divisions': 0.0, 'Solapur': 0.0, 'district': 0.0, 'planned': 0.0, '17': 0.0, 'lakh': 0.0, 'land': -0.40546510810816444, 'However': -0.40546510810816444, 'may': 0.0, 'meet': 0.0, 'due': 0.0, 'unavailability': 0.0, 'funds': 0.0, 'Last': 0.0, '70': 0.0, 'six': 0.0, 'talukas': 0.0, 'namely': 0.0, 'Maval': 0.0, 'Mulshi': 0.0, 'Daund': 0.0, 'Indapur': 0.0, 'Baramati': 0.0, 'Havveli': 0.0, 'preparations': 0.0, 'done': 0.0, '4': 0.0, 'special': 0.0, 'emphasis': 0.0, 'teakwood': 0.0, 'National': 0.0, 'Forest': -0.40546510810816444, 'Policy': 0.0, 'aims': 0.0, 'emphasizes': 0.0, 'at': 0.0, 'maintaining': 0.0, 'country': -0.40546510810816444, 's': -0.40546510810816444, 'geographical': 0.0, 'area': -0.40546510810816444, 'green': 0.0, 'cover': -0.40546510810816444, 'view': 0.0, 'this': 0.0, 'a': -0.40546510810816444, 'part': -0.40546510810816444, 'programme': 0.0, 'within': 0.0, 'Department': 0.0, 'all': 0.0, 'over': -0.40546510810816444, 'State': -0.40546510810816444, 'between': 0.0, '1st': 0.0, '7th': 0.0, '2017': -0.40546510810816444, 'celebrate': 0.0, 'Vanmohotsav': 0.0, 'announced': 0.0, '2': -0.40546510810816444, 'resounding': 0.0, 'success': 0.0, 'final': 0.0, 'total': -0.40546510810816444, 'reported': 0.0, 'figure': 0.0, '82': 0.0, 'single': -0.40546510810816444, 'day': -0.40546510810816444, 'To': 0.0, 'maintain': -0.40546510810816444, 'consistency': 0.0, 'platform': 0.0, 'without': 0.0, 'affecting': 0.0, 'its': -0.40546510810816444, 'momentum': 0.0, 'has': -0.40546510810816444, '13': 0.0, 'mission': 0.0, 'shall': 0.0, 'be': 0.0, 'accomplished': 0.0, 'consecutive': 0.0, 'years': -0.40546510810816444, 'viz': 0.0, '2018': 0.0, 'will': 0.0, 'during': 0.0, 'wide': 0.0, 'involvement': 0.0, 'departments': 0.0, 'along': -0.40546510810816444, 'Students': 0.0, 'Schools': 0.0, 'Colleges': 0.0, 'NSS': 0.0, 'NCC': 0.0, 'CSR': 0.0, 'NGOs': 0.0, 'Railways': 0.0, 'Highways': 0.0, 'Defence': 0.0, 'NABARD': 0.0, 'other': 0.0, 'stakeholders': 0.0, 'Society': 0.0, 'first': 0.0, 'kind': 0.0, '24': 0.0, 'hour': 0.0, 'toll': 0.0, 'free': 0.0, 'helpline': 0.0, 'number': 0.0, '1926': 0.0, 'called': 0.0, 'Hello': 0.0, 'been': -0.40546510810816444, 'up': 0.0, 'provide': 0.0, 'information': 0.0, 'regarding': 0.0, 'protection': 0.0, 'mass': 0.0, 'awareness': 0.0, 'mobile': 0.0, 'application': 0.0, 'My': 0.0, 'Plants': 0.0, 'record': -0.40546510810816444, 'details': 0.0, 'numbers': 0.0, 'species': 0.0, 'location': 0.0, 'into': 0.0, 'computer': 0.0, 'system': 0.0, 'All': -0.40546510810816444, 'volunteers': -0.40546510810816444, 'individual': 0.0, 'collective': 0.0, 'organizational': 0.0, 'level': 0.0, 'should': 0.0, 'download': 0.0, 'use': 0.0, 'their': 0.0, 'work': 0.0, 'through': 0.0, 'operational': 0.0, 'from': 0.0, 'consonance': 0.0, 'public': 0.0, 'participation': 0.0, 'initiated': 0.0, 'Harit': 0.0, 'Sena': 0.0, 'Army': 0.0, 'is': -0.40546510810816444, 'body': 0.0, 'dedicated': 0.0, 'participate': 0.0, 'activities': 0.0, 'wildlife': 0.0, 'related': 0.0, 'sectors': 0.0, 'around': 0.0, 'Individuals': 0.0, 'organisations': 0.0, 'interested': 0.0, 'volunteering': 0.0, 'can': -0.40546510810816444, 'register': 0.0, 'website': 0.0, 'www': 0.0, 'greenarmy': 0.0, 'mahaforest': 0.0, 'gov': 0.0, 'An': 0.0, 'integrated': 0.0, 'place': 0.0, 'ensure': 0.0, 'seamless': 0.0, 'successful': 0.0, 'society': 0.0, 'especially': 0.0, 'Millions': 0.0, 'people': 0.0, 'India': 0.0, 'took': 0.0, 'annual': 0.0, 'Sunday': 0.0, 'More': 0.0, 'than': 0.0, '250': 0.0, 'million': 0.0, 'most': 0.0, 'populous': 0.0, 'campaign': 0.0, 'led': 0.0, 'Uttar': 0.0, 'Pradesh': 0.0, 'officials': 0.0, 'lawmakers': 0.0, 'activists': 0.0, 'bid': 0.0, 'reduce': 0.0, 'carbon': 0.0, 'emissions': 0.0, 'combat': 0.0, 'climate': 0.0, 'change': 0.0, 'Where': 0.0, 'forests': 0.0, 'farms': 0.0, 'schools': 0.0, 'riverbanks': 0.0, 'highways': 0.0, 'We': 0.0, 'are': 0.0, 'committed': 0.0, 'increasing': 0.0, '15': 0.0, 'next': 0.0, 'five': 0.0, 'said': 0.0, 'official': 0.0, 'Manoj': 0.0, 'Singh': 0.0, 'According': 0.0, 'another': 0.0, 'increased': 0.0, 'last': 0.0, 'few': 0.0, 'There': 0.0, 'increase': 0.0, '127': 0.0, 'sqare': 0.0, 'kilometers': 0.0, '79': 0.0, 'miles': 0.0, 'compared': 0.0, 'spokesperson': 0.0, 'quoted': 0.0, 'saying': 0.0, 'newspaper': 0.0, 'also': 0.0, 'plants': 0.0, '3': 0.0, '05': 0.0, 'national': 0.0, 'average': 0.0, '89': 0.0, 'citing': 0.0, 'Survey': 0.0, 'report': 0.0, 'How': 0.0, 'survive': 0.0, 'Minister': 0.0, 'Dara': 0.0, 'long': 0.0, 'term': 0.0, 'remains': 0.0, 'concern': 0.0, 'adding': 0.0, 'usually': 0.0, 'only': 0.0, '60': 0.0, 'rest': 0.0, 'succumb': 0.0, 'disease': 0.0, 'or': 0.0, 'lack': 0.0, 'water': 0.0, 'he': 0.0, '80': 0.0, 'have': 0.0, 'survived': 0.0, 'regions': 0.0, 'where': 0.0, 'being': 0.0, 'carried': 0.0, 'geo': 0.0, 'tagged': 0.0, 'so': 0.0, 'we': 0.0, 'ascertain': 0.0, 'what': 0.0, 'exactly': 0.0, 'happened': 0.0, 'Chauhan': 0.0, 'told': 0.0, 'Pioneer': 0.0, 'These': 0.0, 'carry': 0.0, 'QR': 0.0, 'codes': 0.0, 'verify': 0.0, 'whether': 0.0, 'Besides': 0.0, 'teams': 0.0, 'formed': 0.0, 'monitor': 0.0, 'progress': 0.0, 'What': 0.0, 'extent': 0.0, 'project': 0.0, 'vowed': 0.0, 'third': 0.0, '95': 0.0, 'hectares': 0.0, '2030': 0.0, 'allocated': 0.0, '6': 0.0, 'billion': 0.0, '5': 0.0, 'industrial': 0.0, 'development': 0.0, 'rapidly': 0.0, 'growing': 0.0, 'population': 0.0, 'put': 0.0, 'further': 0.0, 'stress': 0.0}\n"
     ]
    }
   ],
   "source": [
    "import math\n",
    "\n",
    "doc_1_tokens = nltk.word_tokenize( doc )\n",
    "doc_2_tokens = nltk.word_tokenize( doc_2 )\n",
    "\n",
    "def calc_idf():\n",
    "    N = 2\n",
    "    all_tokens = doc_1_tokens + doc_2_tokens\n",
    "    idf = {}\n",
    "    for token in all_tokens:\n",
    "        f = 1\n",
    "        if token in doc_1_tokens:\n",
    "            f += 1\n",
    "        if token in doc_2_tokens:\n",
    "            f += 1\n",
    "        idf[ token ] = math.log( N / f )\n",
    "    return idf\n",
    "\n",
    "idf = calc_idf()\n",
    "print(\"IDF : \", idf )"
   ]
  },
  {
   "cell_type": "code",
   "execution_count": 16,
   "id": "9de1aa3c-896e-47cc-977b-24fef59b71d8",
   "metadata": {},
   "outputs": [],
   "source": [
    "doc_1_repr = []\n",
    "for token in doc_1_tokens:\n",
    "    doc_1_repr.append( tf[ token ] * idf[token] )\n",
    "doc_2_repr = []\n",
    "for token in doc_2_tokens:\n",
    "    doc_2_repr.append( tf_2[ token ] * idf[token] )"
   ]
  },
  {
   "cell_type": "markdown",
   "id": "0c2e7bea",
   "metadata": {},
   "source": [
    "### TF-IDF for doc1"
   ]
  },
  {
   "cell_type": "code",
   "execution_count": 17,
   "id": "db2ff130-ad13-4b55-b499-31ee1ac504f3",
   "metadata": {},
   "outputs": [
    {
     "name": "stdout",
     "output_type": "stream",
     "text": [
      "[0.0, 0.0, -0.012003901226886446, -0.0026675336059747657, -0.02667533605974766, -0.0020006502044810745, -0.004668183810455841, 0.0, -0.0020006502044810745, -0.02667533605974766, 0.0, -0.0026675336059747657, 0.0, 0.0, 0.0, 0.0, -0.0026675336059747657, 0.0, -0.0006668834014936914, 0.0, -0.00866948421941799, 0.0, 0.0, 0.0, -0.0033344170074684574, -0.0006668834014936914, -0.02667533605974766, -0.0020006502044810745, -0.008002600817924298, -0.02667533605974766, -0.0006668834014936914, 0.0, 0.0, 0.0, 0.0, -0.0026675336059747657, -0.02667533605974766, -0.0026675336059747657, 0.0, 0.0, 0.0, 0.0, 0.0, -0.02667533605974766, 0.0, -0.0013337668029873829, -0.0020006502044810745, 0.0, 0.0, -0.0033344170074684574, -0.008002600817924298, 0.0, 0.0, -0.0026675336059747657, -0.0033344170074684574, -0.0006668834014936914, -0.0006668834014936914, 0.0, 0.0, -0.0006668834014936914, 0.0, -0.004668183810455841, 0.0, 0.0, -0.0033344170074684574, 0.0, 0.0, 0.0, -0.0020006502044810745, 0.0, 0.0, -0.0020006502044810745, -0.0033344170074684574, 0.0, -0.0020006502044810745, 0.0, -0.02667533605974766, 0.0, 0.0, 0.0, 0.0, -0.014671434832861215, -0.02667533605974766, -0.0013337668029873829, -0.006668834014936915, -0.0006668834014936914, -0.004668183810455841, -0.02667533605974766, 0.0, 0.0, 0.0, 0.0, 0.0, 0.0, 0.0, 0.0, -0.0026675336059747657, 0.0, -0.02667533605974766, 0.0, 0.0, -0.0026675336059747657, 0.0, 0.0, 0.0, -0.006001950613443223, 0.0, 0.0, 0.0, -0.0026675336059747657, 0.0, -0.0026675336059747657, 0.0, 0.0, 0.0, 0.0, 0.0, 0.0, -0.006001950613443223, 0.0, -0.0006668834014936914, -0.014671434832861215, -0.02667533605974766, 0.0, -0.0026675336059747657, 0.0, 0.0, -0.008002600817924298, -0.02667533605974766, -0.0026675336059747657, -0.0033344170074684574, -0.0006668834014936914, -0.0033344170074684574, 0.0, 0.0, -0.0020006502044810745, 0.0, -0.0006668834014936914, 0.0, -0.0013337668029873829, -0.02667533605974766, -0.006001950613443223, 0.0, 0.0, -0.02667533605974766, 0.0, 0.0, -0.0013337668029873829, -0.02667533605974766, -0.004668183810455841, 0.0, -0.0020006502044810745, 0.0, 0.0, 0.0, 0.0, 0.0, 0.0, 0.0, 0.0, 0.0, 0.0, -0.008002600817924298, 0.0, -0.012003901226886446, 0.0, 0.0, 0.0, 0.0, -0.00866948421941799, 0.0, 0.0, 0.0, -0.006001950613443223, -0.004668183810455841, -0.004668183810455841, -0.0013337668029873829, -0.0006668834014936914, 0.0, 0.0, -0.0020006502044810745, 0.0, -0.02667533605974766, 0.0, 0.0, -0.00866948421941799, 0.0, -0.014671434832861215, 0.0, 0.0, 0.0, 0.0, 0.0, -0.0026675336059747657, 0.0, 0.0, -0.006001950613443223, -0.004668183810455841, -0.004668183810455841, -0.0013337668029873829, 0.0, 0.0, 0.0, 0.0, 0.0, 0.0, 0.0, 0.0, 0.0, 0.0, 0.0, 0.0, 0.0, -0.012003901226886446, 0.0, 0.0, -0.0020006502044810745, 0.0, -0.0026675336059747657, -0.006668834014936915, -0.014671434832861215, -0.0013337668029873829, 0.0, 0.0, -0.0033344170074684574, 0.0, 0.0, 0.0, -0.004668183810455841, 0.0, -0.0033344170074684574, 0.0, -0.004668183810455841, 0.0, 0.0, -0.012003901226886446, 0.0, 0.0, 0.0, 0.0, -0.014671434832861215, -0.02667533605974766, -0.0006668834014936914, -0.0006668834014936914, 0.0, -0.0006668834014936914, -0.0020006502044810745, -0.004668183810455841, -0.012003901226886446, 0.0, -0.0006668834014936914, 0.0, 0.0, -0.014671434832861215, 0.0, -0.012003901226886446, -0.0033344170074684574, -0.0053350672119495315, -0.0006668834014936914, -0.014671434832861215, -0.02667533605974766, 0.0, 0.0, -0.006668834014936915, 0.0, 0.0, 0.0, -0.02667533605974766, 0.0, -0.004668183810455841, 0.0, 0.0, -0.00866948421941799, 0.0, 0.0, 0.0, -0.006001950613443223, 0.0, -0.0006668834014936914, -0.02667533605974766, -0.0006668834014936914, 0.0, 0.0, -0.00866948421941799, 0.0, 0.0, -0.0020006502044810745, -0.00866948421941799, 0.0, 0.0, -0.0033344170074684574, -0.006668834014936915, 0.0, 0.0, -0.0026675336059747657, 0.0, -0.008002600817924298, 0.0, 0.0, -0.02667533605974766, 0.0, -0.014671434832861215, -0.0020006502044810745, -0.0013337668029873829, 0.0, -0.0033344170074684574, -0.004668183810455841, 0.0, 0.0, 0.0, -0.0026675336059747657, -0.0053350672119495315, 0.0, 0.0, 0.0, -0.02667533605974766, 0.0, -0.0006668834014936914, 0.0, 0.0, -0.014671434832861215, -0.0013337668029873829, 0.0, 0.0, -0.006001950613443223, -0.0026675336059747657, -0.004668183810455841, -0.0053350672119495315, -0.0006668834014936914, -0.0006668834014936914, 0.0, -0.0006668834014936914, 0.0, -0.014671434832861215, 0.0, 0.0, 0.0, 0.0, -0.0013337668029873829, 0.0, -0.02667533605974766, -0.004668183810455841, 0.0, -0.0033344170074684574, 0.0, -0.02667533605974766, 0.0, -0.014671434832861215, -0.006668834014936915, -0.014671434832861215, 0.0, 0.0, 0.0, 0.0, -0.012003901226886446, 0.0, 0.0, -0.006001950613443223, -0.0020006502044810745, -0.02667533605974766, 0.0, -0.014671434832861215, 0.0, 0.0, -0.006668834014936915, 0.0, 0.0, 0.0, 0.0, -0.008002600817924298, -0.02667533605974766, 0.0, 0.0, -0.0006668834014936914, 0.0, -0.0020006502044810745, 0.0, -0.012003901226886446, -0.0026675336059747657, -0.0033344170074684574, 0.0, 0.0, -0.006001950613443223, -0.0026675336059747657, -0.02667533605974766, 0.0, -0.0020006502044810745, 0.0, 0.0, -0.0026675336059747657, 0.0, -0.02667533605974766, 0.0, 0.0, 0.0, -0.00866948421941799, 0.0, 0.0, -0.008002600817924298, -0.0053350672119495315, -0.0020006502044810745, 0.0, -0.0026675336059747657, 0.0, -0.02667533605974766, 0.0, -0.014671434832861215, 0.0, -0.0026675336059747657, 0.0, -0.0006668834014936914, 0.0, 0.0, -0.014671434832861215, 0.0, -0.012003901226886446, 0.0, 0.0, 0.0, 0.0, 0.0, 0.0, 0.0, 0.0, 0.0, 0.0, -0.012003901226886446, 0.0, 0.0, -0.014671434832861215, 0.0, 0.0, -0.0053350672119495315, 0.0, -0.014671434832861215, -0.0013337668029873829, 0.0, -0.0053350672119495315, 0.0, 0.0, 0.0, 0.0, 0.0, 0.0, 0.0, 0.0, 0.0, -0.004668183810455841, -0.0033344170074684574, -0.0013337668029873829, 0.0, 0.0, -0.00866948421941799, 0.0, 0.0, 0.0, -0.006668834014936915, 0.0, -0.012003901226886446, -0.0026675336059747657, 0.0, 0.0, -0.0033344170074684574, -0.004668183810455841, 0.0, -0.0033344170074684574, 0.0, -0.0053350672119495315, 0.0, 0.0, 0.0, 0.0, 0.0, -0.00866948421941799, -0.0013337668029873829, 0.0, -0.014671434832861215, -0.02667533605974766, -0.006668834014936915, 0.0, -0.0033344170074684574, 0.0, 0.0, -0.012003901226886446, 0.0, 0.0, -0.02667533605974766, 0.0, 0.0, -0.014671434832861215, -0.02667533605974766, -0.004668183810455841, 0.0, -0.0006668834014936914, -0.0013337668029873829, 0.0, 0.0, 0.0, -0.012003901226886446, 0.0, 0.0, 0.0, 0.0, -0.012003901226886446, 0.0, 0.0, 0.0, -0.00866948421941799, -0.0013337668029873829, 0.0, -0.0013337668029873829, -0.006668834014936915, 0.0, 0.0, -0.02667533605974766, 0.0, 0.0, 0.0, 0.0, 0.0, 0.0, 0.0, 0.0, -0.00866948421941799, 0.0, 0.0, 0.0, 0.0, -0.014671434832861215, -0.02667533605974766, 0.0, 0.0, -0.02667533605974766, 0.0, -0.004668183810455841, 0.0, -0.0033344170074684574, 0.0, -0.02667533605974766, 0.0, 0.0, 0.0, 0.0, 0.0, 0.0, -0.0006668834014936914, -0.0053350672119495315, 0.0, -0.014671434832861215, 0.0, -0.0013337668029873829, -0.00866948421941799, 0.0, -0.008002600817924298, -0.02667533605974766, -0.006668834014936915, 0.0, -0.012003901226886446, 0.0, -0.008002600817924298, -0.004668183810455841, 0.0, -0.012003901226886446, 0.0, 0.0, 0.0, -0.02667533605974766, 0.0, 0.0, -0.012003901226886446, 0.0, 0.0, -0.008002600817924298, 0.0, -0.0006668834014936914, 0.0, -0.004668183810455841, -0.02667533605974766, 0.0, 0.0, 0.0, 0.0, 0.0, 0.0, 0.0, -0.008002600817924298, 0.0, 0.0, -0.0026675336059747657, -0.0033344170074684574, -0.0013337668029873829, 0.0, -0.008002600817924298, 0.0, -0.00866948421941799, 0.0, 0.0, -0.012003901226886446, 0.0, 0.0, 0.0, 0.0, 0.0, -0.014671434832861215, 0.0, 0.0, -0.02667533605974766, 0.0]\n"
     ]
    }
   ],
   "source": [
    "print( doc_1_repr )"
   ]
  },
  {
   "cell_type": "markdown",
   "id": "334d608a",
   "metadata": {},
   "source": [
    "### TF-IDF for doc2"
   ]
  },
  {
   "cell_type": "code",
   "execution_count": 18,
   "id": "60b25643-f613-4d79-b66d-7963d165a50b",
   "metadata": {},
   "outputs": [
    {
     "name": "stdout",
     "output_type": "stream",
     "text": [
      "[0.0, -0.014898980350431239, 0.0, -0.011706341703910259, 0.0, 0.0, -0.00106421288217366, -0.011706341703910259, -0.00319263864652098, 0.0, -0.0053210644108683, -0.00319263864652098, -0.00212842576434732, 0.0, 0.0, 0.0, 0.0, 0.0, -0.00851370305738928, -0.00319263864652098, -0.00425685152869464, -0.011706341703910259, -0.007449490175215619, -0.00106421288217366, -0.00106421288217366, -0.00212842576434732, -0.02554110917216784, -0.00212842576434732, -0.00212842576434732, 0.0, 0.0, -0.0053210644108683, -0.007449490175215619, 0.0, -0.00212842576434732, 0.0, -0.00319263864652098, 0.0, 0.0, -0.0053210644108683, -0.00425685152869464, 0.0, 0.0, -0.00851370305738928, 0.0, -0.011706341703910259, -0.007449490175215619, 0.0, -0.0106421288217366, 0.0, 0.0, 0.0, -0.00851370305738928, 0.0, 0.0, 0.0, 0.0, -0.00319263864652098, -0.02554110917216784, -0.00212842576434732, -0.00425685152869464, -0.007449490175215619, -0.00851370305738928, -0.00319263864652098, -0.00425685152869464, -0.00319263864652098, -0.00106421288217366, -0.011706341703910259, 0.0, 0.0, 0.0, -0.00851370305738928, -0.00106421288217366, 0.0, -0.00851370305738928, 0.0, 0.0, 0.0, 0.0, -0.0106421288217366, 0.0, -0.02554110917216784, -0.0053210644108683, -0.0053210644108683, -0.014898980350431239, 0.0, 0.0, -0.0106421288217366, -0.00212842576434732, 0.0, -0.014898980350431239, -0.02554110917216784, -0.00212842576434732, -0.00319263864652098, -0.00212842576434732, -0.011706341703910259, -0.02554110917216784, 0.0, 0.0, -0.00212842576434732, 0.0, -0.0053210644108683, -0.0053210644108683, 0.0, 0.0, 0.0, 0.0, -0.0106421288217366, 0.0, -0.00425685152869464, 0.0, -0.02554110917216784, -0.0053210644108683, -0.0053210644108683, -0.014898980350431239, -0.02554110917216784, -0.0053210644108683, -0.007449490175215619, 0.0, -0.00212842576434732, -0.02554110917216784, 0.0, 0.0, -0.00212842576434732, 0.0, -0.007449490175215619, -0.00425685152869464, -0.00319263864652098, 0.0, -0.014898980350431239, 0.0, 0.0, 0.0, 0.0, 0.0, 0.0, -0.011706341703910259, -0.02554110917216784, -0.0053210644108683, -0.0053210644108683, -0.011706341703910259, 0.0, 0.0, -0.00319263864652098, 0.0, -0.0106421288217366, -0.00106421288217366, -0.007449490175215619, -0.0053210644108683, -0.00425685152869464, 0.0, -0.00212842576434732, 0.0, -0.00319263864652098, 0.0, -0.011706341703910259, -0.007449490175215619, -0.00106421288217366, -0.00106421288217366, 0.0, 0.0, -0.007449490175215619, 0.0, -0.00425685152869464, -0.00319263864652098, 0.0, -0.011706341703910259, -0.00212842576434732, -0.00851370305738928, 0.0, -0.007449490175215619, -0.0053210644108683, -0.0053210644108683, -0.007449490175215619, 0.0, -0.0106421288217366, 0.0, 0.0, -0.00319263864652098, 0.0, -0.0106421288217366, -0.02554110917216784, 0.0, 0.0, -0.014898980350431239, -0.00319263864652098, 0.0, -0.02554110917216784, 0.0, 0.0, 0.0, -0.02554110917216784, -0.00106421288217366, -0.00212842576434732, 0.0, -0.014898980350431239, 0.0, 0.0, 0.0, -0.00106421288217366, -0.00851370305738928, 0.0, 0.0, 0.0, -0.00106421288217366, -0.00212842576434732, 0.0, 0.0, 0.0, 0.0, -0.02554110917216784, 0.0, 0.0, -0.00106421288217366, -0.014898980350431239, -0.02554110917216784, -0.00851370305738928, 0.0, -0.007449490175215619, 0.0, 0.0, -0.00425685152869464, 0.0, 0.0, 0.0, -0.014898980350431239, -0.02554110917216784, -0.00851370305738928, 0.0, -0.007449490175215619, 0.0, 0.0, -0.0106421288217366, 0.0, 0.0, 0.0, -0.014898980350431239, 0.0, -0.00212842576434732, 0.0, 0.0, -0.00425685152869464, -0.00106421288217366, 0.0, -0.014898980350431239, -0.02554110917216784, -0.00851370305738928, -0.00425685152869464, -0.011706341703910259, -0.02554110917216784, 0.0, -0.00106421288217366, 0.0, -0.00106421288217366, 0.0, 0.0, -0.00106421288217366, -0.02554110917216784, 0.0, 0.0, -0.00212842576434732, -0.00212842576434732, 0.0, 0.0, -0.00106421288217366, 0.0, -0.00425685152869464, 0.0, 0.0, 0.0, -0.00425685152869464, 0.0, -0.00212842576434732, 0.0, 0.0, 0.0, 0.0, 0.0, 0.0, -0.007449490175215619, 0.0, 0.0, 0.0, -0.00851370305738928, 0.0, 0.0, 0.0, 0.0, -0.00425685152869464, 0.0, -0.00212842576434732, -0.00106421288217366, -0.007449490175215619, -0.00106421288217366, -0.00851370305738928, 0.0, 0.0, -0.02554110917216784, -0.00851370305738928, 0.0, 0.0, -0.00106421288217366, 0.0, 0.0, 0.0, -0.00425685152869464, 0.0, -0.0106421288217366, 0.0, 0.0, -0.014898980350431239, -0.02554110917216784, -0.00212842576434732, -0.00212842576434732, 0.0, 0.0, 0.0, -0.00212842576434732, -0.02554110917216784, 0.0, -0.014898980350431239, 0.0, -0.00212842576434732, -0.0053210644108683, -0.00319263864652098, 0.0, 0.0, -0.007449490175215619, 0.0, -0.0106421288217366, 0.0, -0.007449490175215619, 0.0, -0.014898980350431239, -0.00106421288217366, -0.00212842576434732, -0.00319263864652098, -0.00212842576434732, 0.0, 0.0, 0.0, 0.0, -0.00106421288217366, -0.0053210644108683, -0.00851370305738928, -0.0053210644108683, -0.0053210644108683, -0.00319263864652098, 0.0, -0.007449490175215619, -0.00425685152869464, -0.007449490175215619, 0.0, 0.0, -0.00319263864652098, 0.0, 0.0, -0.00319263864652098, 0.0, -0.00106421288217366, -0.02554110917216784, -0.0053210644108683, -0.00319263864652098, -0.00212842576434732, -0.02554110917216784, -0.00212842576434732, -0.00212842576434732, 0.0, 0.0, -0.00851370305738928, -0.007449490175215619, 0.0, 0.0, 0.0, -0.007449490175215619, 0.0, 0.0, 0.0, -0.00106421288217366, -0.02554110917216784, -0.00319263864652098]\n"
     ]
    }
   ],
   "source": [
    "print( doc_2_repr )"
   ]
  }
 ],
 "metadata": {
  "kernelspec": {
   "display_name": "Python 3 (ipykernel)",
   "language": "python",
   "name": "python3"
  },
  "language_info": {
   "codemirror_mode": {
    "name": "ipython",
    "version": 3
   },
   "file_extension": ".py",
   "mimetype": "text/x-python",
   "name": "python",
   "nbconvert_exporter": "python",
   "pygments_lexer": "ipython3",
   "version": "3.10.13"
  }
 },
 "nbformat": 4,
 "nbformat_minor": 5
}
