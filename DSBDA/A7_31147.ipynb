{
  "cells": [
    {
      "cell_type": "markdown",
      "metadata": {
        "id": "n8LmJfKAikXi"
      },
      "source": [
        "# Installations and Imports"
      ]
    },
    {
      "cell_type": "code",
      "execution_count": 124,
      "metadata": {
        "id": "sc2j3PQSV82G"
      },
      "outputs": [],
      "source": [
        "import nltk as nltk\n",
        "from nltk.tokenize import word_tokenize\n",
        "from nltk.corpus import stopwords\n",
        "from nltk.stem import PorterStemmer, WordNetLemmatizer\n",
        "import math"
      ]
    },
    {
      "cell_type": "code",
      "execution_count": 125,
      "metadata": {
        "colab": {
          "base_uri": "https://localhost:8080/"
        },
        "id": "4yxJqTO8WMoA",
        "outputId": "5349cb39-ebec-4fb4-caae-06b0ee900d26"
      },
      "outputs": [
        {
          "name": "stderr",
          "output_type": "stream",
          "text": [
            "[nltk_data] Downloading package punkt to /home/codespace/nltk_data...\n",
            "[nltk_data]   Package punkt is already up-to-date!\n"
          ]
        },
        {
          "data": {
            "text/plain": [
              "True"
            ]
          },
          "execution_count": 125,
          "metadata": {},
          "output_type": "execute_result"
        }
      ],
      "source": [
        "nltk.download(\"punkt\")"
      ]
    },
    {
      "cell_type": "code",
      "execution_count": 126,
      "metadata": {
        "colab": {
          "base_uri": "https://localhost:8080/"
        },
        "id": "eD6foQPAWj4h",
        "outputId": "796cbe5c-696d-4cc5-9e0b-3b44f20414a2"
      },
      "outputs": [
        {
          "name": "stderr",
          "output_type": "stream",
          "text": [
            "[nltk_data] Downloading package stopwords to\n",
            "[nltk_data]     /home/codespace/nltk_data...\n",
            "[nltk_data]   Package stopwords is already up-to-date!\n"
          ]
        },
        {
          "data": {
            "text/plain": [
              "True"
            ]
          },
          "execution_count": 126,
          "metadata": {},
          "output_type": "execute_result"
        }
      ],
      "source": [
        "nltk.download(\"stopwords\")"
      ]
    },
    {
      "cell_type": "code",
      "execution_count": 127,
      "metadata": {
        "colab": {
          "base_uri": "https://localhost:8080/"
        },
        "id": "7zHAZP-mXbyr",
        "outputId": "18d6b98b-e79a-4a1d-eba6-7c652b204945"
      },
      "outputs": [
        {
          "name": "stderr",
          "output_type": "stream",
          "text": [
            "[nltk_data] Downloading package averaged_perceptron_tagger to\n",
            "[nltk_data]     /home/codespace/nltk_data...\n",
            "[nltk_data]   Package averaged_perceptron_tagger is already up-to-\n",
            "[nltk_data]       date!\n"
          ]
        },
        {
          "data": {
            "text/plain": [
              "True"
            ]
          },
          "execution_count": 127,
          "metadata": {},
          "output_type": "execute_result"
        }
      ],
      "source": [
        "nltk.download(\"averaged_perceptron_tagger\")"
      ]
    },
    {
      "cell_type": "code",
      "execution_count": 128,
      "metadata": {
        "colab": {
          "base_uri": "https://localhost:8080/"
        },
        "id": "TyafwxZ9ajMt",
        "outputId": "7c580070-1978-48bf-b794-e8804edcc9ff"
      },
      "outputs": [
        {
          "name": "stderr",
          "output_type": "stream",
          "text": [
            "[nltk_data] Downloading package wordnet to\n",
            "[nltk_data]     /home/codespace/nltk_data...\n",
            "[nltk_data]   Package wordnet is already up-to-date!\n"
          ]
        },
        {
          "data": {
            "text/plain": [
              "True"
            ]
          },
          "execution_count": 128,
          "metadata": {},
          "output_type": "execute_result"
        }
      ],
      "source": [
        "nltk.download('wordnet')"
      ]
    },
    {
      "cell_type": "markdown",
      "metadata": {
        "id": "MDdggOiS0Bv_"
      },
      "source": [
        "1.  text\n",
        "2. tokenize\n",
        "3. stop words removal\n",
        "4. POS tagging\n",
        "4. stemming\n",
        "5. lemmatization\n",
        "6. tf-idf\n"
      ]
    },
    {
      "cell_type": "markdown",
      "metadata": {
        "id": "faqdzZlTip_W"
      },
      "source": [
        "# General"
      ]
    },
    {
      "cell_type": "code",
      "execution_count": 129,
      "metadata": {
        "id": "ZY83QCL75sOF"
      },
      "outputs": [],
      "source": [
        "text_file_path = \"doc_01.txt\""
      ]
    },
    {
      "cell_type": "code",
      "execution_count": 130,
      "metadata": {
        "colab": {
          "base_uri": "https://localhost:8080/",
          "height": 174
        },
        "id": "D1X9DHHF5uZp",
        "outputId": "469dc1cf-c481-4d4c-8b2e-e495caa47a74"
      },
      "outputs": [
        {
          "data": {
            "text/plain": [
              "'Between 2016 and 2019, the state forest department under the\\xa0BJP\\xa0government had launched ‘Green Maharashtra’ drive with an aim to plant 50 crore trees across the state in the four-year period. In October 2019, the government had claimed it had surpassed the target by planting 33 crore trees in July-September 2019.\\xa0The Indian Express\\xa0had found that non-forest agencies — such as gram panchayats — which were tasked with planting trees had not uploaded the mandatory audio-visual proof of the tree plantation drives on the specially created portal.\\nIn Pune Revenue Division, it was claimed the gram panchayats planted 1.7 crore saplings; however, no evidence was uploaded for 87 per cent (1.49 crore) saplings. Also, out of the 59 government agencies involved in the drive as many as 38 had not submitted survival reports about the saplings.\\nThis year, the targets set by the forest department were comparatively modest. For example, Pune Circle — which comprises three divisions in Pune and Solapur district — had planned to plant 17 lakh saplings on forest land. However, it may not meet the target due to unavailability of funds. Last year Pune Circle planted 70 lakh saplings on forest land.\\nIn Pune Division — which comprises six talukas namely Maval, Mulshi, Daund, Indapur, Baramati and Havveli — preparations were done for plantation of about 4 lakh trees with special emphasis on teakwood.\\nThe National Forest Policy aims and emphasizes at maintaining 33% of the country’s geographical area under forest and green cover. In view of this and as a part of the 50 crore plantation programme within Maharashtra, the Maharashtra Forest Department aims to plant 4 crore saplings all over the State between\\xa01st to July 7th, 2017\\xa0to celebrate\\xa0‘Vanmohotsav’.\\n\\xa0\\nThe plantation programme, which was announced in 2016 with the aim of planting\\xa02 crore trees on 1st\\xa0July 2016 was a resounding success with the final total reported figure of\\xa02.82 crore saplings planted\\xa0on a single day. To maintain consistency of this platform without affecting its momentum, the Forest Department has set the target of plantation of 4 crore, 13 crore and 33 crore saplings under the mission of 50 crore plantation which shall be accomplished in the three consecutive years viz. 2017, 2018 and 2019.\\n\\xa0\\nThe\\xa04 crore\\xa0saplings for the year 2017 will be planted during the Vanmohotsav,\\xa0July 1st to July 7th\\xa0in a state-wide drive\\xa0with the involvement of 33 government departments along with Students of Schools and Colleges, NSS, NCC, CSR, NGOs, Railways, National Highways, Defence, NABARD and other stakeholders of Society.\\n\\xa0\\nIn a first of its kind, a\\xa024-hour\\xa0toll free\\xa0helpline number 1926\\xa0called ‘Hello Forest’ has been set up to provide information regarding plantation, protection and for mass awareness. The Forest Department has created a\\xa0mobile application called ‘My Plants’\\xa0to record details of the plantation such as numbers, species and location into the computer system of the Forest Department. All volunteers at individual, collective and organizational level should download and use this application to record their tree plantation work through the application, which will be operational from 1st\\xa0July to 7th\\xa0July.\\xa0\\n\\xa0\\nIn consonance of the public participation, the Maharashtra Forest Department has initiated the ‘Maharashtra Harit Sena’/ ‘Green Army’ which is a body of dedicated volunteers to participate in the plantation, protection, and activities in forest, wildlife, and related sectors around the year. Individuals and organisations interested in volunteering can register on the Green Army website\\xa0www.greenarmy.mahaforest.gov.in\\n\\xa0\\nAn integrated drive has been set in place to ensure seamless and successful participation from all stakeholders of society, especially the public.\\n\\n'"
            ]
          },
          "execution_count": 130,
          "metadata": {},
          "output_type": "execute_result"
        }
      ],
      "source": [
        "f = open(text_file_path)\n",
        "text = f.read()\n",
        "text"
      ]
    },
    {
      "cell_type": "code",
      "execution_count": 131,
      "metadata": {
        "id": "_SqaRvcedQFE"
      },
      "outputs": [],
      "source": [
        "# text = '''Natural language processing (NLP) is a field of artificial intelligence concerned with the interaction between computers and humans in natural language. It aims to enable computers to understand, interpret, and generate human language in a way that is both meaningful and useful. NLP techniques are used in a wide range of applications, including machine translation, sentiment analysis, information extraction, and text summarization. One of the key challenges in NLP is dealing with the ambiguity and variability of natural language, which can make it difficult for computers to accurately process and understand text. However, recent advances in machine learning and deep learning have led to significant improvements in NLP performance, making it an increasingly important area of research and development.\n",
        "# Machine learning (ML) is a subset of artificial intelligence that focuses on the development of algorithms that can learn from and make predictions or decisions based on data. ML algorithms can be categorized into supervised learning, unsupervised learning, and reinforcement learning, depending on the type of training data and the learning task. Supervised learning involves training a model on labeled data, while unsupervised learning involves training on unlabeled data. Reinforcement learning involves training a model to interact with an environment and learn from feedback. ML techniques have applications in various domains, including image recognition, speech recognition, medical diagnosis, and autonomous vehicles.\n",
        "# Data science is an interdisciplinary field that combines techniques from statistics, computer science, and domain-specific knowledge to extract insights and knowledge from data. It involves various stages of the data lifecycle, including data collection, data cleaning, data analysis, and data visualization. Data scientists use a variety of tools and techniques, such as machine learning, statistical modeling, and data mining, to uncover patterns and trends in data and make data-driven decisions. Data science has applications in numerous industries, including healthcare, finance, marketing, and e-commerce.'''"
      ]
    },
    {
      "cell_type": "code",
      "execution_count": 132,
      "metadata": {
        "id": "0n82INppV5XC"
      },
      "outputs": [],
      "source": [
        "tokens = word_tokenize(text)"
      ]
    },
    {
      "cell_type": "code",
      "execution_count": 133,
      "metadata": {
        "colab": {
          "base_uri": "https://localhost:8080/"
        },
        "id": "yaWlsmgKWFc3",
        "outputId": "4b00e52c-57f2-492f-ac73-0b331215136d"
      },
      "outputs": [
        {
          "data": {
            "text/plain": [
              "['Between', '2016', 'and', '2019', ',']"
            ]
          },
          "execution_count": 133,
          "metadata": {},
          "output_type": "execute_result"
        }
      ],
      "source": [
        "tokens[:5]"
      ]
    },
    {
      "cell_type": "code",
      "execution_count": 134,
      "metadata": {
        "id": "Sq3CMoKIWToz"
      },
      "outputs": [],
      "source": [
        "stopwords_corpus = stopwords.words(\"english\")"
      ]
    },
    {
      "cell_type": "code",
      "execution_count": 135,
      "metadata": {
        "colab": {
          "base_uri": "https://localhost:8080/"
        },
        "id": "M4oklj9lWhkl",
        "outputId": "bd2987a2-03d3-4e0b-de58-ed52e7a7b758"
      },
      "outputs": [
        {
          "data": {
            "text/plain": [
              "['i', 'me', 'my', 'myself', 'we']"
            ]
          },
          "execution_count": 135,
          "metadata": {},
          "output_type": "execute_result"
        }
      ],
      "source": [
        "stopwords_corpus[:5]"
      ]
    },
    {
      "cell_type": "code",
      "execution_count": 136,
      "metadata": {
        "id": "1_Af8OiZWrWt"
      },
      "outputs": [],
      "source": [
        "def remove_stopwords(tokens,stopwords):\n",
        "  filtered_tokens = []\n",
        "  for token in tokens:\n",
        "    if(token not in stopwords):\n",
        "      filtered_tokens.append(token)\n",
        "  return filtered_tokens"
      ]
    },
    {
      "cell_type": "code",
      "execution_count": 137,
      "metadata": {
        "id": "3wPYuWqOW9DJ"
      },
      "outputs": [],
      "source": [
        "tokens_without_stopwords = remove_stopwords(tokens,stopwords_corpus)"
      ]
    },
    {
      "cell_type": "code",
      "execution_count": 138,
      "metadata": {
        "id": "5FoJuBfPXEWz"
      },
      "outputs": [],
      "source": [
        "assert len(tokens_without_stopwords)<=len(tokens)"
      ]
    },
    {
      "cell_type": "code",
      "execution_count": 139,
      "metadata": {
        "id": "lZ4Of8zCXLAu"
      },
      "outputs": [],
      "source": [
        "pos_tagged_tokens = nltk.pos_tag(tokens_without_stopwords)"
      ]
    },
    {
      "cell_type": "code",
      "execution_count": 140,
      "metadata": {
        "colab": {
          "base_uri": "https://localhost:8080/"
        },
        "id": "fpr707UAXW29",
        "outputId": "337b7a49-f81b-45cf-b0ed-85bac29fd897"
      },
      "outputs": [
        {
          "data": {
            "text/plain": [
              "[('Between', 'IN'),\n",
              " ('2016', 'CD'),\n",
              " ('2019', 'CD'),\n",
              " (',', ','),\n",
              " ('state', 'NN'),\n",
              " ('forest', 'JJS'),\n",
              " ('department', 'NN'),\n",
              " ('BJP', 'NNP'),\n",
              " ('government', 'NN'),\n",
              " ('launched', 'VBD')]"
            ]
          },
          "execution_count": 140,
          "metadata": {},
          "output_type": "execute_result"
        }
      ],
      "source": [
        "pos_tagged_tokens[:10]"
      ]
    },
    {
      "cell_type": "code",
      "execution_count": 141,
      "metadata": {
        "id": "LgSbSpFaXiiJ"
      },
      "outputs": [],
      "source": [
        "def stem_tokens(tokens):\n",
        "  stemmer = PorterStemmer()\n",
        "  stemmed_tokens = []\n",
        "  for token in tokens:\n",
        "    stemmed_token = stemmer.stem(token)\n",
        "    stemmed_tokens.append(stemmed_token)\n",
        "  return stemmed_tokens"
      ]
    },
    {
      "cell_type": "code",
      "execution_count": 142,
      "metadata": {
        "id": "eyvaOURUZNgl"
      },
      "outputs": [],
      "source": [
        "stemmed_tokens = stem_tokens(tokens_without_stopwords)"
      ]
    },
    {
      "cell_type": "code",
      "execution_count": 143,
      "metadata": {
        "colab": {
          "base_uri": "https://localhost:8080/"
        },
        "id": "0ky908eRZXJX",
        "outputId": "28fee69a-dcc9-46f5-da10-0d51b103d11c"
      },
      "outputs": [
        {
          "data": {
            "text/plain": [
              "['between',\n",
              " '2016',\n",
              " '2019',\n",
              " ',',\n",
              " 'state',\n",
              " 'forest',\n",
              " 'depart',\n",
              " 'bjp',\n",
              " 'govern',\n",
              " 'launch']"
            ]
          },
          "execution_count": 143,
          "metadata": {},
          "output_type": "execute_result"
        }
      ],
      "source": [
        "stemmed_tokens[:10]"
      ]
    },
    {
      "cell_type": "code",
      "execution_count": 144,
      "metadata": {
        "id": "malzW-wuZY2p"
      },
      "outputs": [],
      "source": [
        "def lemmatize_tokens(tokens):\n",
        "  lemmatizer = WordNetLemmatizer()\n",
        "  lemmatized_tokens = []\n",
        "  for token in tokens:\n",
        "    lemmatized_token = lemmatizer.lemmatize(token)\n",
        "    lemmatized_tokens.append(lemmatized_token)\n",
        "  return lemmatized_tokens"
      ]
    },
    {
      "cell_type": "code",
      "execution_count": 145,
      "metadata": {
        "id": "lXXTMuwIaTS8"
      },
      "outputs": [],
      "source": [
        "lemmatized_tokens = lemmatize_tokens(tokens_without_stopwords)"
      ]
    },
    {
      "cell_type": "code",
      "execution_count": 146,
      "metadata": {
        "colab": {
          "base_uri": "https://localhost:8080/"
        },
        "id": "3FHHcBzraYq-",
        "outputId": "b39d65c9-d814-498d-9381-9bfe73bc1eda"
      },
      "outputs": [
        {
          "data": {
            "text/plain": [
              "['Between', '2016', '2019', ',', 'state']"
            ]
          },
          "execution_count": 146,
          "metadata": {},
          "output_type": "execute_result"
        }
      ],
      "source": [
        "lemmatized_tokens[:5]"
      ]
    },
    {
      "cell_type": "markdown",
      "metadata": {
        "id": "x1238NypjiBH"
      },
      "source": [
        "# TF-IDF"
      ]
    },
    {
      "cell_type": "code",
      "execution_count": 147,
      "metadata": {
        "id": "GL3D07yEjliS"
      },
      "outputs": [],
      "source": [
        "documents = text.split(\"\\n\")"
      ]
    },
    {
      "cell_type": "code",
      "execution_count": 148,
      "metadata": {
        "colab": {
          "base_uri": "https://localhost:8080/"
        },
        "id": "Cv7RtrRk3VJ7",
        "outputId": "6eaf1726-988f-40a6-9d12-d8d419de8b73"
      },
      "outputs": [
        {
          "data": {
            "text/plain": [
              "['Between 2016 and 2019, the state forest department under the\\xa0BJP\\xa0government had launched ‘Green Maharashtra’ drive with an aim to plant 50 crore trees across the state in the four-year period. In October 2019, the government had claimed it had surpassed the target by planting 33 crore trees in July-September 2019.\\xa0The Indian Express\\xa0had found that non-forest agencies — such as gram panchayats — which were tasked with planting trees had not uploaded the mandatory audio-visual proof of the tree plantation drives on the specially created portal.',\n",
              " 'In Pune Revenue Division, it was claimed the gram panchayats planted 1.7 crore saplings; however, no evidence was uploaded for 87 per cent (1.49 crore) saplings. Also, out of the 59 government agencies involved in the drive as many as 38 had not submitted survival reports about the saplings.',\n",
              " 'This year, the targets set by the forest department were comparatively modest. For example, Pune Circle — which comprises three divisions in Pune and Solapur district — had planned to plant 17 lakh saplings on forest land. However, it may not meet the target due to unavailability of funds. Last year Pune Circle planted 70 lakh saplings on forest land.',\n",
              " 'In Pune Division — which comprises six talukas namely Maval, Mulshi, Daund, Indapur, Baramati and Havveli — preparations were done for plantation of about 4 lakh trees with special emphasis on teakwood.',\n",
              " 'The National Forest Policy aims and emphasizes at maintaining 33% of the country’s geographical area under forest and green cover. In view of this and as a part of the 50 crore plantation programme within Maharashtra, the Maharashtra Forest Department aims to plant 4 crore saplings all over the State between\\xa01st to July 7th, 2017\\xa0to celebrate\\xa0‘Vanmohotsav’.',\n",
              " '\\xa0',\n",
              " 'The plantation programme, which was announced in 2016 with the aim of planting\\xa02 crore trees on 1st\\xa0July 2016 was a resounding success with the final total reported figure of\\xa02.82 crore saplings planted\\xa0on a single day. To maintain consistency of this platform without affecting its momentum, the Forest Department has set the target of plantation of 4 crore, 13 crore and 33 crore saplings under the mission of 50 crore plantation which shall be accomplished in the three consecutive years viz. 2017, 2018 and 2019.',\n",
              " '\\xa0',\n",
              " 'The\\xa04 crore\\xa0saplings for the year 2017 will be planted during the Vanmohotsav,\\xa0July 1st to July 7th\\xa0in a state-wide drive\\xa0with the involvement of 33 government departments along with Students of Schools and Colleges, NSS, NCC, CSR, NGOs, Railways, National Highways, Defence, NABARD and other stakeholders of Society.',\n",
              " '\\xa0',\n",
              " 'In a first of its kind, a\\xa024-hour\\xa0toll free\\xa0helpline number 1926\\xa0called ‘Hello Forest’ has been set up to provide information regarding plantation, protection and for mass awareness. The Forest Department has created a\\xa0mobile application called ‘My Plants’\\xa0to record details of the plantation such as numbers, species and location into the computer system of the Forest Department. All volunteers at individual, collective and organizational level should download and use this application to record their tree plantation work through the application, which will be operational from 1st\\xa0July to 7th\\xa0July.\\xa0',\n",
              " '\\xa0',\n",
              " 'In consonance of the public participation, the Maharashtra Forest Department has initiated the ‘Maharashtra Harit Sena’/ ‘Green Army’ which is a body of dedicated volunteers to participate in the plantation, protection, and activities in forest, wildlife, and related sectors around the year. Individuals and organisations interested in volunteering can register on the Green Army website\\xa0www.greenarmy.mahaforest.gov.in',\n",
              " '\\xa0',\n",
              " 'An integrated drive has been set in place to ensure seamless and successful participation from all stakeholders of society, especially the public.',\n",
              " '',\n",
              " '']"
            ]
          },
          "execution_count": 148,
          "metadata": {},
          "output_type": "execute_result"
        }
      ],
      "source": [
        "documents"
      ]
    },
    {
      "cell_type": "code",
      "execution_count": 149,
      "metadata": {
        "id": "ehtU0g5vjz3V"
      },
      "outputs": [],
      "source": [
        "def get_document_tokens(documents):\n",
        "  document_tokens = []\n",
        "  for document in documents:\n",
        "    tokens = word_tokenize(document)\n",
        "    document_tokens.append(tokens)\n",
        "  return document_tokens"
      ]
    },
    {
      "cell_type": "code",
      "execution_count": 150,
      "metadata": {
        "id": "XlOnelrkkJeq"
      },
      "outputs": [],
      "source": [
        "document_tokens = get_document_tokens(documents)"
      ]
    },
    {
      "cell_type": "code",
      "execution_count": 151,
      "metadata": {
        "id": "KZzsihpn3emx"
      },
      "outputs": [],
      "source": [
        "# document_tokens"
      ]
    },
    {
      "cell_type": "code",
      "execution_count": 152,
      "metadata": {
        "colab": {
          "base_uri": "https://localhost:8080/"
        },
        "id": "_TxfweAEY4-z",
        "outputId": "d0f93df7-7509-40ba-cc4e-f03cd5d95ccd"
      },
      "outputs": [
        {
          "data": {
            "text/plain": [
              "96"
            ]
          },
          "execution_count": 152,
          "metadata": {},
          "output_type": "execute_result"
        }
      ],
      "source": [
        "len(document_tokens[0])"
      ]
    },
    {
      "cell_type": "code",
      "execution_count": 153,
      "metadata": {
        "id": "1Xa9XpzWk_1Q"
      },
      "outputs": [],
      "source": [
        "def remove_stopwords_from_document_tokens(document_tokens,stopwords_corpus):\n",
        "  document_tokens_without_stopwords = []\n",
        "  for document in document_tokens:\n",
        "    document_without_stopwords = remove_stopwords(document,stopwords_corpus)\n",
        "    document_tokens_without_stopwords.append(document_without_stopwords)\n",
        "  return document_tokens_without_stopwords"
      ]
    },
    {
      "cell_type": "code",
      "execution_count": 154,
      "metadata": {
        "id": "dQVbS73mk3jk"
      },
      "outputs": [],
      "source": [
        "document_tokens_without_stopwords = remove_stopwords_from_document_tokens(document_tokens,stopwords_corpus)"
      ]
    },
    {
      "cell_type": "code",
      "execution_count": 155,
      "metadata": {
        "id": "yghLQFEKb5QG"
      },
      "outputs": [],
      "source": [
        "def get_term_frequency(document_tokens):\n",
        "  term_frequencies = []\n",
        "  for document in document_tokens:\n",
        "    term_frequency={}\n",
        "    for token in document :\n",
        "      try :\n",
        "        term_frequency[token]+=1\n",
        "      except:\n",
        "        term_frequency[token] = 1\n",
        "    n = len(document)\n",
        "    unique_tokens = set(document)\n",
        "    for token in unique_tokens:\n",
        "      term_frequency[token] /= n\n",
        "    term_frequencies.append(term_frequency)\n",
        "  return term_frequencies"
      ]
    },
    {
      "cell_type": "code",
      "execution_count": 156,
      "metadata": {
        "id": "9fXeNAexdUj2"
      },
      "outputs": [],
      "source": [
        "term_frequency = get_term_frequency(document_tokens_without_stopwords)"
      ]
    },
    {
      "cell_type": "code",
      "execution_count": 157,
      "metadata": {
        "colab": {
          "base_uri": "https://localhost:8080/"
        },
        "id": "kuLKuxSxdapJ",
        "outputId": "8143b4f2-956d-468c-cc88-79c9eb657950"
      },
      "outputs": [
        {
          "data": {
            "text/plain": [
              "[{'Between': 0.015625,\n",
              "  '2016': 0.015625,\n",
              "  '2019': 0.046875,\n",
              "  ',': 0.03125,\n",
              "  'state': 0.03125,\n",
              "  'forest': 0.015625,\n",
              "  'department': 0.015625,\n",
              "  'BJP': 0.015625,\n",
              "  'government': 0.03125,\n",
              "  'launched': 0.015625,\n",
              "  '‘': 0.015625,\n",
              "  'Green': 0.015625,\n",
              "  'Maharashtra': 0.015625,\n",
              "  '’': 0.015625,\n",
              "  'drive': 0.015625,\n",
              "  'aim': 0.015625,\n",
              "  'plant': 0.015625,\n",
              "  '50': 0.015625,\n",
              "  'crore': 0.03125,\n",
              "  'trees': 0.046875,\n",
              "  'across': 0.015625,\n",
              "  'four-year': 0.015625,\n",
              "  'period': 0.015625,\n",
              "  '.': 0.046875,\n",
              "  'In': 0.015625,\n",
              "  'October': 0.015625,\n",
              "  'claimed': 0.015625,\n",
              "  'surpassed': 0.015625,\n",
              "  'target': 0.015625,\n",
              "  'planting': 0.03125,\n",
              "  '33': 0.015625,\n",
              "  'July-September': 0.015625,\n",
              "  'The': 0.015625,\n",
              "  'Indian': 0.015625,\n",
              "  'Express': 0.015625,\n",
              "  'found': 0.015625,\n",
              "  'non-forest': 0.015625,\n",
              "  'agencies': 0.015625,\n",
              "  '—': 0.03125,\n",
              "  'gram': 0.015625,\n",
              "  'panchayats': 0.015625,\n",
              "  'tasked': 0.015625,\n",
              "  'uploaded': 0.015625,\n",
              "  'mandatory': 0.015625,\n",
              "  'audio-visual': 0.015625,\n",
              "  'proof': 0.015625,\n",
              "  'tree': 0.015625,\n",
              "  'plantation': 0.015625,\n",
              "  'drives': 0.015625,\n",
              "  'specially': 0.015625,\n",
              "  'created': 0.015625,\n",
              "  'portal': 0.015625},\n",
              " {'In': 0.025,\n",
              "  'Pune': 0.025,\n",
              "  'Revenue': 0.025,\n",
              "  'Division': 0.025,\n",
              "  ',': 0.075,\n",
              "  'claimed': 0.025,\n",
              "  'gram': 0.025,\n",
              "  'panchayats': 0.025,\n",
              "  'planted': 0.025,\n",
              "  '1.7': 0.025,\n",
              "  'crore': 0.05,\n",
              "  'saplings': 0.075,\n",
              "  ';': 0.025,\n",
              "  'however': 0.025,\n",
              "  'evidence': 0.025,\n",
              "  'uploaded': 0.025,\n",
              "  '87': 0.025,\n",
              "  'per': 0.025,\n",
              "  'cent': 0.025,\n",
              "  '(': 0.025,\n",
              "  '1.49': 0.025,\n",
              "  ')': 0.025,\n",
              "  '.': 0.05,\n",
              "  'Also': 0.025,\n",
              "  '59': 0.025,\n",
              "  'government': 0.025,\n",
              "  'agencies': 0.025,\n",
              "  'involved': 0.025,\n",
              "  'drive': 0.025,\n",
              "  'many': 0.025,\n",
              "  '38': 0.025,\n",
              "  'submitted': 0.025,\n",
              "  'survival': 0.025,\n",
              "  'reports': 0.025},\n",
              " {'This': 0.0196078431372549,\n",
              "  'year': 0.0392156862745098,\n",
              "  ',': 0.058823529411764705,\n",
              "  'targets': 0.0196078431372549,\n",
              "  'set': 0.0196078431372549,\n",
              "  'forest': 0.058823529411764705,\n",
              "  'department': 0.0196078431372549,\n",
              "  'comparatively': 0.0196078431372549,\n",
              "  'modest': 0.0196078431372549,\n",
              "  '.': 0.0784313725490196,\n",
              "  'For': 0.0196078431372549,\n",
              "  'example': 0.0196078431372549,\n",
              "  'Pune': 0.058823529411764705,\n",
              "  'Circle': 0.0392156862745098,\n",
              "  '—': 0.0392156862745098,\n",
              "  'comprises': 0.0196078431372549,\n",
              "  'three': 0.0196078431372549,\n",
              "  'divisions': 0.0196078431372549,\n",
              "  'Solapur': 0.0196078431372549,\n",
              "  'district': 0.0196078431372549,\n",
              "  'planned': 0.0196078431372549,\n",
              "  'plant': 0.0196078431372549,\n",
              "  '17': 0.0196078431372549,\n",
              "  'lakh': 0.0392156862745098,\n",
              "  'saplings': 0.0392156862745098,\n",
              "  'land': 0.0392156862745098,\n",
              "  'However': 0.0196078431372549,\n",
              "  'may': 0.0196078431372549,\n",
              "  'meet': 0.0196078431372549,\n",
              "  'target': 0.0196078431372549,\n",
              "  'due': 0.0196078431372549,\n",
              "  'unavailability': 0.0196078431372549,\n",
              "  'funds': 0.0196078431372549,\n",
              "  'Last': 0.0196078431372549,\n",
              "  'planted': 0.0196078431372549,\n",
              "  '70': 0.0196078431372549},\n",
              " {'In': 0.034482758620689655,\n",
              "  'Pune': 0.034482758620689655,\n",
              "  'Division': 0.034482758620689655,\n",
              "  '—': 0.06896551724137931,\n",
              "  'comprises': 0.034482758620689655,\n",
              "  'six': 0.034482758620689655,\n",
              "  'talukas': 0.034482758620689655,\n",
              "  'namely': 0.034482758620689655,\n",
              "  'Maval': 0.034482758620689655,\n",
              "  ',': 0.13793103448275862,\n",
              "  'Mulshi': 0.034482758620689655,\n",
              "  'Daund': 0.034482758620689655,\n",
              "  'Indapur': 0.034482758620689655,\n",
              "  'Baramati': 0.034482758620689655,\n",
              "  'Havveli': 0.034482758620689655,\n",
              "  'preparations': 0.034482758620689655,\n",
              "  'done': 0.034482758620689655,\n",
              "  'plantation': 0.034482758620689655,\n",
              "  '4': 0.034482758620689655,\n",
              "  'lakh': 0.034482758620689655,\n",
              "  'trees': 0.034482758620689655,\n",
              "  'special': 0.034482758620689655,\n",
              "  'emphasis': 0.034482758620689655,\n",
              "  'teakwood': 0.034482758620689655,\n",
              "  '.': 0.034482758620689655},\n",
              " {'The': 0.021739130434782608,\n",
              "  'National': 0.021739130434782608,\n",
              "  'Forest': 0.043478260869565216,\n",
              "  'Policy': 0.021739130434782608,\n",
              "  'aims': 0.043478260869565216,\n",
              "  'emphasizes': 0.021739130434782608,\n",
              "  'maintaining': 0.021739130434782608,\n",
              "  '33': 0.021739130434782608,\n",
              "  '%': 0.021739130434782608,\n",
              "  'country': 0.021739130434782608,\n",
              "  '’': 0.043478260869565216,\n",
              "  'geographical': 0.021739130434782608,\n",
              "  'area': 0.021739130434782608,\n",
              "  'forest': 0.021739130434782608,\n",
              "  'green': 0.021739130434782608,\n",
              "  'cover': 0.021739130434782608,\n",
              "  '.': 0.043478260869565216,\n",
              "  'In': 0.021739130434782608,\n",
              "  'view': 0.021739130434782608,\n",
              "  'part': 0.021739130434782608,\n",
              "  '50': 0.021739130434782608,\n",
              "  'crore': 0.043478260869565216,\n",
              "  'plantation': 0.021739130434782608,\n",
              "  'programme': 0.021739130434782608,\n",
              "  'within': 0.021739130434782608,\n",
              "  'Maharashtra': 0.043478260869565216,\n",
              "  ',': 0.043478260869565216,\n",
              "  'Department': 0.021739130434782608,\n",
              "  'plant': 0.021739130434782608,\n",
              "  '4': 0.021739130434782608,\n",
              "  'saplings': 0.021739130434782608,\n",
              "  'State': 0.021739130434782608,\n",
              "  '1st': 0.021739130434782608,\n",
              "  'July': 0.021739130434782608,\n",
              "  '7th': 0.021739130434782608,\n",
              "  '2017': 0.021739130434782608,\n",
              "  'celebrate': 0.021739130434782608,\n",
              "  '‘': 0.021739130434782608,\n",
              "  'Vanmohotsav': 0.021739130434782608},\n",
              " {},\n",
              " {'The': 0.015625,\n",
              "  'plantation': 0.046875,\n",
              "  'programme': 0.015625,\n",
              "  ',': 0.0625,\n",
              "  'announced': 0.015625,\n",
              "  '2016': 0.03125,\n",
              "  'aim': 0.015625,\n",
              "  'planting': 0.015625,\n",
              "  '2': 0.015625,\n",
              "  'crore': 0.09375,\n",
              "  'trees': 0.015625,\n",
              "  '1st': 0.015625,\n",
              "  'July': 0.015625,\n",
              "  'resounding': 0.015625,\n",
              "  'success': 0.015625,\n",
              "  'final': 0.015625,\n",
              "  'total': 0.015625,\n",
              "  'reported': 0.015625,\n",
              "  'figure': 0.015625,\n",
              "  '2.82': 0.015625,\n",
              "  'saplings': 0.03125,\n",
              "  'planted': 0.015625,\n",
              "  'single': 0.015625,\n",
              "  'day': 0.015625,\n",
              "  '.': 0.046875,\n",
              "  'To': 0.015625,\n",
              "  'maintain': 0.015625,\n",
              "  'consistency': 0.015625,\n",
              "  'platform': 0.015625,\n",
              "  'without': 0.015625,\n",
              "  'affecting': 0.015625,\n",
              "  'momentum': 0.015625,\n",
              "  'Forest': 0.015625,\n",
              "  'Department': 0.015625,\n",
              "  'set': 0.015625,\n",
              "  'target': 0.015625,\n",
              "  '4': 0.015625,\n",
              "  '13': 0.015625,\n",
              "  '33': 0.015625,\n",
              "  'mission': 0.015625,\n",
              "  '50': 0.015625,\n",
              "  'shall': 0.015625,\n",
              "  'accomplished': 0.015625,\n",
              "  'three': 0.015625,\n",
              "  'consecutive': 0.015625,\n",
              "  'years': 0.015625,\n",
              "  'viz': 0.015625,\n",
              "  '2017': 0.015625,\n",
              "  '2018': 0.015625,\n",
              "  '2019': 0.015625},\n",
              " {},\n",
              " {'The': 0.023255813953488372,\n",
              "  '4': 0.023255813953488372,\n",
              "  'crore': 0.023255813953488372,\n",
              "  'saplings': 0.023255813953488372,\n",
              "  'year': 0.023255813953488372,\n",
              "  '2017': 0.023255813953488372,\n",
              "  'planted': 0.023255813953488372,\n",
              "  'Vanmohotsav': 0.023255813953488372,\n",
              "  ',': 0.20930232558139536,\n",
              "  'July': 0.046511627906976744,\n",
              "  '1st': 0.023255813953488372,\n",
              "  '7th': 0.023255813953488372,\n",
              "  'state-wide': 0.023255813953488372,\n",
              "  'drive': 0.023255813953488372,\n",
              "  'involvement': 0.023255813953488372,\n",
              "  '33': 0.023255813953488372,\n",
              "  'government': 0.023255813953488372,\n",
              "  'departments': 0.023255813953488372,\n",
              "  'along': 0.023255813953488372,\n",
              "  'Students': 0.023255813953488372,\n",
              "  'Schools': 0.023255813953488372,\n",
              "  'Colleges': 0.023255813953488372,\n",
              "  'NSS': 0.023255813953488372,\n",
              "  'NCC': 0.023255813953488372,\n",
              "  'CSR': 0.023255813953488372,\n",
              "  'NGOs': 0.023255813953488372,\n",
              "  'Railways': 0.023255813953488372,\n",
              "  'National': 0.023255813953488372,\n",
              "  'Highways': 0.023255813953488372,\n",
              "  'Defence': 0.023255813953488372,\n",
              "  'NABARD': 0.023255813953488372,\n",
              "  'stakeholders': 0.023255813953488372,\n",
              "  'Society': 0.023255813953488372,\n",
              "  '.': 0.023255813953488372},\n",
              " {},\n",
              " {'In': 0.014285714285714285,\n",
              "  'first': 0.014285714285714285,\n",
              "  'kind': 0.014285714285714285,\n",
              "  ',': 0.07142857142857142,\n",
              "  '24-hour': 0.014285714285714285,\n",
              "  'toll': 0.014285714285714285,\n",
              "  'free': 0.014285714285714285,\n",
              "  'helpline': 0.014285714285714285,\n",
              "  'number': 0.014285714285714285,\n",
              "  '1926': 0.014285714285714285,\n",
              "  'called': 0.02857142857142857,\n",
              "  '‘': 0.02857142857142857,\n",
              "  'Hello': 0.014285714285714285,\n",
              "  'Forest': 0.04285714285714286,\n",
              "  '’': 0.02857142857142857,\n",
              "  'set': 0.014285714285714285,\n",
              "  'provide': 0.014285714285714285,\n",
              "  'information': 0.014285714285714285,\n",
              "  'regarding': 0.014285714285714285,\n",
              "  'plantation': 0.04285714285714286,\n",
              "  'protection': 0.014285714285714285,\n",
              "  'mass': 0.014285714285714285,\n",
              "  'awareness': 0.014285714285714285,\n",
              "  '.': 0.04285714285714286,\n",
              "  'The': 0.014285714285714285,\n",
              "  'Department': 0.02857142857142857,\n",
              "  'created': 0.014285714285714285,\n",
              "  'mobile': 0.014285714285714285,\n",
              "  'application': 0.04285714285714286,\n",
              "  'My': 0.014285714285714285,\n",
              "  'Plants': 0.014285714285714285,\n",
              "  'record': 0.02857142857142857,\n",
              "  'details': 0.014285714285714285,\n",
              "  'numbers': 0.014285714285714285,\n",
              "  'species': 0.014285714285714285,\n",
              "  'location': 0.014285714285714285,\n",
              "  'computer': 0.014285714285714285,\n",
              "  'system': 0.014285714285714285,\n",
              "  'All': 0.014285714285714285,\n",
              "  'volunteers': 0.014285714285714285,\n",
              "  'individual': 0.014285714285714285,\n",
              "  'collective': 0.014285714285714285,\n",
              "  'organizational': 0.014285714285714285,\n",
              "  'level': 0.014285714285714285,\n",
              "  'download': 0.014285714285714285,\n",
              "  'use': 0.014285714285714285,\n",
              "  'tree': 0.014285714285714285,\n",
              "  'work': 0.014285714285714285,\n",
              "  'operational': 0.014285714285714285,\n",
              "  '1st': 0.014285714285714285,\n",
              "  'July': 0.02857142857142857,\n",
              "  '7th': 0.014285714285714285},\n",
              " {},\n",
              " {'In': 0.021739130434782608,\n",
              "  'consonance': 0.021739130434782608,\n",
              "  'public': 0.021739130434782608,\n",
              "  'participation': 0.021739130434782608,\n",
              "  ',': 0.10869565217391304,\n",
              "  'Maharashtra': 0.043478260869565216,\n",
              "  'Forest': 0.021739130434782608,\n",
              "  'Department': 0.021739130434782608,\n",
              "  'initiated': 0.021739130434782608,\n",
              "  '‘': 0.043478260869565216,\n",
              "  'Harit': 0.021739130434782608,\n",
              "  'Sena': 0.021739130434782608,\n",
              "  '’': 0.043478260869565216,\n",
              "  '/': 0.021739130434782608,\n",
              "  'Green': 0.043478260869565216,\n",
              "  'Army': 0.043478260869565216,\n",
              "  'body': 0.021739130434782608,\n",
              "  'dedicated': 0.021739130434782608,\n",
              "  'volunteers': 0.021739130434782608,\n",
              "  'participate': 0.021739130434782608,\n",
              "  'plantation': 0.021739130434782608,\n",
              "  'protection': 0.021739130434782608,\n",
              "  'activities': 0.021739130434782608,\n",
              "  'forest': 0.021739130434782608,\n",
              "  'wildlife': 0.021739130434782608,\n",
              "  'related': 0.021739130434782608,\n",
              "  'sectors': 0.021739130434782608,\n",
              "  'around': 0.021739130434782608,\n",
              "  'year': 0.021739130434782608,\n",
              "  '.': 0.021739130434782608,\n",
              "  'Individuals': 0.021739130434782608,\n",
              "  'organisations': 0.021739130434782608,\n",
              "  'interested': 0.021739130434782608,\n",
              "  'volunteering': 0.021739130434782608,\n",
              "  'register': 0.021739130434782608,\n",
              "  'website': 0.021739130434782608,\n",
              "  'www.greenarmy.mahaforest.gov.in': 0.021739130434782608},\n",
              " {},\n",
              " {'An': 0.06666666666666667,\n",
              "  'integrated': 0.06666666666666667,\n",
              "  'drive': 0.06666666666666667,\n",
              "  'set': 0.06666666666666667,\n",
              "  'place': 0.06666666666666667,\n",
              "  'ensure': 0.06666666666666667,\n",
              "  'seamless': 0.06666666666666667,\n",
              "  'successful': 0.06666666666666667,\n",
              "  'participation': 0.06666666666666667,\n",
              "  'stakeholders': 0.06666666666666667,\n",
              "  'society': 0.06666666666666667,\n",
              "  ',': 0.06666666666666667,\n",
              "  'especially': 0.06666666666666667,\n",
              "  'public': 0.06666666666666667,\n",
              "  '.': 0.06666666666666667},\n",
              " {},\n",
              " {}]"
            ]
          },
          "execution_count": 157,
          "metadata": {},
          "output_type": "execute_result"
        }
      ],
      "source": [
        "term_frequency"
      ]
    },
    {
      "cell_type": "code",
      "execution_count": 158,
      "metadata": {
        "id": "7rK3H3fBdcJh"
      },
      "outputs": [],
      "source": [
        "def get_inverse_document_frequency(term_frequency):\n",
        "  document_cnt = len(term_frequency)\n",
        "  inverse_document_frequencies = []\n",
        "  for document in term_frequency:\n",
        "    tokens = list(document.keys())\n",
        "    inverse_document_frequency = {}\n",
        "    for token in tokens:\n",
        "      document_freq=1\n",
        "      for doc in term_frequency:\n",
        "        if(token in doc.keys()):\n",
        "          document_freq+=1\n",
        "      inverse_document_frequency[token] = math.log(document_cnt/document_freq)\n",
        "    inverse_document_frequencies.append(inverse_document_frequency)\n",
        "  return inverse_document_frequencies"
      ]
    },
    {
      "cell_type": "code",
      "execution_count": 159,
      "metadata": {
        "id": "SYL1cN-ou7FP"
      },
      "outputs": [],
      "source": [
        "inverse_document_frequency = get_inverse_document_frequency(term_frequency)"
      ]
    },
    {
      "cell_type": "code",
      "execution_count": 160,
      "metadata": {
        "colab": {
          "base_uri": "https://localhost:8080/"
        },
        "id": "5ZRNFXqUSXIY",
        "outputId": "1fb3cb86-1a09-4a56-86ad-13f003b096a7"
      },
      "outputs": [
        {
          "data": {
            "text/plain": [
              "[{'Between': 2.1400661634962708,\n",
              "  '2016': 1.7346010553881064,\n",
              "  '2019': 1.7346010553881064,\n",
              "  ',': 0.4353180712578455,\n",
              "  'state': 2.1400661634962708,\n",
              "  'forest': 1.2237754316221157,\n",
              "  'department': 1.7346010553881064,\n",
              "  'BJP': 2.1400661634962708,\n",
              "  'government': 1.4469189829363254,\n",
              "  'launched': 2.1400661634962708,\n",
              "  '‘': 1.2237754316221157,\n",
              "  'Green': 1.7346010553881064,\n",
              "  'Maharashtra': 1.4469189829363254,\n",
              "  '’': 1.2237754316221157,\n",
              "  'drive': 1.2237754316221157,\n",
              "  'aim': 1.7346010553881064,\n",
              "  'plant': 1.4469189829363254,\n",
              "  '50': 1.4469189829363254,\n",
              "  'crore': 1.0414538748281612,\n",
              "  'trees': 1.4469189829363254,\n",
              "  'across': 2.1400661634962708,\n",
              "  'four-year': 2.1400661634962708,\n",
              "  'period': 2.1400661634962708,\n",
              "  '.': 0.4353180712578455,\n",
              "  'In': 0.8873031950009027,\n",
              "  'October': 2.1400661634962708,\n",
              "  'claimed': 1.7346010553881064,\n",
              "  'surpassed': 2.1400661634962708,\n",
              "  'target': 1.4469189829363254,\n",
              "  'planting': 1.7346010553881064,\n",
              "  '33': 1.2237754316221157,\n",
              "  'July-September': 2.1400661634962708,\n",
              "  'The': 1.0414538748281612,\n",
              "  'Indian': 2.1400661634962708,\n",
              "  'Express': 2.1400661634962708,\n",
              "  'found': 2.1400661634962708,\n",
              "  'non-forest': 2.1400661634962708,\n",
              "  'agencies': 1.7346010553881064,\n",
              "  '—': 1.4469189829363254,\n",
              "  'gram': 1.7346010553881064,\n",
              "  'panchayats': 1.7346010553881064,\n",
              "  'tasked': 2.1400661634962708,\n",
              "  'uploaded': 1.7346010553881064,\n",
              "  'mandatory': 2.1400661634962708,\n",
              "  'audio-visual': 2.1400661634962708,\n",
              "  'proof': 2.1400661634962708,\n",
              "  'tree': 1.7346010553881064,\n",
              "  'plantation': 0.8873031950009027,\n",
              "  'drives': 2.1400661634962708,\n",
              "  'specially': 2.1400661634962708,\n",
              "  'created': 1.7346010553881064,\n",
              "  'portal': 2.1400661634962708},\n",
              " {'In': 0.8873031950009027,\n",
              "  'Pune': 1.4469189829363254,\n",
              "  'Revenue': 2.1400661634962708,\n",
              "  'Division': 1.7346010553881064,\n",
              "  ',': 0.4353180712578455,\n",
              "  'claimed': 1.7346010553881064,\n",
              "  'gram': 1.7346010553881064,\n",
              "  'panchayats': 1.7346010553881064,\n",
              "  'planted': 1.2237754316221157,\n",
              "  '1.7': 2.1400661634962708,\n",
              "  'crore': 1.0414538748281612,\n",
              "  'saplings': 1.0414538748281612,\n",
              "  ';': 2.1400661634962708,\n",
              "  'however': 2.1400661634962708,\n",
              "  'evidence': 2.1400661634962708,\n",
              "  'uploaded': 1.7346010553881064,\n",
              "  '87': 2.1400661634962708,\n",
              "  'per': 2.1400661634962708,\n",
              "  'cent': 2.1400661634962708,\n",
              "  '(': 2.1400661634962708,\n",
              "  '1.49': 2.1400661634962708,\n",
              "  ')': 2.1400661634962708,\n",
              "  '.': 0.4353180712578455,\n",
              "  'Also': 2.1400661634962708,\n",
              "  '59': 2.1400661634962708,\n",
              "  'government': 1.4469189829363254,\n",
              "  'agencies': 1.7346010553881064,\n",
              "  'involved': 2.1400661634962708,\n",
              "  'drive': 1.2237754316221157,\n",
              "  'many': 2.1400661634962708,\n",
              "  '38': 2.1400661634962708,\n",
              "  'submitted': 2.1400661634962708,\n",
              "  'survival': 2.1400661634962708,\n",
              "  'reports': 2.1400661634962708},\n",
              " {'This': 2.1400661634962708,\n",
              "  'year': 1.4469189829363254,\n",
              "  ',': 0.4353180712578455,\n",
              "  'targets': 2.1400661634962708,\n",
              "  'set': 1.2237754316221157,\n",
              "  'forest': 1.2237754316221157,\n",
              "  'department': 1.7346010553881064,\n",
              "  'comparatively': 2.1400661634962708,\n",
              "  'modest': 2.1400661634962708,\n",
              "  '.': 0.4353180712578455,\n",
              "  'For': 2.1400661634962708,\n",
              "  'example': 2.1400661634962708,\n",
              "  'Pune': 1.4469189829363254,\n",
              "  'Circle': 2.1400661634962708,\n",
              "  '—': 1.4469189829363254,\n",
              "  'comprises': 1.7346010553881064,\n",
              "  'three': 1.7346010553881064,\n",
              "  'divisions': 2.1400661634962708,\n",
              "  'Solapur': 2.1400661634962708,\n",
              "  'district': 2.1400661634962708,\n",
              "  'planned': 2.1400661634962708,\n",
              "  'plant': 1.4469189829363254,\n",
              "  '17': 2.1400661634962708,\n",
              "  'lakh': 1.7346010553881064,\n",
              "  'saplings': 1.0414538748281612,\n",
              "  'land': 2.1400661634962708,\n",
              "  'However': 2.1400661634962708,\n",
              "  'may': 2.1400661634962708,\n",
              "  'meet': 2.1400661634962708,\n",
              "  'target': 1.4469189829363254,\n",
              "  'due': 2.1400661634962708,\n",
              "  'unavailability': 2.1400661634962708,\n",
              "  'funds': 2.1400661634962708,\n",
              "  'Last': 2.1400661634962708,\n",
              "  'planted': 1.2237754316221157,\n",
              "  '70': 2.1400661634962708},\n",
              " {'In': 0.8873031950009027,\n",
              "  'Pune': 1.4469189829363254,\n",
              "  'Division': 1.7346010553881064,\n",
              "  '—': 1.4469189829363254,\n",
              "  'comprises': 1.7346010553881064,\n",
              "  'six': 2.1400661634962708,\n",
              "  'talukas': 2.1400661634962708,\n",
              "  'namely': 2.1400661634962708,\n",
              "  'Maval': 2.1400661634962708,\n",
              "  ',': 0.4353180712578455,\n",
              "  'Mulshi': 2.1400661634962708,\n",
              "  'Daund': 2.1400661634962708,\n",
              "  'Indapur': 2.1400661634962708,\n",
              "  'Baramati': 2.1400661634962708,\n",
              "  'Havveli': 2.1400661634962708,\n",
              "  'preparations': 2.1400661634962708,\n",
              "  'done': 2.1400661634962708,\n",
              "  'plantation': 0.8873031950009027,\n",
              "  '4': 1.2237754316221157,\n",
              "  'lakh': 1.7346010553881064,\n",
              "  'trees': 1.4469189829363254,\n",
              "  'special': 2.1400661634962708,\n",
              "  'emphasis': 2.1400661634962708,\n",
              "  'teakwood': 2.1400661634962708,\n",
              "  '.': 0.4353180712578455},\n",
              " {'The': 1.0414538748281612,\n",
              "  'National': 1.7346010553881064,\n",
              "  'Forest': 1.2237754316221157,\n",
              "  'Policy': 2.1400661634962708,\n",
              "  'aims': 2.1400661634962708,\n",
              "  'emphasizes': 2.1400661634962708,\n",
              "  'maintaining': 2.1400661634962708,\n",
              "  '33': 1.2237754316221157,\n",
              "  '%': 2.1400661634962708,\n",
              "  'country': 2.1400661634962708,\n",
              "  '’': 1.2237754316221157,\n",
              "  'geographical': 2.1400661634962708,\n",
              "  'area': 2.1400661634962708,\n",
              "  'forest': 1.2237754316221157,\n",
              "  'green': 2.1400661634962708,\n",
              "  'cover': 2.1400661634962708,\n",
              "  '.': 0.4353180712578455,\n",
              "  'In': 0.8873031950009027,\n",
              "  'view': 2.1400661634962708,\n",
              "  'part': 2.1400661634962708,\n",
              "  '50': 1.4469189829363254,\n",
              "  'crore': 1.0414538748281612,\n",
              "  'plantation': 0.8873031950009027,\n",
              "  'programme': 1.7346010553881064,\n",
              "  'within': 2.1400661634962708,\n",
              "  'Maharashtra': 1.4469189829363254,\n",
              "  ',': 0.4353180712578455,\n",
              "  'Department': 1.2237754316221157,\n",
              "  'plant': 1.4469189829363254,\n",
              "  '4': 1.2237754316221157,\n",
              "  'saplings': 1.0414538748281612,\n",
              "  'State': 2.1400661634962708,\n",
              "  '1st': 1.2237754316221157,\n",
              "  'July': 1.2237754316221157,\n",
              "  '7th': 1.4469189829363254,\n",
              "  '2017': 1.4469189829363254,\n",
              "  'celebrate': 2.1400661634962708,\n",
              "  '‘': 1.2237754316221157,\n",
              "  'Vanmohotsav': 1.7346010553881064},\n",
              " {},\n",
              " {'The': 1.0414538748281612,\n",
              "  'plantation': 0.8873031950009027,\n",
              "  'programme': 1.7346010553881064,\n",
              "  ',': 0.4353180712578455,\n",
              "  'announced': 2.1400661634962708,\n",
              "  '2016': 1.7346010553881064,\n",
              "  'aim': 1.7346010553881064,\n",
              "  'planting': 1.7346010553881064,\n",
              "  '2': 2.1400661634962708,\n",
              "  'crore': 1.0414538748281612,\n",
              "  'trees': 1.4469189829363254,\n",
              "  '1st': 1.2237754316221157,\n",
              "  'July': 1.2237754316221157,\n",
              "  'resounding': 2.1400661634962708,\n",
              "  'success': 2.1400661634962708,\n",
              "  'final': 2.1400661634962708,\n",
              "  'total': 2.1400661634962708,\n",
              "  'reported': 2.1400661634962708,\n",
              "  'figure': 2.1400661634962708,\n",
              "  '2.82': 2.1400661634962708,\n",
              "  'saplings': 1.0414538748281612,\n",
              "  'planted': 1.2237754316221157,\n",
              "  'single': 2.1400661634962708,\n",
              "  'day': 2.1400661634962708,\n",
              "  '.': 0.4353180712578455,\n",
              "  'To': 2.1400661634962708,\n",
              "  'maintain': 2.1400661634962708,\n",
              "  'consistency': 2.1400661634962708,\n",
              "  'platform': 2.1400661634962708,\n",
              "  'without': 2.1400661634962708,\n",
              "  'affecting': 2.1400661634962708,\n",
              "  'momentum': 2.1400661634962708,\n",
              "  'Forest': 1.2237754316221157,\n",
              "  'Department': 1.2237754316221157,\n",
              "  'set': 1.2237754316221157,\n",
              "  'target': 1.4469189829363254,\n",
              "  '4': 1.2237754316221157,\n",
              "  '13': 2.1400661634962708,\n",
              "  '33': 1.2237754316221157,\n",
              "  'mission': 2.1400661634962708,\n",
              "  '50': 1.4469189829363254,\n",
              "  'shall': 2.1400661634962708,\n",
              "  'accomplished': 2.1400661634962708,\n",
              "  'three': 1.7346010553881064,\n",
              "  'consecutive': 2.1400661634962708,\n",
              "  'years': 2.1400661634962708,\n",
              "  'viz': 2.1400661634962708,\n",
              "  '2017': 1.4469189829363254,\n",
              "  '2018': 2.1400661634962708,\n",
              "  '2019': 1.7346010553881064},\n",
              " {},\n",
              " {'The': 1.0414538748281612,\n",
              "  '4': 1.2237754316221157,\n",
              "  'crore': 1.0414538748281612,\n",
              "  'saplings': 1.0414538748281612,\n",
              "  'year': 1.4469189829363254,\n",
              "  '2017': 1.4469189829363254,\n",
              "  'planted': 1.2237754316221157,\n",
              "  'Vanmohotsav': 1.7346010553881064,\n",
              "  ',': 0.4353180712578455,\n",
              "  'July': 1.2237754316221157,\n",
              "  '1st': 1.2237754316221157,\n",
              "  '7th': 1.4469189829363254,\n",
              "  'state-wide': 2.1400661634962708,\n",
              "  'drive': 1.2237754316221157,\n",
              "  'involvement': 2.1400661634962708,\n",
              "  '33': 1.2237754316221157,\n",
              "  'government': 1.4469189829363254,\n",
              "  'departments': 2.1400661634962708,\n",
              "  'along': 2.1400661634962708,\n",
              "  'Students': 2.1400661634962708,\n",
              "  'Schools': 2.1400661634962708,\n",
              "  'Colleges': 2.1400661634962708,\n",
              "  'NSS': 2.1400661634962708,\n",
              "  'NCC': 2.1400661634962708,\n",
              "  'CSR': 2.1400661634962708,\n",
              "  'NGOs': 2.1400661634962708,\n",
              "  'Railways': 2.1400661634962708,\n",
              "  'National': 1.7346010553881064,\n",
              "  'Highways': 2.1400661634962708,\n",
              "  'Defence': 2.1400661634962708,\n",
              "  'NABARD': 2.1400661634962708,\n",
              "  'stakeholders': 1.7346010553881064,\n",
              "  'Society': 2.1400661634962708,\n",
              "  '.': 0.4353180712578455},\n",
              " {},\n",
              " {'In': 0.8873031950009027,\n",
              "  'first': 2.1400661634962708,\n",
              "  'kind': 2.1400661634962708,\n",
              "  ',': 0.4353180712578455,\n",
              "  '24-hour': 2.1400661634962708,\n",
              "  'toll': 2.1400661634962708,\n",
              "  'free': 2.1400661634962708,\n",
              "  'helpline': 2.1400661634962708,\n",
              "  'number': 2.1400661634962708,\n",
              "  '1926': 2.1400661634962708,\n",
              "  'called': 2.1400661634962708,\n",
              "  '‘': 1.2237754316221157,\n",
              "  'Hello': 2.1400661634962708,\n",
              "  'Forest': 1.2237754316221157,\n",
              "  '’': 1.2237754316221157,\n",
              "  'set': 1.2237754316221157,\n",
              "  'provide': 2.1400661634962708,\n",
              "  'information': 2.1400661634962708,\n",
              "  'regarding': 2.1400661634962708,\n",
              "  'plantation': 0.8873031950009027,\n",
              "  'protection': 1.7346010553881064,\n",
              "  'mass': 2.1400661634962708,\n",
              "  'awareness': 2.1400661634962708,\n",
              "  '.': 0.4353180712578455,\n",
              "  'The': 1.0414538748281612,\n",
              "  'Department': 1.2237754316221157,\n",
              "  'created': 1.7346010553881064,\n",
              "  'mobile': 2.1400661634962708,\n",
              "  'application': 2.1400661634962708,\n",
              "  'My': 2.1400661634962708,\n",
              "  'Plants': 2.1400661634962708,\n",
              "  'record': 2.1400661634962708,\n",
              "  'details': 2.1400661634962708,\n",
              "  'numbers': 2.1400661634962708,\n",
              "  'species': 2.1400661634962708,\n",
              "  'location': 2.1400661634962708,\n",
              "  'computer': 2.1400661634962708,\n",
              "  'system': 2.1400661634962708,\n",
              "  'All': 2.1400661634962708,\n",
              "  'volunteers': 1.7346010553881064,\n",
              "  'individual': 2.1400661634962708,\n",
              "  'collective': 2.1400661634962708,\n",
              "  'organizational': 2.1400661634962708,\n",
              "  'level': 2.1400661634962708,\n",
              "  'download': 2.1400661634962708,\n",
              "  'use': 2.1400661634962708,\n",
              "  'tree': 1.7346010553881064,\n",
              "  'work': 2.1400661634962708,\n",
              "  'operational': 2.1400661634962708,\n",
              "  '1st': 1.2237754316221157,\n",
              "  'July': 1.2237754316221157,\n",
              "  '7th': 1.4469189829363254},\n",
              " {},\n",
              " {'In': 0.8873031950009027,\n",
              "  'consonance': 2.1400661634962708,\n",
              "  'public': 1.7346010553881064,\n",
              "  'participation': 1.7346010553881064,\n",
              "  ',': 0.4353180712578455,\n",
              "  'Maharashtra': 1.4469189829363254,\n",
              "  'Forest': 1.2237754316221157,\n",
              "  'Department': 1.2237754316221157,\n",
              "  'initiated': 2.1400661634962708,\n",
              "  '‘': 1.2237754316221157,\n",
              "  'Harit': 2.1400661634962708,\n",
              "  'Sena': 2.1400661634962708,\n",
              "  '’': 1.2237754316221157,\n",
              "  '/': 2.1400661634962708,\n",
              "  'Green': 1.7346010553881064,\n",
              "  'Army': 2.1400661634962708,\n",
              "  'body': 2.1400661634962708,\n",
              "  'dedicated': 2.1400661634962708,\n",
              "  'volunteers': 1.7346010553881064,\n",
              "  'participate': 2.1400661634962708,\n",
              "  'plantation': 0.8873031950009027,\n",
              "  'protection': 1.7346010553881064,\n",
              "  'activities': 2.1400661634962708,\n",
              "  'forest': 1.2237754316221157,\n",
              "  'wildlife': 2.1400661634962708,\n",
              "  'related': 2.1400661634962708,\n",
              "  'sectors': 2.1400661634962708,\n",
              "  'around': 2.1400661634962708,\n",
              "  'year': 1.4469189829363254,\n",
              "  '.': 0.4353180712578455,\n",
              "  'Individuals': 2.1400661634962708,\n",
              "  'organisations': 2.1400661634962708,\n",
              "  'interested': 2.1400661634962708,\n",
              "  'volunteering': 2.1400661634962708,\n",
              "  'register': 2.1400661634962708,\n",
              "  'website': 2.1400661634962708,\n",
              "  'www.greenarmy.mahaforest.gov.in': 2.1400661634962708},\n",
              " {},\n",
              " {'An': 2.1400661634962708,\n",
              "  'integrated': 2.1400661634962708,\n",
              "  'drive': 1.2237754316221157,\n",
              "  'set': 1.2237754316221157,\n",
              "  'place': 2.1400661634962708,\n",
              "  'ensure': 2.1400661634962708,\n",
              "  'seamless': 2.1400661634962708,\n",
              "  'successful': 2.1400661634962708,\n",
              "  'participation': 1.7346010553881064,\n",
              "  'stakeholders': 1.7346010553881064,\n",
              "  'society': 2.1400661634962708,\n",
              "  ',': 0.4353180712578455,\n",
              "  'especially': 2.1400661634962708,\n",
              "  'public': 1.7346010553881064,\n",
              "  '.': 0.4353180712578455},\n",
              " {},\n",
              " {}]"
            ]
          },
          "execution_count": 160,
          "metadata": {},
          "output_type": "execute_result"
        }
      ],
      "source": [
        "inverse_document_frequency"
      ]
    },
    {
      "cell_type": "code",
      "execution_count": 161,
      "metadata": {
        "id": "OC_qXk3HvAjF"
      },
      "outputs": [],
      "source": [
        "def get_TF_IDF(term_frequency,inverse_document_frequency):\n",
        "  n = len(term_frequency)\n",
        "  tf_idfs = []\n",
        "  for i in range (n):\n",
        "    tokens = list(term_frequency[i].keys())\n",
        "    tf_idf={}\n",
        "    for token in tokens:\n",
        "      tf_idf[token] = term_frequency[i][token] * inverse_document_frequency[i][token]\n",
        "    tf_idfs.append(tf_idf)\n",
        "  return tf_idfs"
      ]
    },
    {
      "cell_type": "code",
      "execution_count": 162,
      "metadata": {
        "id": "-zd02aK4FVAA"
      },
      "outputs": [],
      "source": [
        "tf_idf = get_TF_IDF(term_frequency,inverse_document_frequency)"
      ]
    },
    {
      "cell_type": "code",
      "execution_count": 163,
      "metadata": {
        "colab": {
          "base_uri": "https://localhost:8080/"
        },
        "id": "C_d8IMWJFekD",
        "outputId": "57065d4a-82d8-4383-bb60-4d5b302123d0"
      },
      "outputs": [
        {
          "data": {
            "text/plain": [
              "[{'Between': 0.03343853380462923,\n",
              "  '2016': 0.027103141490439162,\n",
              "  '2019': 0.08130942447131749,\n",
              "  ',': 0.013603689726807672,\n",
              "  'state': 0.06687706760925846,\n",
              "  'forest': 0.019121491119095557,\n",
              "  'department': 0.027103141490439162,\n",
              "  'BJP': 0.03343853380462923,\n",
              "  'government': 0.04521621821676017,\n",
              "  'launched': 0.03343853380462923,\n",
              "  '‘': 0.019121491119095557,\n",
              "  'Green': 0.027103141490439162,\n",
              "  'Maharashtra': 0.022608109108380084,\n",
              "  '’': 0.019121491119095557,\n",
              "  'drive': 0.019121491119095557,\n",
              "  'aim': 0.027103141490439162,\n",
              "  'plant': 0.022608109108380084,\n",
              "  '50': 0.022608109108380084,\n",
              "  'crore': 0.03254543358838004,\n",
              "  'trees': 0.06782432732514025,\n",
              "  'across': 0.03343853380462923,\n",
              "  'four-year': 0.03343853380462923,\n",
              "  'period': 0.03343853380462923,\n",
              "  '.': 0.020405534590211508,\n",
              "  'In': 0.013864112421889105,\n",
              "  'October': 0.03343853380462923,\n",
              "  'claimed': 0.027103141490439162,\n",
              "  'surpassed': 0.03343853380462923,\n",
              "  'target': 0.022608109108380084,\n",
              "  'planting': 0.054206282980878324,\n",
              "  '33': 0.019121491119095557,\n",
              "  'July-September': 0.03343853380462923,\n",
              "  'The': 0.01627271679419002,\n",
              "  'Indian': 0.03343853380462923,\n",
              "  'Express': 0.03343853380462923,\n",
              "  'found': 0.03343853380462923,\n",
              "  'non-forest': 0.03343853380462923,\n",
              "  'agencies': 0.027103141490439162,\n",
              "  '—': 0.04521621821676017,\n",
              "  'gram': 0.027103141490439162,\n",
              "  'panchayats': 0.027103141490439162,\n",
              "  'tasked': 0.03343853380462923,\n",
              "  'uploaded': 0.027103141490439162,\n",
              "  'mandatory': 0.03343853380462923,\n",
              "  'audio-visual': 0.03343853380462923,\n",
              "  'proof': 0.03343853380462923,\n",
              "  'tree': 0.027103141490439162,\n",
              "  'plantation': 0.013864112421889105,\n",
              "  'drives': 0.03343853380462923,\n",
              "  'specially': 0.03343853380462923,\n",
              "  'created': 0.027103141490439162,\n",
              "  'portal': 0.03343853380462923},\n",
              " {'In': 0.02218257987502257,\n",
              "  'Pune': 0.03617297457340814,\n",
              "  'Revenue': 0.05350165408740677,\n",
              "  'Division': 0.04336502638470266,\n",
              "  ',': 0.03264885534433841,\n",
              "  'claimed': 0.04336502638470266,\n",
              "  'gram': 0.04336502638470266,\n",
              "  'panchayats': 0.04336502638470266,\n",
              "  'planted': 0.030594385790552892,\n",
              "  '1.7': 0.05350165408740677,\n",
              "  'crore': 0.05207269374140806,\n",
              "  'saplings': 0.07810904061211209,\n",
              "  ';': 0.05350165408740677,\n",
              "  'however': 0.05350165408740677,\n",
              "  'evidence': 0.05350165408740677,\n",
              "  'uploaded': 0.04336502638470266,\n",
              "  '87': 0.05350165408740677,\n",
              "  'per': 0.05350165408740677,\n",
              "  'cent': 0.05350165408740677,\n",
              "  '(': 0.05350165408740677,\n",
              "  '1.49': 0.05350165408740677,\n",
              "  ')': 0.05350165408740677,\n",
              "  '.': 0.021765903562892278,\n",
              "  'Also': 0.05350165408740677,\n",
              "  '59': 0.05350165408740677,\n",
              "  'government': 0.03617297457340814,\n",
              "  'agencies': 0.04336502638470266,\n",
              "  'involved': 0.05350165408740677,\n",
              "  'drive': 0.030594385790552892,\n",
              "  'many': 0.05350165408740677,\n",
              "  '38': 0.05350165408740677,\n",
              "  'submitted': 0.05350165408740677,\n",
              "  'survival': 0.05350165408740677,\n",
              "  'reports': 0.05350165408740677},\n",
              " {'This': 0.04196208163718178,\n",
              "  'year': 0.05674192089946374,\n",
              "  ',': 0.025606945368108557,\n",
              "  'targets': 0.04196208163718178,\n",
              "  'set': 0.023995596698472857,\n",
              "  'forest': 0.07198679009541857,\n",
              "  'department': 0.03401178539976679,\n",
              "  'comparatively': 0.04196208163718178,\n",
              "  'modest': 0.04196208163718178,\n",
              "  '.': 0.034142593824144744,\n",
              "  'For': 0.04196208163718178,\n",
              "  'example': 0.04196208163718178,\n",
              "  'Pune': 0.0851128813491956,\n",
              "  'Circle': 0.08392416327436356,\n",
              "  '—': 0.05674192089946374,\n",
              "  'comprises': 0.03401178539976679,\n",
              "  'three': 0.03401178539976679,\n",
              "  'divisions': 0.04196208163718178,\n",
              "  'Solapur': 0.04196208163718178,\n",
              "  'district': 0.04196208163718178,\n",
              "  'planned': 0.04196208163718178,\n",
              "  'plant': 0.02837096044973187,\n",
              "  '17': 0.04196208163718178,\n",
              "  'lakh': 0.06802357079953358,\n",
              "  'saplings': 0.040841328424633776,\n",
              "  'land': 0.08392416327436356,\n",
              "  'However': 0.04196208163718178,\n",
              "  'may': 0.04196208163718178,\n",
              "  'meet': 0.04196208163718178,\n",
              "  'target': 0.02837096044973187,\n",
              "  'due': 0.04196208163718178,\n",
              "  'unavailability': 0.04196208163718178,\n",
              "  'funds': 0.04196208163718178,\n",
              "  'Last': 0.04196208163718178,\n",
              "  'planted': 0.023995596698472857,\n",
              "  '70': 0.04196208163718178},\n",
              " {'In': 0.03059666189658285,\n",
              "  'Pune': 0.04989375803228708,\n",
              "  'Division': 0.0598138294961416,\n",
              "  '—': 0.09978751606457416,\n",
              "  'comprises': 0.0598138294961416,\n",
              "  'six': 0.07379538494814726,\n",
              "  'talukas': 0.07379538494814726,\n",
              "  'namely': 0.07379538494814726,\n",
              "  'Maval': 0.07379538494814726,\n",
              "  ',': 0.06004387189763386,\n",
              "  'Mulshi': 0.07379538494814726,\n",
              "  'Daund': 0.07379538494814726,\n",
              "  'Indapur': 0.07379538494814726,\n",
              "  'Baramati': 0.07379538494814726,\n",
              "  'Havveli': 0.07379538494814726,\n",
              "  'preparations': 0.07379538494814726,\n",
              "  'done': 0.07379538494814726,\n",
              "  'plantation': 0.03059666189658285,\n",
              "  '4': 0.04219915281455571,\n",
              "  'lakh': 0.0598138294961416,\n",
              "  'trees': 0.04989375803228708,\n",
              "  'special': 0.07379538494814726,\n",
              "  'emphasis': 0.07379538494814726,\n",
              "  'teakwood': 0.07379538494814726,\n",
              "  '.': 0.015010967974408465},\n",
              " {'The': 0.022640301626699156,\n",
              "  'National': 0.03770871859539362,\n",
              "  'Forest': 0.053207627461831115,\n",
              "  'Policy': 0.04652317746731023,\n",
              "  'aims': 0.09304635493462046,\n",
              "  'emphasizes': 0.04652317746731023,\n",
              "  'maintaining': 0.04652317746731023,\n",
              "  '33': 0.026603813730915558,\n",
              "  '%': 0.04652317746731023,\n",
              "  'country': 0.04652317746731023,\n",
              "  '’': 0.053207627461831115,\n",
              "  'geographical': 0.04652317746731023,\n",
              "  'area': 0.04652317746731023,\n",
              "  'forest': 0.026603813730915558,\n",
              "  'green': 0.04652317746731023,\n",
              "  'cover': 0.04652317746731023,\n",
              "  '.': 0.018926872663384588,\n",
              "  'In': 0.019289199891323973,\n",
              "  'view': 0.04652317746731023,\n",
              "  'part': 0.04652317746731023,\n",
              "  '50': 0.031454760498615765,\n",
              "  'crore': 0.04528060325339831,\n",
              "  'plantation': 0.019289199891323973,\n",
              "  'programme': 0.03770871859539362,\n",
              "  'within': 0.04652317746731023,\n",
              "  'Maharashtra': 0.06290952099723153,\n",
              "  ',': 0.018926872663384588,\n",
              "  'Department': 0.026603813730915558,\n",
              "  'plant': 0.031454760498615765,\n",
              "  '4': 0.026603813730915558,\n",
              "  'saplings': 0.022640301626699156,\n",
              "  'State': 0.04652317746731023,\n",
              "  '1st': 0.026603813730915558,\n",
              "  'July': 0.026603813730915558,\n",
              "  '7th': 0.031454760498615765,\n",
              "  '2017': 0.031454760498615765,\n",
              "  'celebrate': 0.04652317746731023,\n",
              "  '‘': 0.026603813730915558,\n",
              "  'Vanmohotsav': 0.03770871859539362},\n",
              " {},\n",
              " {'The': 0.01627271679419002,\n",
              "  'plantation': 0.041592337265667315,\n",
              "  'programme': 0.027103141490439162,\n",
              "  ',': 0.027207379453615343,\n",
              "  'announced': 0.03343853380462923,\n",
              "  '2016': 0.054206282980878324,\n",
              "  'aim': 0.027103141490439162,\n",
              "  'planting': 0.027103141490439162,\n",
              "  '2': 0.03343853380462923,\n",
              "  'crore': 0.09763630076514011,\n",
              "  'trees': 0.022608109108380084,\n",
              "  '1st': 0.019121491119095557,\n",
              "  'July': 0.019121491119095557,\n",
              "  'resounding': 0.03343853380462923,\n",
              "  'success': 0.03343853380462923,\n",
              "  'final': 0.03343853380462923,\n",
              "  'total': 0.03343853380462923,\n",
              "  'reported': 0.03343853380462923,\n",
              "  'figure': 0.03343853380462923,\n",
              "  '2.82': 0.03343853380462923,\n",
              "  'saplings': 0.03254543358838004,\n",
              "  'planted': 0.019121491119095557,\n",
              "  'single': 0.03343853380462923,\n",
              "  'day': 0.03343853380462923,\n",
              "  '.': 0.020405534590211508,\n",
              "  'To': 0.03343853380462923,\n",
              "  'maintain': 0.03343853380462923,\n",
              "  'consistency': 0.03343853380462923,\n",
              "  'platform': 0.03343853380462923,\n",
              "  'without': 0.03343853380462923,\n",
              "  'affecting': 0.03343853380462923,\n",
              "  'momentum': 0.03343853380462923,\n",
              "  'Forest': 0.019121491119095557,\n",
              "  'Department': 0.019121491119095557,\n",
              "  'set': 0.019121491119095557,\n",
              "  'target': 0.022608109108380084,\n",
              "  '4': 0.019121491119095557,\n",
              "  '13': 0.03343853380462923,\n",
              "  '33': 0.019121491119095557,\n",
              "  'mission': 0.03343853380462923,\n",
              "  '50': 0.022608109108380084,\n",
              "  'shall': 0.03343853380462923,\n",
              "  'accomplished': 0.03343853380462923,\n",
              "  'three': 0.027103141490439162,\n",
              "  'consecutive': 0.03343853380462923,\n",
              "  'years': 0.03343853380462923,\n",
              "  'viz': 0.03343853380462923,\n",
              "  '2017': 0.022608109108380084,\n",
              "  '2018': 0.03343853380462923,\n",
              "  '2019': 0.027103141490439162},\n",
              " {},\n",
              " {'The': 0.024219857554143284,\n",
              "  '4': 0.02845989375865385,\n",
              "  'crore': 0.024219857554143284,\n",
              "  'saplings': 0.024219857554143284,\n",
              "  'year': 0.0336492786729378,\n",
              "  '2017': 0.0336492786729378,\n",
              "  'planted': 0.02845989375865385,\n",
              "  'Vanmohotsav': 0.04033955942763038,\n",
              "  ',': 0.09111308468187464,\n",
              "  'July': 0.0569197875173077,\n",
              "  '1st': 0.02845989375865385,\n",
              "  '7th': 0.0336492786729378,\n",
              "  'state-wide': 0.0497689805464249,\n",
              "  'drive': 0.02845989375865385,\n",
              "  'involvement': 0.0497689805464249,\n",
              "  '33': 0.02845989375865385,\n",
              "  'government': 0.0336492786729378,\n",
              "  'departments': 0.0497689805464249,\n",
              "  'along': 0.0497689805464249,\n",
              "  'Students': 0.0497689805464249,\n",
              "  'Schools': 0.0497689805464249,\n",
              "  'Colleges': 0.0497689805464249,\n",
              "  'NSS': 0.0497689805464249,\n",
              "  'NCC': 0.0497689805464249,\n",
              "  'CSR': 0.0497689805464249,\n",
              "  'NGOs': 0.0497689805464249,\n",
              "  'Railways': 0.0497689805464249,\n",
              "  'National': 0.04033955942763038,\n",
              "  'Highways': 0.0497689805464249,\n",
              "  'Defence': 0.0497689805464249,\n",
              "  'NABARD': 0.0497689805464249,\n",
              "  'stakeholders': 0.04033955942763038,\n",
              "  'Society': 0.0497689805464249,\n",
              "  '.': 0.010123676075763848},\n",
              " {},\n",
              " {'In': 0.012675759928584324,\n",
              "  'first': 0.030572373764232438,\n",
              "  'kind': 0.030572373764232438,\n",
              "  ',': 0.031094147946988962,\n",
              "  '24-hour': 0.030572373764232438,\n",
              "  'toll': 0.030572373764232438,\n",
              "  'free': 0.030572373764232438,\n",
              "  'helpline': 0.030572373764232438,\n",
              "  'number': 0.030572373764232438,\n",
              "  '1926': 0.030572373764232438,\n",
              "  'called': 0.061144747528464875,\n",
              "  '‘': 0.034965012332060445,\n",
              "  'Hello': 0.030572373764232438,\n",
              "  'Forest': 0.05244751849809067,\n",
              "  '’': 0.034965012332060445,\n",
              "  'set': 0.017482506166030223,\n",
              "  'provide': 0.030572373764232438,\n",
              "  'information': 0.030572373764232438,\n",
              "  'regarding': 0.030572373764232438,\n",
              "  'plantation': 0.038027279785752974,\n",
              "  'protection': 0.024780015076972948,\n",
              "  'mass': 0.030572373764232438,\n",
              "  'awareness': 0.030572373764232438,\n",
              "  '.': 0.01865648876819338,\n",
              "  'The': 0.01487791249754516,\n",
              "  'Department': 0.034965012332060445,\n",
              "  'created': 0.024780015076972948,\n",
              "  'mobile': 0.030572373764232438,\n",
              "  'application': 0.09171712129269732,\n",
              "  'My': 0.030572373764232438,\n",
              "  'Plants': 0.030572373764232438,\n",
              "  'record': 0.061144747528464875,\n",
              "  'details': 0.030572373764232438,\n",
              "  'numbers': 0.030572373764232438,\n",
              "  'species': 0.030572373764232438,\n",
              "  'location': 0.030572373764232438,\n",
              "  'computer': 0.030572373764232438,\n",
              "  'system': 0.030572373764232438,\n",
              "  'All': 0.030572373764232438,\n",
              "  'volunteers': 0.024780015076972948,\n",
              "  'individual': 0.030572373764232438,\n",
              "  'collective': 0.030572373764232438,\n",
              "  'organizational': 0.030572373764232438,\n",
              "  'level': 0.030572373764232438,\n",
              "  'download': 0.030572373764232438,\n",
              "  'use': 0.030572373764232438,\n",
              "  'tree': 0.024780015076972948,\n",
              "  'work': 0.030572373764232438,\n",
              "  'operational': 0.030572373764232438,\n",
              "  '1st': 0.017482506166030223,\n",
              "  'July': 0.034965012332060445,\n",
              "  '7th': 0.020670271184804648},\n",
              " {},\n",
              " {'In': 0.019289199891323973,\n",
              "  'consonance': 0.04652317746731023,\n",
              "  'public': 0.03770871859539362,\n",
              "  'participation': 0.03770871859539362,\n",
              "  ',': 0.047317181658461466,\n",
              "  'Maharashtra': 0.06290952099723153,\n",
              "  'Forest': 0.026603813730915558,\n",
              "  'Department': 0.026603813730915558,\n",
              "  'initiated': 0.04652317746731023,\n",
              "  '‘': 0.053207627461831115,\n",
              "  'Harit': 0.04652317746731023,\n",
              "  'Sena': 0.04652317746731023,\n",
              "  '’': 0.053207627461831115,\n",
              "  '/': 0.04652317746731023,\n",
              "  'Green': 0.07541743719078724,\n",
              "  'Army': 0.09304635493462046,\n",
              "  'body': 0.04652317746731023,\n",
              "  'dedicated': 0.04652317746731023,\n",
              "  'volunteers': 0.03770871859539362,\n",
              "  'participate': 0.04652317746731023,\n",
              "  'plantation': 0.019289199891323973,\n",
              "  'protection': 0.03770871859539362,\n",
              "  'activities': 0.04652317746731023,\n",
              "  'forest': 0.026603813730915558,\n",
              "  'wildlife': 0.04652317746731023,\n",
              "  'related': 0.04652317746731023,\n",
              "  'sectors': 0.04652317746731023,\n",
              "  'around': 0.04652317746731023,\n",
              "  'year': 0.031454760498615765,\n",
              "  '.': 0.009463436331692294,\n",
              "  'Individuals': 0.04652317746731023,\n",
              "  'organisations': 0.04652317746731023,\n",
              "  'interested': 0.04652317746731023,\n",
              "  'volunteering': 0.04652317746731023,\n",
              "  'register': 0.04652317746731023,\n",
              "  'website': 0.04652317746731023,\n",
              "  'www.greenarmy.mahaforest.gov.in': 0.04652317746731023},\n",
              " {},\n",
              " {'An': 0.14267107756641806,\n",
              "  'integrated': 0.14267107756641806,\n",
              "  'drive': 0.08158502877480771,\n",
              "  'set': 0.08158502877480771,\n",
              "  'place': 0.14267107756641806,\n",
              "  'ensure': 0.14267107756641806,\n",
              "  'seamless': 0.14267107756641806,\n",
              "  'successful': 0.14267107756641806,\n",
              "  'participation': 0.11564007035920709,\n",
              "  'stakeholders': 0.11564007035920709,\n",
              "  'society': 0.14267107756641806,\n",
              "  ',': 0.02902120475052303,\n",
              "  'especially': 0.14267107756641806,\n",
              "  'public': 0.11564007035920709,\n",
              "  '.': 0.02902120475052303},\n",
              " {},\n",
              " {}]"
            ]
          },
          "execution_count": 163,
          "metadata": {},
          "output_type": "execute_result"
        }
      ],
      "source": [
        "tf_idf"
      ]
    },
    {
      "cell_type": "code",
      "execution_count": null,
      "metadata": {
        "id": "jh3U2G44YZcM"
      },
      "outputs": [],
      "source": []
    }
  ],
  "metadata": {
    "colab": {
      "provenance": []
    },
    "kernelspec": {
      "display_name": "Python 3",
      "name": "python3"
    },
    "language_info": {
      "codemirror_mode": {
        "name": "ipython",
        "version": 3
      },
      "file_extension": ".py",
      "mimetype": "text/x-python",
      "name": "python",
      "nbconvert_exporter": "python",
      "pygments_lexer": "ipython3",
      "version": "3.10.13"
    }
  },
  "nbformat": 4,
  "nbformat_minor": 0
}
